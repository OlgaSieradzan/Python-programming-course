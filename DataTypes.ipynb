{
 "cells": [
  {
   "cell_type": "code",
   "execution_count": 1,
   "metadata": {},
   "outputs": [],
   "source": [
    "import pandas as pd\n",
    "import numpy as np\n",
    "import matplotlib.pyplot as plt\n",
    "from matplotlib.ticker import FuncFormatter\n",
    "from matplotlib.lines import Line2D"
   ]
  },
  {
   "cell_type": "markdown",
   "metadata": {},
   "source": [
    "## Introduction: Data Types and Operations Overview\n",
    "\n",
    "### Common Data Types Covered\n",
    "\n",
    "1. **String (`str`)**\n",
    "   - A sequence of characters enclosed in quotes (`\" \"` or `' '`).\n",
    "   - Strings are immutable, meaning their content cannot be changed after creation.\n",
    "   - Useful for storing and manipulating text data.\n",
    "   - Common operations:\n",
    "     - Indexing and slicing (extracting substrings).\n",
    "     - Concatenation (joining strings).\n",
    "     - Reversing.\n",
    "     - Searching and replacing.\n",
    "   \n",
    "2. **Tuple (`tuple`)**\n",
    "   - An ordered, immutable collection of elements, defined by parentheses `()`.\n",
    "   - Can contain elements of different types, including nested tuples or lists.\n",
    "   - Tuples are often used for grouping related data that should not change.\n",
    "   - Common operations:\n",
    "     - Access by index.\n",
    "     - Nesting and unpacking.\n",
    "     - Reversing (via conversion to list).\n",
    "   \n",
    "3. **List (`list`)**\n",
    "   - An ordered, mutable collection of elements, defined by square brackets `[]`.\n",
    "   - Lists can store mixed data types and allow modification: adding, removing, or changing elements.\n",
    "   - Widely used for dynamic collections of data.\n",
    "   - Common operations:\n",
    "     - Sorting.\n",
    "     - Appending or extending.\n",
    "     - Indexing and slicing.\n",
    "     - Counting elements that meet specific criteria.\n",
    "   \n",
    "4. **Set (`set`)**\n",
    "   - An unordered collection of unique elements, defined by curly braces `{}` or the `set()` constructor.\n",
    "   - Useful for membership testing, removing duplicates, and performing set operations (union, intersection).\n",
    "   - Common operations:\n",
    "     - Adding elements.\n",
    "     - Checking membership.\n",
    "     - Mathematical set operations.\n",
    "\n",
    "5. **Dictionary (`dict`)**\n",
    "   - A collection of key-value pairs, defined by curly braces `{}` with keys and values separated by colons.\n",
    "   - Keys must be immutable types (like strings, numbers, or tuples).\n",
    "   - Dictionaries are unordered (in Python versions before 3.7) or insertion ordered (3.7+).\n",
    "   - Extremely useful for mapping and quick lookups.\n",
    "   - Common operations:\n",
    "     - Adding, updating, and removing key-value pairs.\n",
    "     - Accessing values by keys.\n",
    "     - Iterating over keys, values, or items.\n",
    "\n",
    "6. **Basic Numeric Types**\n",
    "   - **Integer (`int`)**: Whole numbers.\n",
    "   - Operations include arithmetic (+, -, *, /), division with remainder, and floor division.\n",
    "   - Used for counting, indexing, and arithmetic calculations.\n",
    "   \n",
    "### Why These Data Types Matter\n",
    "\n",
    "- **Strings** allow manipulation of text — essential for input/output, data processing, and formatting.\n",
    "- **Tuples** provide a lightweight, immutable data structure useful for fixed collections and keys in dictionaries.\n",
    "- **Lists** are versatile and essential for dynamic data management, storing sequences that can be updated.\n",
    "- **Sets** help with operations where uniqueness matters and efficient membership testing is needed.\n",
    "- **Dictionaries** enable efficient mapping between unique keys and values, ideal for lookups, data storage, and structured data.\n",
    "- **Numbers** are the foundation of all calculations and logic.\n",
    "\n",
    "### Common Operations Illustrated\n",
    "\n",
    "- Extracting parts of strings (slicing substrings).\n",
    "- Combining strings.\n",
    "- Reversing sequences (strings, tuples).\n",
    "- Accessing nested data.\n",
    "- Sorting and counting elements in collections.\n",
    "- Conditional logic based on numeric or string properties.\n",
    "- Converting between data types to leverage different properties (e.g., tuple to list for reversal).\n",
    "- Creating and using dictionaries to associate and retrieve data via keys.\n",
    "\n",
    "***\n"
   ]
  },
  {
   "cell_type": "markdown",
   "metadata": {},
   "source": [
    "### EXERCISE #1\n",
    "\n",
    "* Given a string of any length, return a substring consisting of the three middle characters of the given string:\n",
    "\n",
    "  * Case 1:\n",
    "    * `sample_str = \"Datatypes\"`\n",
    "    * Expected result: `aty`\n",
    "  \n",
    "  * Case 2:\n",
    "    * `sample_str = \"FullStack\"`\n",
    "    * Expected result: `lSt`\n",
    "  \n",
    "  * Case 3:\n",
    "    * `sample_str = \"Python\"`\n",
    "    * Expected result: `yth` or `tho`"
   ]
  },
  {
   "cell_type": "code",
   "execution_count": 2,
   "metadata": {},
   "outputs": [
    {
     "data": {
      "text/plain": [
       "'Oryginalny wyraz: DataTypes, Środkowe 3 litery aTy'"
      ]
     },
     "execution_count": 2,
     "metadata": {},
     "output_type": "execute_result"
    }
   ],
   "source": [
    "def substring (s):\n",
    "    mid_index = round(int(len(s) / 2),0)\n",
    "    substring = s[mid_index-1:mid_index+2]\n",
    "    return(\"Oryginalny wyraz: \"+ s + \", Środkowe 3 litery \" + substring )\n",
    "\n",
    "substring(\"DataTypes\")"
   ]
  },
  {
   "cell_type": "code",
   "execution_count": 3,
   "metadata": {},
   "outputs": [
    {
     "data": {
      "text/plain": [
       "'Oryginalny wyraz: FullStack, Środkowe 3 litery lSt'"
      ]
     },
     "execution_count": 3,
     "metadata": {},
     "output_type": "execute_result"
    }
   ],
   "source": [
    "substring(\"FullStack\")"
   ]
  },
  {
   "cell_type": "code",
   "execution_count": 4,
   "metadata": {},
   "outputs": [
    {
     "data": {
      "text/plain": [
       "'Oryginalny wyraz: Python, Środkowe 3 litery tho'"
      ]
     },
     "execution_count": 4,
     "metadata": {},
     "output_type": "execute_result"
    }
   ],
   "source": [
    "substring(\"Python\")"
   ]
  },
  {
   "cell_type": "markdown",
   "metadata": {},
   "source": [
    "### EXERCISE #2\n",
    "\n",
    "* Given two strings, `s1` and `s2`, create a new string by inserting `s2` into the middle of `s1`.\n",
    "* Data:\n",
    "  * `s1 = \"FullStack\"`\n",
    "  * `s2 = \"Python\"`\n",
    "* Expected result:  \n",
    "  `FullPythonStack`"
   ]
  },
  {
   "cell_type": "code",
   "execution_count": 5,
   "metadata": {},
   "outputs": [],
   "source": [
    "def stringmerge (s1, s2):\n",
    "    mid_index = round(int(len(s1) / 2),0)\n",
    "    result = s1[:mid_index] + s2 + s1[mid_index:]\n",
    "    return (\"Oryginalne wyrazy: \"+ s1 +\" \"+ s2 + \", Połączone \" + result )"
   ]
  },
  {
   "cell_type": "code",
   "execution_count": 6,
   "metadata": {},
   "outputs": [
    {
     "data": {
      "text/plain": [
       "'Oryginalne wyrazy: FullStack Python, Połączone FullPythonStack'"
      ]
     },
     "execution_count": 6,
     "metadata": {},
     "output_type": "execute_result"
    }
   ],
   "source": [
    "stringmerge(\"FullStack\", \"Python\")"
   ]
  },
  {
   "cell_type": "markdown",
   "metadata": {},
   "source": [
    "### EXERCISE #3\n",
    "\n",
    "* Given two strings, `s1` and `s2`, return a new string made of the first, middle, and last character of each input string.\n",
    "* Data:\n",
    "  * `s1 = \"America\"`\n",
    "  * `s2 = \"Japan\"`\n",
    "* Expected result:  \n",
    "  `AJrpan`"
   ]
  },
  {
   "cell_type": "code",
   "execution_count": 7,
   "metadata": {},
   "outputs": [],
   "source": [
    "def substringv2 (s1,s2):\n",
    "    result = s1[0]+s2[0]+s1[len(s1)//2]+s2[len(s2)//2]+s1[-1]+s2[-1]\n",
    "    return (\"Oryginalne wyrazy: \"+ s1 +\" \"+ s2 + \", Połączone \" + result)\n"
   ]
  },
  {
   "cell_type": "code",
   "execution_count": 8,
   "metadata": {},
   "outputs": [
    {
     "data": {
      "text/plain": [
       "'Oryginalne wyrazy: America Japan, Połączone AJrpan'"
      ]
     },
     "execution_count": 8,
     "metadata": {},
     "output_type": "execute_result"
    }
   ],
   "source": [
    "substringv2(\"America\", \"Japan\")"
   ]
  },
  {
   "cell_type": "markdown",
   "metadata": {},
   "source": [
    "### EXERCISE #4\n",
    "\n",
    "* Reverse the given string.\n",
    "* Data:  \n",
    "  `sample_str = \"Python\"`  \n",
    "* Expected result:  \n",
    "  `nohtyP`"
   ]
  },
  {
   "cell_type": "code",
   "execution_count": 9,
   "metadata": {},
   "outputs": [],
   "source": [
    "def stringreverse (s):\n",
    "    result = s[::-1]\n",
    "    return(\"Oryginalny wyraz: \"+ s + \", Odwrócony wyraz \" + result )"
   ]
  },
  {
   "cell_type": "code",
   "execution_count": 10,
   "metadata": {},
   "outputs": [
    {
     "data": {
      "text/plain": [
       "'Oryginalny wyraz: Python, Odwrócony wyraz nohtyP'"
      ]
     },
     "execution_count": 10,
     "metadata": {},
     "output_type": "execute_result"
    }
   ],
   "source": [
    "stringreverse(\"Python\")"
   ]
  },
  {
   "cell_type": "markdown",
   "metadata": {},
   "source": [
    "### EXERCISE #5\n",
    "\n",
    "* Reverse any given tuple.\n"
   ]
  },
  {
   "cell_type": "code",
   "execution_count": 11,
   "metadata": {},
   "outputs": [],
   "source": [
    "def tuplereverse (t):\n",
    "    result = t[::-1]\n",
    "    return(\"Oryginalna krotka: \"+ str(t) + \", Odwrócona krotka \" + str(result))"
   ]
  },
  {
   "cell_type": "code",
   "execution_count": 12,
   "metadata": {},
   "outputs": [
    {
     "data": {
      "text/plain": [
       "\"Oryginalna krotka: ('Ikona', 'Polaryzacja', 'Krew'), Odwrócona krotka ('Krew', 'Polaryzacja', 'Ikona')\""
      ]
     },
     "execution_count": 12,
     "metadata": {},
     "output_type": "execute_result"
    }
   ],
   "source": [
    "t = (\"Ikona\", \"Polaryzacja\", \"Krew\")\n",
    "tuplereverse(t)"
   ]
  },
  {
   "cell_type": "markdown",
   "metadata": {},
   "source": [
    "### EXERCISE #6\n",
    "\n",
    "* The given tuple is a nested tuple. Write a Python program that prints the value `20`.\n",
    "\n",
    "```python\n",
    "sample_tuple = (\"Orange\", [10, 20, 30], (5, 15, 25))"
   ]
  },
  {
   "cell_type": "code",
   "execution_count": 13,
   "metadata": {},
   "outputs": [],
   "source": [
    "def tupleretrive(t):\n",
    "    result = t[1][1] # drugi element w drugim elemencie\n",
    "    return(\"Oryginalna krotka: \"+ str(t) + \", Środkowy wyraz: \" + str(result))"
   ]
  },
  {
   "cell_type": "code",
   "execution_count": 14,
   "metadata": {},
   "outputs": [
    {
     "data": {
      "text/plain": [
       "\"Oryginalna krotka: ('Pomarańczowy', [10, 20, 30], (5, 15, 25)), Środkowy wyraz: 20\""
      ]
     },
     "execution_count": 14,
     "metadata": {},
     "output_type": "execute_result"
    }
   ],
   "source": [
    "Sample_tuple = (\"Pomarańczowy\", [10, 20, 30], (5, 15, 25))\n",
    "\n",
    "tupleretrive(Sample_tuple)"
   ]
  },
  {
   "cell_type": "markdown",
   "metadata": {},
   "source": [
    "### EXERCISE #7\n",
    "\n",
    "* Create a list containing sample names  \n",
    "* Then sort it alphabetically  \n",
    "* Finally, check how many elements it contains"
   ]
  },
  {
   "cell_type": "code",
   "execution_count": 15,
   "metadata": {},
   "outputs": [],
   "source": [
    "def listoverview(l):\n",
    "    l.sort()\n",
    "    return(\"Lista uczniów:\" + str(l) + \" Liczba uczniów: \" + str(len(l)))"
   ]
  },
  {
   "cell_type": "code",
   "execution_count": 16,
   "metadata": {},
   "outputs": [
    {
     "data": {
      "text/plain": [
       "\"Lista uczniów:['Bartosz', 'Celina', 'Kacper', 'Patrycja', 'Paulina'] Liczba uczniów: 5\""
      ]
     },
     "execution_count": 16,
     "metadata": {},
     "output_type": "execute_result"
    }
   ],
   "source": [
    "students = [\"Patrycja\", \"Kacper\", \"Bartosz\", \"Paulina\", \"Celina\"]\n",
    "\n",
    "listoverview(students)"
   ]
  },
  {
   "cell_type": "markdown",
   "metadata": {},
   "source": [
    "### EXERCISE #8\n",
    "\n",
    "Write a program that:\n",
    "* Asks the user to enter two numbers, and  \n",
    "* Prints:\n",
    "  * The result of their division  \n",
    "  * The remainder of the division  \n",
    "  * The result of integer (floor) division"
   ]
  },
  {
   "cell_type": "code",
   "execution_count": 17,
   "metadata": {},
   "outputs": [],
   "source": [
    "def smallcalculator():\n",
    "\n",
    "    a = int (input(\"Poprosze o liczbe:\"))\n",
    "    b = int (input(\"Poprosze o liczbe:\"))\n",
    "\n",
    "    if (b == 0) :\n",
    "        return(\"Nie można dzielic przez zero, no co ty robisz\")\n",
    "    else :\n",
    "\n",
    "        dzielenie = a/b\n",
    "        reszta = a%b\n",
    "        dziel_cal = a//b\n",
    "\n",
    "        return \"Dzielenie :\", str(dzielenie),\"Reszta:\",str(reszta),\"Dzielenie całkowite:\",str(dziel_cal)"
   ]
  },
  {
   "cell_type": "code",
   "execution_count": 18,
   "metadata": {},
   "outputs": [
    {
     "data": {
      "text/plain": [
       "('Dzielenie :', '1.0', 'Reszta:', '0', 'Dzielenie całkowite:', '1')"
      ]
     },
     "execution_count": 18,
     "metadata": {},
     "output_type": "execute_result"
    }
   ],
   "source": [
    "smallcalculator()"
   ]
  },
  {
   "cell_type": "markdown",
   "metadata": {},
   "source": [
    "### EXERCISE #9\n",
    "\n",
    "Write a Python program that converts two lists into a dictionary,  \n",
    "so that each element from list 1 becomes a key, and the corresponding element from list 2 becomes its value."
   ]
  },
  {
   "cell_type": "code",
   "execution_count": 19,
   "metadata": {},
   "outputs": [],
   "source": [
    "def list_to_dictionary(list1 : list, list2: list):\n",
    "    if(len(list1) != len(set(list1))): # Sprawdzenie czy lista i zbiór stworzony na podstawie listy maja tą samą wartość\n",
    "       return \"Na liście kluczy znajadują się powielone wartości\"\n",
    "    return dict(zip(list1, list2))"
   ]
  },
  {
   "cell_type": "code",
   "execution_count": 20,
   "metadata": {},
   "outputs": [
    {
     "data": {
      "text/plain": [
       "{'key1': 9, 'key2': 66, 'key3': 7}"
      ]
     },
     "execution_count": 20,
     "metadata": {},
     "output_type": "execute_result"
    }
   ],
   "source": [
    "klucze = [\"key1\", \"key2\", \"key3\"]\n",
    "val = [9,66,7]\n",
    "\n",
    "list_to_dictionary(klucze, val)"
   ]
  },
  {
   "cell_type": "markdown",
   "metadata": {},
   "source": [
    "### EXERCISE #10\n",
    "\n",
    "Given a Python `list`, write a program that adds all its elements to a given `set`.\n"
   ]
  },
  {
   "cell_type": "code",
   "execution_count": 21,
   "metadata": {},
   "outputs": [],
   "source": [
    "def combined_list_set(list: list, set: set):\n",
    "    set.update(list)\n",
    "    return set\n"
   ]
  },
  {
   "cell_type": "code",
   "execution_count": 22,
   "metadata": {},
   "outputs": [
    {
     "data": {
      "text/plain": [
       "{0, 8, 67, 88, 89, 90}"
      ]
     },
     "execution_count": 22,
     "metadata": {},
     "output_type": "execute_result"
    }
   ],
   "source": [
    "l1 = [8,90,88]\n",
    "s1 = {67,89,0}\n",
    "\n",
    "combined_list_set(l1,s1)"
   ]
  },
  {
   "cell_type": "markdown",
   "metadata": {},
   "source": [
    "### EXERCISE #11\n",
    "\n",
    "* Assign `8` to the variable `x` and `15` to the variable `y`.  \n",
    "* Create **2** conditional statements.  \n",
    "* The first should print: \"At least one condition is met\" if `x` is greater than `3` or `y` is even.  \n",
    "* The second should print: \"No condition is met\" if `x` is less than or equal to `3` and `y` is odd.  \n",
    "* Change the values assigned to `x` and `y` and run the code again to check if it still works."
   ]
  },
  {
   "cell_type": "code",
   "execution_count": 23,
   "metadata": {},
   "outputs": [],
   "source": [
    "def if_excercise(x,y):\n",
    "    if(x>3 or y%2==0):\n",
    "        print(\"Conajmniej jeden z warunków jest spełniony, x>3 lub y jest parzysty\")\n",
    "    if(x<= 3 and y%2!=0):\n",
    "        print(\"Żaden warunek nie jest spełniony\")"
   ]
  },
  {
   "cell_type": "code",
   "execution_count": 24,
   "metadata": {},
   "outputs": [
    {
     "name": "stdout",
     "output_type": "stream",
     "text": [
      "Conajmniej jeden z warunków jest spełniony, x>3 lub y jest parzysty\n"
     ]
    }
   ],
   "source": [
    "x = 15\n",
    "y = 8\n",
    "\n",
    "if_excercise(x,y)"
   ]
  },
  {
   "cell_type": "markdown",
   "metadata": {},
   "source": [
    "### EXERCISE #12\n",
    "\n",
    "* Create a list containing the names of the instructor and all group members.  \n",
    "* Then sort it alphabetically.  \n",
    "* Count how many names in the list end with the letter \"`a`\"."
   ]
  },
  {
   "cell_type": "code",
   "execution_count": 25,
   "metadata": {},
   "outputs": [],
   "source": [
    "def a_character (lista: list):\n",
    "    lista.sort()\n",
    "    counter = 0\n",
    "    for l in lista:\n",
    "        if( l[-1] == \"a\"):\n",
    "            counter +=1\n",
    "        \n",
    "    return counter\n"
   ]
  },
  {
   "cell_type": "code",
   "execution_count": 26,
   "metadata": {},
   "outputs": [
    {
     "data": {
      "text/plain": [
       "3"
      ]
     },
     "execution_count": 26,
     "metadata": {},
     "output_type": "execute_result"
    }
   ],
   "source": [
    "a_character(students)"
   ]
  },
  {
   "cell_type": "markdown",
   "metadata": {},
   "source": [
    "### EXERCISE #13\n",
    "\n",
    "Write a Python program to find numbers between `1500` and `2700` (both included) that are divisible by `7` and multiples of `5`."
   ]
  },
  {
   "cell_type": "code",
   "execution_count": 27,
   "metadata": {},
   "outputs": [],
   "source": [
    "def num_verification(lista:list):\n",
    "    result =[]\n",
    "    for num in lista:\n",
    "        if (num%7 == 0 and num%5 == 0):\n",
    "            result.append(num)\n"
   ]
  }
 ],
 "metadata": {
  "kernelspec": {
   "display_name": "base",
   "language": "python",
   "name": "python3"
  },
  "language_info": {
   "codemirror_mode": {
    "name": "ipython",
    "version": 3
   },
   "file_extension": ".py",
   "mimetype": "text/x-python",
   "name": "python",
   "nbconvert_exporter": "python",
   "pygments_lexer": "ipython3",
   "version": "3.12.4"
  }
 },
 "nbformat": 4,
 "nbformat_minor": 2
}
