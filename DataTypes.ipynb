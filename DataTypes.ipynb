{
 "cells": [
  {
   "cell_type": "code",
   "execution_count": null,
   "metadata": {},
   "outputs": [],
   "source": [
    "import pandas as pd\n",
    "import numpy as np\n",
    "import matplotlib.pyplot as plt\n",
    "from matplotlib.ticker import FuncFormatter\n",
    "from matplotlib.lines import Line2D"
   ]
  },
  {
   "cell_type": "markdown",
   "metadata": {},
   "source": [
    "ĆWICZENIE #1\n",
    "* Biorąc pod uwagę string o dowolnej liczbie znaków, zwróć substring złożony z trzech środkowych znaków danego stringu:\n",
    "\n",
    "  * Przypadek 1:\n",
    "    * `sample_str = \"Datatypes\"`\n",
    "    * Oczekiwany wynik: `aty`\n",
    "  * Przypadek 2:\n",
    "    * `sample_str = \"FullStack\"`\n",
    "    * Oczekiwany wynik: `lSt`\n",
    "  * Przypadek 3:\n",
    "    * `sample_str = \"Python\"`\n",
    "    * Oczekiwany wynik: `yth` albo `tho`"
   ]
  },
  {
   "cell_type": "code",
   "execution_count": null,
   "metadata": {},
   "outputs": [
    {
     "data": {
      "text/plain": [
       "'Oryginalny wyraz: DataTypes, Środkowe 3 litery aTy'"
      ]
     },
     "execution_count": 6,
     "metadata": {},
     "output_type": "execute_result"
    }
   ],
   "source": [
    "def substring (s):\n",
    "    mid_index = round(int(len(s) / 2),0)\n",
    "    substring = s[mid_index-1:mid_index+2]\n",
    "    return(\"Oryginalny wyraz: \"+ s + \", Środkowe 3 litery \" + substring )\n",
    "\n",
    "substring(\"DataTypes\")"
   ]
  },
  {
   "cell_type": "code",
   "execution_count": null,
   "metadata": {},
   "outputs": [
    {
     "data": {
      "text/plain": [
       "'Oryginalny wyraz: FullStack, Środkowe 3 litery lSt'"
      ]
     },
     "execution_count": 7,
     "metadata": {},
     "output_type": "execute_result"
    }
   ],
   "source": [
    "substring(\"FullStack\")"
   ]
  },
  {
   "cell_type": "code",
   "execution_count": null,
   "metadata": {},
   "outputs": [
    {
     "data": {
      "text/plain": [
       "'Oryginalny wyraz: Python, Środkowe 3 litery tho'"
      ]
     },
     "execution_count": 8,
     "metadata": {},
     "output_type": "execute_result"
    }
   ],
   "source": [
    "substring(\"Python\")"
   ]
  },
  {
   "cell_type": "markdown",
   "metadata": {},
   "source": [
    "ĆWICZENIE #2\n",
    "\n",
    "* Biorąc pod uwagę 2 ciągi, `s1` i `s2`, utwórz nowy ciąg, dodając `s2` w środku `s1`\n",
    "* Dane:\n",
    "  * `s1 = \"FullStack\"`\n",
    "  * `s2 = \"Python\"`\n",
    "* Oczekiwany wynik:\\\n",
    "  `FullPythonStack`"
   ]
  },
  {
   "cell_type": "code",
   "execution_count": null,
   "metadata": {},
   "outputs": [],
   "source": [
    "def stringmerge (s1, s2):\n",
    "    mid_index = round(int(len(s1) / 2),0)\n",
    "    result = s1[:mid_index] + s2 + s1[mid_index:]\n",
    "    return (\"Oryginalne wyrazy: \"+ s1 +\" \"+ s2 + \", Połączone \" + result )"
   ]
  },
  {
   "cell_type": "code",
   "execution_count": null,
   "metadata": {},
   "outputs": [
    {
     "data": {
      "text/plain": [
       "'Oryginalny wyrazy: FullStack Python, Połączone FullPythonStack'"
      ]
     },
     "execution_count": 12,
     "metadata": {},
     "output_type": "execute_result"
    }
   ],
   "source": [
    "stringmerge(\"FullStack\", \"Python\")"
   ]
  },
  {
   "cell_type": "markdown",
   "metadata": {},
   "source": [
    "ĆWICZENIE #3\n",
    "\n",
    "* Biorąc pod uwagę 2 ciągi, `s1` i `s2` zwróć nowy ciąg złożony z pierwszego, środkowego i ostatniego znaku każdego ciągu wejściowego\n",
    "* Dane:\n",
    "  * `s1 = \"America\"`\n",
    "  * `s2 = \"Japan\"`\n",
    "* Oczekiwany wynik:\\\n",
    "`AJrpan`"
   ]
  },
  {
   "cell_type": "code",
   "execution_count": null,
   "metadata": {},
   "outputs": [],
   "source": [
    "def substringv2 (s1,s2):\n",
    "    result = s1[0]+s2[0]+s1[len(s1)//2]+s2[len(s2)//2]+s1[-1]+s2[-1]\n",
    "    return (\"Oryginalne wyrazy: \"+ s1 +\" \"+ s2 + \", Połączone \" + result)\n"
   ]
  },
  {
   "cell_type": "code",
   "execution_count": null,
   "metadata": {},
   "outputs": [
    {
     "data": {
      "text/plain": [
       "'Oryginalne wyrazy: America Japan, Połączone AJrpan'"
      ]
     },
     "execution_count": 15,
     "metadata": {},
     "output_type": "execute_result"
    }
   ],
   "source": [
    "substringv2(\"America\", \"Japan\")"
   ]
  },
  {
   "cell_type": "markdown",
   "metadata": {},
   "source": [
    "ĆWICZENIE #4\n",
    "\n",
    "* Odwróć podany ciąg\n",
    "* Dane:\\\n",
    "`sample_str = \"Python\"` \n",
    "* Oczekiwany wynik:\\\n",
    "`nohtyP`"
   ]
  },
  {
   "cell_type": "code",
   "execution_count": null,
   "metadata": {},
   "outputs": [],
   "source": [
    "def stringreverse (s):\n",
    "    result = s[::-1]\n",
    "    return(\"Oryginalny wyraz: \"+ s + \", Odwrócony wyraz \" + result )"
   ]
  },
  {
   "cell_type": "code",
   "execution_count": null,
   "metadata": {},
   "outputs": [
    {
     "data": {
      "text/plain": [
       "'Oryginalny wyraz: Python, Odwrócony wyraz nohtyP'"
      ]
     },
     "execution_count": 17,
     "metadata": {},
     "output_type": "execute_result"
    }
   ],
   "source": [
    "stringreverse(\"Python\")"
   ]
  },
  {
   "cell_type": "markdown",
   "metadata": {},
   "source": [
    "ĆWICZENIE #5\n",
    "\n",
    "Odwróć dowolną krotkę"
   ]
  },
  {
   "cell_type": "code",
   "execution_count": null,
   "metadata": {},
   "outputs": [],
   "source": [
    "def tuplereverse (t):\n",
    "    result = t[::-1]\n",
    "    return(\"Oryginalna krotka: \"+ str(t) + \", Odwrócona krotka \" + str(result))"
   ]
  },
  {
   "cell_type": "code",
   "execution_count": null,
   "metadata": {},
   "outputs": [
    {
     "data": {
      "text/plain": [
       "\"Oryginalna krotka: ('Ikona', 'Polaryzacja', 'Krew')\\\\, Odwrócona krotka ('Krew', 'Polaryzacja', 'Ikona')\""
      ]
     },
     "execution_count": 28,
     "metadata": {},
     "output_type": "execute_result"
    }
   ],
   "source": [
    "t = (\"Ikona\", \"Polaryzacja\", \"Krew\")\n",
    "tuplereverse(t)"
   ]
  },
  {
   "cell_type": "markdown",
   "metadata": {},
   "source": [
    "ĆWICZENIE 6\n",
    "\n",
    "Dana krotka jest krotką zagnieżdżoną. Napisz program w Pythonie, który wypisze wartość `20`.\n",
    "\n",
    "Sample_tuple = (\"Pomarańczowy\", [10, 20, 30], (5, 15, 25))"
   ]
  },
  {
   "cell_type": "code",
   "execution_count": null,
   "metadata": {},
   "outputs": [],
   "source": [
    "def tupleretrive(t):\n",
    "    result = t[1][1] # drugi element w drugim elemencie\n",
    "    return(\"Oryginalna krotka: \"+ str(t) + \", Środkowy wyraz: \" + str(result))"
   ]
  },
  {
   "cell_type": "code",
   "execution_count": null,
   "metadata": {},
   "outputs": [
    {
     "data": {
      "text/plain": [
       "\"Oryginalna krotka: ('Pomarańczowy', [10, 20, 30], (5, 15, 25)), Środkowy wyraz 20\""
      ]
     },
     "execution_count": 31,
     "metadata": {},
     "output_type": "execute_result"
    }
   ],
   "source": [
    "Sample_tuple = (\"Pomarańczowy\", [10, 20, 30], (5, 15, 25))\n",
    "\n",
    "tupleretrive(Sample_tuple)"
   ]
  },
  {
   "cell_type": "markdown",
   "metadata": {},
   "source": [
    "ĆWICZENIE 7\n",
    "\n",
    "* Utwórz listę zawierającą przykładowe imiona \n",
    "* Następnie ją posortuj alfabetycznie, oraz \n",
    "* Sprawdź ile elementów ona zawiera\n"
   ]
  },
  {
   "cell_type": "code",
   "execution_count": 3,
   "metadata": {},
   "outputs": [],
   "source": [
    "def listoverview(l):\n",
    "    l.sort()\n",
    "    return(\"Lista uczniów:\" + str(l) + \" Liczba uczniów: \" + str(len(l)))"
   ]
  },
  {
   "cell_type": "code",
   "execution_count": 4,
   "metadata": {},
   "outputs": [
    {
     "data": {
      "text/plain": [
       "\"Lista uczniów:['Bartosz', 'Celina', 'Kacper', 'Patrycja', 'Paulina'] Liczba uczniów: 5\""
      ]
     },
     "execution_count": 4,
     "metadata": {},
     "output_type": "execute_result"
    }
   ],
   "source": [
    "students = [\"Patrycja\", \"Kacper\", \"Bartosz\", \"Paulina\", \"Celina\"]\n",
    "\n",
    "listoverview(students)"
   ]
  },
  {
   "cell_type": "markdown",
   "metadata": {},
   "source": [
    "ĆWICZENIE 8\n",
    "\n",
    "Napisz program, który:\n",
    "Będzie prosił użytkownika o podanie dwóch liczb, i\n",
    "Wypisze:\n",
    "Wynik ich dzielenia,\n",
    "Resztę z dzielenia, oraz\n",
    "Wynik dzielenia całkowitego"
   ]
  },
  {
   "cell_type": "code",
   "execution_count": null,
   "metadata": {},
   "outputs": [],
   "source": [
    "def smallcalculator():\n",
    "\n",
    "    a = int (input(\"Poprosze o liczbe:\"))\n",
    "    b = int (input(\"Poprosze o liczbe:\"))\n",
    "\n",
    "    if (b == 0) :\n",
    "        return(\"Nie można dzielic przez zero, no co ty robisz\")\n",
    "    else :\n",
    "\n",
    "        dzielenie = a/b\n",
    "        reszta = a%b\n",
    "        dziel_cal = a//b\n",
    "\n",
    "        return \"Dzielenie :\", str(dzielenie),\"Reszta:\",str(reszta),\"Dzielenie całkowite:\",str(dziel_cal)"
   ]
  },
  {
   "cell_type": "code",
   "execution_count": 11,
   "metadata": {},
   "outputs": [
    {
     "data": {
      "text/plain": [
       "('Dzielenie :',\n",
       " '0.1111111111111111',\n",
       " ' Reszta ',\n",
       " '1',\n",
       " ' Dzielenie całkowite:',\n",
       " '0')"
      ]
     },
     "execution_count": 11,
     "metadata": {},
     "output_type": "execute_result"
    }
   ],
   "source": [
    "smallcalculator()"
   ]
  },
  {
   "cell_type": "markdown",
   "metadata": {},
   "source": [
    "ĆWICZENIE 9\n",
    "\n",
    "Napisz program w Pythonie konwertujący dwie listy na słownik w taki sposób, że pozycja z listy 1 jest kluczem, a pozycja z listy 2 jest wartością"
   ]
  },
  {
   "cell_type": "code",
   "execution_count": null,
   "metadata": {},
   "outputs": [],
   "source": [
    "def list_to_dictionary(list1 : list, list2: list):\n",
    "    if(len(list1) != len(set(list1))): # Sprawdzenie czy lista i zbiór stworzony na podstawie listy maja tą samą wartość\n",
    "       return \"Na liście kluczy znajadują się powielone wartości\"\n",
    "    return dict(zip(list1, list2))"
   ]
  },
  {
   "cell_type": "code",
   "execution_count": 20,
   "metadata": {},
   "outputs": [
    {
     "data": {
      "text/plain": [
       "{'key1': 9, 'key2': 66, 'key3': 7}"
      ]
     },
     "execution_count": 20,
     "metadata": {},
     "output_type": "execute_result"
    }
   ],
   "source": [
    "klucze = [\"key1\", \"key2\", \"key3\"]\n",
    "val = [9,66,7]\n",
    "\n",
    "list_to_dictionary(klucze, val)"
   ]
  },
  {
   "cell_type": "markdown",
   "metadata": {},
   "source": [
    "ĆWICZENIE 10 \n",
    "\n",
    "Mając `list` Pythona, napisz program, który doda wszystkie jej elementy do danego zbioru."
   ]
  },
  {
   "cell_type": "code",
   "execution_count": null,
   "metadata": {},
   "outputs": [],
   "source": [
    "def combined_list_set(list: list, set: set):\n",
    "    set.update(list)\n",
    "    return set\n"
   ]
  },
  {
   "cell_type": "code",
   "execution_count": 31,
   "metadata": {},
   "outputs": [
    {
     "data": {
      "text/plain": [
       "{0, 8, 67, 88, 89, 90}"
      ]
     },
     "execution_count": 31,
     "metadata": {},
     "output_type": "execute_result"
    }
   ],
   "source": [
    "l1 = [8,90,88]\n",
    "s1 = {67,89,0}\n",
    "\n",
    "combined_list_set(l1,s1)"
   ]
  },
  {
   "cell_type": "markdown",
   "metadata": {},
   "source": [
    "ĆWICZENIE 11\n",
    "* Przypisz `8` do zmiennej `x` i `15` do zmiennej `y`\n",
    "* Utwórz **2** instrukcje warunkowe\n",
    "* Niech pierwsza wypisze: „Co najmniej jeden z warunków jest spełniony”, jeśli `x` jest większe niż `3` lub `y` jest parzyste\n",
    "* Niech drugi wypisze „Żaden warunek nie jest spełniony”, jeśli `x` jest mniejsze lub równe `3`, a `y` jest nieparzyste\n",
    "* Zmień wartości przypisane do `x` i `y` i ponownie uruchom kod, aby sprawdzić, czy kod nadal działa"
   ]
  },
  {
   "cell_type": "code",
   "execution_count": 33,
   "metadata": {},
   "outputs": [],
   "source": [
    "def if_excercise(x,y):\n",
    "    if(x>3 or y%2==0):\n",
    "        print(\"Conajmniej jeden z warunków jest spełniony, x>3 lub y jest parzysty\")\n",
    "    if(x<= 3 and y%2!=0):\n",
    "        print(\"Żaden warunek nie jest spełniony\")"
   ]
  },
  {
   "cell_type": "code",
   "execution_count": 35,
   "metadata": {},
   "outputs": [
    {
     "name": "stdout",
     "output_type": "stream",
     "text": [
      "Conajmniej jeden z warunków jest spełniony, x>3 lub y jest parzysty\n"
     ]
    }
   ],
   "source": [
    "x = 15\n",
    "y = 8\n",
    "\n",
    "if_excercise(x,y)"
   ]
  },
  {
   "cell_type": "markdown",
   "metadata": {},
   "source": [
    "ĆWICZENIE 12\n",
    "\n",
    "* Utwórz listę zawierającą imiona: prowadzącego oraz wszystkich osób w grupie\n",
    "* Następnie ją posortuj alfabetycznie, oraz\n",
    "* Policz ile osób na liście ma imiona kończące się na literę „`a`”"
   ]
  },
  {
   "cell_type": "code",
   "execution_count": 38,
   "metadata": {},
   "outputs": [],
   "source": [
    "def a_character (lista: list):\n",
    "    lista.sort()\n",
    "    counter = 0\n",
    "    for l in lista:\n",
    "        if( l[-1] == \"a\"):\n",
    "            counter +=1\n",
    "        \n",
    "    return counter\n"
   ]
  },
  {
   "cell_type": "code",
   "execution_count": 39,
   "metadata": {},
   "outputs": [
    {
     "data": {
      "text/plain": [
       "3"
      ]
     },
     "execution_count": 39,
     "metadata": {},
     "output_type": "execute_result"
    }
   ],
   "source": [
    "a_character(students)"
   ]
  },
  {
   "cell_type": "markdown",
   "metadata": {},
   "source": [
    "ĆWICZENIE 13 \n",
    "\n",
    "Napisz program w Pythonie, aby znaleźć liczby podzielne przez `7` i będące wielokrotnością `5` między `1500` a `2700` (obie uwzględnione)"
   ]
  },
  {
   "cell_type": "code",
   "execution_count": null,
   "metadata": {},
   "outputs": [],
   "source": [
    "def num_verification(lista:list):\n",
    "    result =[]\n",
    "    for num in lista:\n",
    "        if (num%7 == 0 and num%5 == 0):\n",
    "            result.append(num)\n"
   ]
  }
 ],
 "metadata": {
  "kernelspec": {
   "display_name": "Python 3",
   "language": "python",
   "name": "python3"
  },
  "language_info": {
   "codemirror_mode": {
    "name": "ipython",
    "version": 3
   },
   "file_extension": ".py",
   "mimetype": "text/x-python",
   "name": "python",
   "nbconvert_exporter": "python",
   "pygments_lexer": "ipython3",
   "version": "3.13.0"
  }
 },
 "nbformat": 4,
 "nbformat_minor": 2
}
