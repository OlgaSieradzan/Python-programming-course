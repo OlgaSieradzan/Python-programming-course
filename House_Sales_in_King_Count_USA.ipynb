{
 "cells": [
  {
   "cell_type": "markdown",
   "metadata": {},
   "source": [
    "# House Sales in King County, USA - data analysys\n",
    "Author: Olga Sieradzan\n"
   ]
  },
  {
   "cell_type": "markdown",
   "metadata": {},
   "source": [
    "This dataset contains house sale prices for King County, which includes Seattle. It includes homes sold between May 2014 and May 2015.\n"
   ]
  },
  {
   "cell_type": "markdown",
   "metadata": {},
   "source": [
    "| Variable      | Description                                                                                                 |\n",
    "| ------------- | ----------------------------------------------------------------------------------------------------------- |\n",
    "| id            | A notation for a house                                                                                      |\n",
    "| date          | Date house was sold                                                                                         |\n",
    "| price         | Price is prediction target                                                                                  |\n",
    "| bedrooms      | Number of bedrooms                                                                                          |\n",
    "| bathrooms     | Number of bathrooms                                                                                         |\n",
    "| sqft_living   | Square footage of the home                                                                                  |\n",
    "| sqft_lot      | Square footage of the lot                                                                                   |\n",
    "| floors        | Total floors (levels) in house                                                                              |\n",
    "| waterfront    | House which has a view to a waterfront                                                                      |\n",
    "| view          | Has been viewed                                                                                             |\n",
    "| condition     | How good the condition is overall                                                                           |\n",
    "| grade         | overall grade given to the housing unit, based on King County grading system                                |\n",
    "| sqft_above    | Square footage of house apart from basement                                                                 |\n",
    "| sqft_basement | Square footage of the basement                                                                              |\n",
    "| yr_built      | Built Year                                                                                                  |\n",
    "| yr_renovated  | Year when house was renovated                                                                               |\n",
    "| zipcode       | Zip code                                                                                                    |\n",
    "| lat           | Latitude coordinate                                                                                         |\n",
    "| long          | Longitude coordinate                                                                                        |\n",
    "| sqft_living15 | Living room area in 2015(implies-- some renovations) This might or might not have affected the lotsize area |\n",
    "| sqft_lot15    | LotSize area in 2015(implies-- some renovations)                                                            |\n"
   ]
  },
  {
   "cell_type": "markdown",
   "metadata": {},
   "source": [
    "In this data analysys following libries will be used:\n"
   ]
  },
  {
   "cell_type": "code",
   "execution_count": 37,
   "metadata": {},
   "outputs": [],
   "source": [
    "import pandas as pd\n",
    "import matplotlib.pyplot as plt\n",
    "import numpy as np\n",
    "import seaborn as sns\n",
    "from sklearn.pipeline import Pipeline\n",
    "from sklearn.preprocessing import StandardScaler,PolynomialFeatures\n",
    "from sklearn.linear_model import LinearRegression\n",
    "%matplotlib inline"
   ]
  },
  {
   "cell_type": "markdown",
   "metadata": {},
   "source": [
    "# Module 1: Importing Data Sets\n"
   ]
  },
  {
   "cell_type": "markdown",
   "metadata": {},
   "source": [
    "The data is downloaded from IBM Developer Skills Network\n"
   ]
  },
  {
   "cell_type": "code",
   "execution_count": 38,
   "metadata": {
    "collapsed": false,
    "jupyter": {
     "outputs_hidden": false
    }
   },
   "outputs": [
    {
     "data": {
      "application/vnd.microsoft.datawrangler.viewer.v0+json": {
       "columns": [
        {
         "name": "index",
         "rawType": "int64",
         "type": "integer"
        },
        {
         "name": "Unnamed: 0",
         "rawType": "int64",
         "type": "integer"
        },
        {
         "name": "id",
         "rawType": "int64",
         "type": "integer"
        },
        {
         "name": "date",
         "rawType": "object",
         "type": "string"
        },
        {
         "name": "price",
         "rawType": "float64",
         "type": "float"
        },
        {
         "name": "bedrooms",
         "rawType": "float64",
         "type": "float"
        },
        {
         "name": "bathrooms",
         "rawType": "float64",
         "type": "float"
        },
        {
         "name": "sqft_living",
         "rawType": "int64",
         "type": "integer"
        },
        {
         "name": "sqft_lot",
         "rawType": "int64",
         "type": "integer"
        },
        {
         "name": "floors",
         "rawType": "float64",
         "type": "float"
        },
        {
         "name": "waterfront",
         "rawType": "int64",
         "type": "integer"
        },
        {
         "name": "view",
         "rawType": "int64",
         "type": "integer"
        },
        {
         "name": "condition",
         "rawType": "int64",
         "type": "integer"
        },
        {
         "name": "grade",
         "rawType": "int64",
         "type": "integer"
        },
        {
         "name": "sqft_above",
         "rawType": "int64",
         "type": "integer"
        },
        {
         "name": "sqft_basement",
         "rawType": "int64",
         "type": "integer"
        },
        {
         "name": "yr_built",
         "rawType": "int64",
         "type": "integer"
        },
        {
         "name": "yr_renovated",
         "rawType": "int64",
         "type": "integer"
        },
        {
         "name": "zipcode",
         "rawType": "int64",
         "type": "integer"
        },
        {
         "name": "lat",
         "rawType": "float64",
         "type": "float"
        },
        {
         "name": "long",
         "rawType": "float64",
         "type": "float"
        },
        {
         "name": "sqft_living15",
         "rawType": "int64",
         "type": "integer"
        },
        {
         "name": "sqft_lot15",
         "rawType": "int64",
         "type": "integer"
        }
       ],
       "ref": "e0ba9e44-f459-4caf-9d7e-9264ab175003",
       "rows": [
        [
         "0",
         "0",
         "7129300520",
         "20141013T000000",
         "221900.0",
         "3.0",
         "1.0",
         "1180",
         "5650",
         "1.0",
         "0",
         "0",
         "3",
         "7",
         "1180",
         "0",
         "1955",
         "0",
         "98178",
         "47.5112",
         "-122.257",
         "1340",
         "5650"
        ],
        [
         "1",
         "1",
         "6414100192",
         "20141209T000000",
         "538000.0",
         "3.0",
         "2.25",
         "2570",
         "7242",
         "2.0",
         "0",
         "0",
         "3",
         "7",
         "2170",
         "400",
         "1951",
         "1991",
         "98125",
         "47.721",
         "-122.319",
         "1690",
         "7639"
        ],
        [
         "2",
         "2",
         "5631500400",
         "20150225T000000",
         "180000.0",
         "2.0",
         "1.0",
         "770",
         "10000",
         "1.0",
         "0",
         "0",
         "3",
         "6",
         "770",
         "0",
         "1933",
         "0",
         "98028",
         "47.7379",
         "-122.233",
         "2720",
         "8062"
        ],
        [
         "3",
         "3",
         "2487200875",
         "20141209T000000",
         "604000.0",
         "4.0",
         "3.0",
         "1960",
         "5000",
         "1.0",
         "0",
         "0",
         "5",
         "7",
         "1050",
         "910",
         "1965",
         "0",
         "98136",
         "47.5208",
         "-122.393",
         "1360",
         "5000"
        ],
        [
         "4",
         "4",
         "1954400510",
         "20150218T000000",
         "510000.0",
         "3.0",
         "2.0",
         "1680",
         "8080",
         "1.0",
         "0",
         "0",
         "3",
         "8",
         "1680",
         "0",
         "1987",
         "0",
         "98074",
         "47.6168",
         "-122.045",
         "1800",
         "7503"
        ]
       ],
       "shape": {
        "columns": 22,
        "rows": 5
       }
      },
      "text/html": [
       "<div>\n",
       "<style scoped>\n",
       "    .dataframe tbody tr th:only-of-type {\n",
       "        vertical-align: middle;\n",
       "    }\n",
       "\n",
       "    .dataframe tbody tr th {\n",
       "        vertical-align: top;\n",
       "    }\n",
       "\n",
       "    .dataframe thead th {\n",
       "        text-align: right;\n",
       "    }\n",
       "</style>\n",
       "<table border=\"1\" class=\"dataframe\">\n",
       "  <thead>\n",
       "    <tr style=\"text-align: right;\">\n",
       "      <th></th>\n",
       "      <th>Unnamed: 0</th>\n",
       "      <th>id</th>\n",
       "      <th>date</th>\n",
       "      <th>price</th>\n",
       "      <th>bedrooms</th>\n",
       "      <th>bathrooms</th>\n",
       "      <th>sqft_living</th>\n",
       "      <th>sqft_lot</th>\n",
       "      <th>floors</th>\n",
       "      <th>waterfront</th>\n",
       "      <th>...</th>\n",
       "      <th>grade</th>\n",
       "      <th>sqft_above</th>\n",
       "      <th>sqft_basement</th>\n",
       "      <th>yr_built</th>\n",
       "      <th>yr_renovated</th>\n",
       "      <th>zipcode</th>\n",
       "      <th>lat</th>\n",
       "      <th>long</th>\n",
       "      <th>sqft_living15</th>\n",
       "      <th>sqft_lot15</th>\n",
       "    </tr>\n",
       "  </thead>\n",
       "  <tbody>\n",
       "    <tr>\n",
       "      <th>0</th>\n",
       "      <td>0</td>\n",
       "      <td>7129300520</td>\n",
       "      <td>20141013T000000</td>\n",
       "      <td>221900.0</td>\n",
       "      <td>3.0</td>\n",
       "      <td>1.00</td>\n",
       "      <td>1180</td>\n",
       "      <td>5650</td>\n",
       "      <td>1.0</td>\n",
       "      <td>0</td>\n",
       "      <td>...</td>\n",
       "      <td>7</td>\n",
       "      <td>1180</td>\n",
       "      <td>0</td>\n",
       "      <td>1955</td>\n",
       "      <td>0</td>\n",
       "      <td>98178</td>\n",
       "      <td>47.5112</td>\n",
       "      <td>-122.257</td>\n",
       "      <td>1340</td>\n",
       "      <td>5650</td>\n",
       "    </tr>\n",
       "    <tr>\n",
       "      <th>1</th>\n",
       "      <td>1</td>\n",
       "      <td>6414100192</td>\n",
       "      <td>20141209T000000</td>\n",
       "      <td>538000.0</td>\n",
       "      <td>3.0</td>\n",
       "      <td>2.25</td>\n",
       "      <td>2570</td>\n",
       "      <td>7242</td>\n",
       "      <td>2.0</td>\n",
       "      <td>0</td>\n",
       "      <td>...</td>\n",
       "      <td>7</td>\n",
       "      <td>2170</td>\n",
       "      <td>400</td>\n",
       "      <td>1951</td>\n",
       "      <td>1991</td>\n",
       "      <td>98125</td>\n",
       "      <td>47.7210</td>\n",
       "      <td>-122.319</td>\n",
       "      <td>1690</td>\n",
       "      <td>7639</td>\n",
       "    </tr>\n",
       "    <tr>\n",
       "      <th>2</th>\n",
       "      <td>2</td>\n",
       "      <td>5631500400</td>\n",
       "      <td>20150225T000000</td>\n",
       "      <td>180000.0</td>\n",
       "      <td>2.0</td>\n",
       "      <td>1.00</td>\n",
       "      <td>770</td>\n",
       "      <td>10000</td>\n",
       "      <td>1.0</td>\n",
       "      <td>0</td>\n",
       "      <td>...</td>\n",
       "      <td>6</td>\n",
       "      <td>770</td>\n",
       "      <td>0</td>\n",
       "      <td>1933</td>\n",
       "      <td>0</td>\n",
       "      <td>98028</td>\n",
       "      <td>47.7379</td>\n",
       "      <td>-122.233</td>\n",
       "      <td>2720</td>\n",
       "      <td>8062</td>\n",
       "    </tr>\n",
       "    <tr>\n",
       "      <th>3</th>\n",
       "      <td>3</td>\n",
       "      <td>2487200875</td>\n",
       "      <td>20141209T000000</td>\n",
       "      <td>604000.0</td>\n",
       "      <td>4.0</td>\n",
       "      <td>3.00</td>\n",
       "      <td>1960</td>\n",
       "      <td>5000</td>\n",
       "      <td>1.0</td>\n",
       "      <td>0</td>\n",
       "      <td>...</td>\n",
       "      <td>7</td>\n",
       "      <td>1050</td>\n",
       "      <td>910</td>\n",
       "      <td>1965</td>\n",
       "      <td>0</td>\n",
       "      <td>98136</td>\n",
       "      <td>47.5208</td>\n",
       "      <td>-122.393</td>\n",
       "      <td>1360</td>\n",
       "      <td>5000</td>\n",
       "    </tr>\n",
       "    <tr>\n",
       "      <th>4</th>\n",
       "      <td>4</td>\n",
       "      <td>1954400510</td>\n",
       "      <td>20150218T000000</td>\n",
       "      <td>510000.0</td>\n",
       "      <td>3.0</td>\n",
       "      <td>2.00</td>\n",
       "      <td>1680</td>\n",
       "      <td>8080</td>\n",
       "      <td>1.0</td>\n",
       "      <td>0</td>\n",
       "      <td>...</td>\n",
       "      <td>8</td>\n",
       "      <td>1680</td>\n",
       "      <td>0</td>\n",
       "      <td>1987</td>\n",
       "      <td>0</td>\n",
       "      <td>98074</td>\n",
       "      <td>47.6168</td>\n",
       "      <td>-122.045</td>\n",
       "      <td>1800</td>\n",
       "      <td>7503</td>\n",
       "    </tr>\n",
       "  </tbody>\n",
       "</table>\n",
       "<p>5 rows × 22 columns</p>\n",
       "</div>"
      ],
      "text/plain": [
       "   Unnamed: 0          id             date     price  bedrooms  bathrooms  \\\n",
       "0           0  7129300520  20141013T000000  221900.0       3.0       1.00   \n",
       "1           1  6414100192  20141209T000000  538000.0       3.0       2.25   \n",
       "2           2  5631500400  20150225T000000  180000.0       2.0       1.00   \n",
       "3           3  2487200875  20141209T000000  604000.0       4.0       3.00   \n",
       "4           4  1954400510  20150218T000000  510000.0       3.0       2.00   \n",
       "\n",
       "   sqft_living  sqft_lot  floors  waterfront  ...  grade  sqft_above  \\\n",
       "0         1180      5650     1.0           0  ...      7        1180   \n",
       "1         2570      7242     2.0           0  ...      7        2170   \n",
       "2          770     10000     1.0           0  ...      6         770   \n",
       "3         1960      5000     1.0           0  ...      7        1050   \n",
       "4         1680      8080     1.0           0  ...      8        1680   \n",
       "\n",
       "   sqft_basement  yr_built  yr_renovated  zipcode      lat     long  \\\n",
       "0              0      1955             0    98178  47.5112 -122.257   \n",
       "1            400      1951          1991    98125  47.7210 -122.319   \n",
       "2              0      1933             0    98028  47.7379 -122.233   \n",
       "3            910      1965             0    98136  47.5208 -122.393   \n",
       "4              0      1987             0    98074  47.6168 -122.045   \n",
       "\n",
       "   sqft_living15  sqft_lot15  \n",
       "0           1340        5650  \n",
       "1           1690        7639  \n",
       "2           2720        8062  \n",
       "3           1360        5000  \n",
       "4           1800        7503  \n",
       "\n",
       "[5 rows x 22 columns]"
      ]
     },
     "execution_count": 38,
     "metadata": {},
     "output_type": "execute_result"
    }
   ],
   "source": [
    "file_name='https://cf-courses-data.s3.us.cloud-object-storage.appdomain.cloud/IBMDeveloperSkillsNetwork-DA0101EN-SkillsNetwork/labs/FinalModule_Coursera/data/kc_house_data_NaN.csv'\n",
    "df=pd.read_csv(file_name)\n",
    "df.head()\n"
   ]
  },
  {
   "cell_type": "markdown",
   "metadata": {},
   "source": [
    "For now the data is uncleaned, meaning having useless columns, missing parts and wrong types. In the next section - Data Wrangling - the data set is going to be prepared for analysys. Before that it is udefull to know information about data set. It is eaisly obtained from .info() and .describe() methodes. "
   ]
  },
  {
   "cell_type": "code",
   "execution_count": 39,
   "metadata": {},
   "outputs": [
    {
     "name": "stdout",
     "output_type": "stream",
     "text": [
      "<class 'pandas.core.frame.DataFrame'>\n",
      "RangeIndex: 21613 entries, 0 to 21612\n",
      "Data columns (total 22 columns):\n",
      " #   Column         Non-Null Count  Dtype  \n",
      "---  ------         --------------  -----  \n",
      " 0   Unnamed: 0     21613 non-null  int64  \n",
      " 1   id             21613 non-null  int64  \n",
      " 2   date           21613 non-null  object \n",
      " 3   price          21613 non-null  float64\n",
      " 4   bedrooms       21600 non-null  float64\n",
      " 5   bathrooms      21603 non-null  float64\n",
      " 6   sqft_living    21613 non-null  int64  \n",
      " 7   sqft_lot       21613 non-null  int64  \n",
      " 8   floors         21613 non-null  float64\n",
      " 9   waterfront     21613 non-null  int64  \n",
      " 10  view           21613 non-null  int64  \n",
      " 11  condition      21613 non-null  int64  \n",
      " 12  grade          21613 non-null  int64  \n",
      " 13  sqft_above     21613 non-null  int64  \n",
      " 14  sqft_basement  21613 non-null  int64  \n",
      " 15  yr_built       21613 non-null  int64  \n",
      " 16  yr_renovated   21613 non-null  int64  \n",
      " 17  zipcode        21613 non-null  int64  \n",
      " 18  lat            21613 non-null  float64\n",
      " 19  long           21613 non-null  float64\n",
      " 20  sqft_living15  21613 non-null  int64  \n",
      " 21  sqft_lot15     21613 non-null  int64  \n",
      "dtypes: float64(6), int64(15), object(1)\n",
      "memory usage: 3.6+ MB\n"
     ]
    }
   ],
   "source": [
    "df.info()"
   ]
  },
  {
   "cell_type": "markdown",
   "metadata": {},
   "source": [
    "Almost every column is an numeric type, but for example the date is the object type - which is problem, will handle that later. Additionally it is easy to spot that two columns (bedrooms and bathrooms) have null records. "
   ]
  },
  {
   "cell_type": "markdown",
   "metadata": {},
   "source": [
    "We use the method describe to obtain a statistical summary of the dataframe.\n"
   ]
  },
  {
   "cell_type": "code",
   "execution_count": 40,
   "metadata": {
    "collapsed": false,
    "jupyter": {
     "outputs_hidden": false
    }
   },
   "outputs": [
    {
     "data": {
      "application/vnd.microsoft.datawrangler.viewer.v0+json": {
       "columns": [
        {
         "name": "index",
         "rawType": "object",
         "type": "string"
        },
        {
         "name": "Unnamed: 0",
         "rawType": "float64",
         "type": "float"
        },
        {
         "name": "id",
         "rawType": "float64",
         "type": "float"
        },
        {
         "name": "price",
         "rawType": "float64",
         "type": "float"
        },
        {
         "name": "bedrooms",
         "rawType": "float64",
         "type": "float"
        },
        {
         "name": "bathrooms",
         "rawType": "float64",
         "type": "float"
        },
        {
         "name": "sqft_living",
         "rawType": "float64",
         "type": "float"
        },
        {
         "name": "sqft_lot",
         "rawType": "float64",
         "type": "float"
        },
        {
         "name": "floors",
         "rawType": "float64",
         "type": "float"
        },
        {
         "name": "waterfront",
         "rawType": "float64",
         "type": "float"
        },
        {
         "name": "view",
         "rawType": "float64",
         "type": "float"
        },
        {
         "name": "condition",
         "rawType": "float64",
         "type": "float"
        },
        {
         "name": "grade",
         "rawType": "float64",
         "type": "float"
        },
        {
         "name": "sqft_above",
         "rawType": "float64",
         "type": "float"
        },
        {
         "name": "sqft_basement",
         "rawType": "float64",
         "type": "float"
        },
        {
         "name": "yr_built",
         "rawType": "float64",
         "type": "float"
        },
        {
         "name": "yr_renovated",
         "rawType": "float64",
         "type": "float"
        },
        {
         "name": "zipcode",
         "rawType": "float64",
         "type": "float"
        },
        {
         "name": "lat",
         "rawType": "float64",
         "type": "float"
        },
        {
         "name": "long",
         "rawType": "float64",
         "type": "float"
        },
        {
         "name": "sqft_living15",
         "rawType": "float64",
         "type": "float"
        },
        {
         "name": "sqft_lot15",
         "rawType": "float64",
         "type": "float"
        }
       ],
       "ref": "521609f4-36cd-4272-9268-2da43fe7cc1a",
       "rows": [
        [
         "count",
         "21613.0",
         "21613.0",
         "21613.0",
         "21600.0",
         "21603.0",
         "21613.0",
         "21613.0",
         "21613.0",
         "21613.0",
         "21613.0",
         "21613.0",
         "21613.0",
         "21613.0",
         "21613.0",
         "21613.0",
         "21613.0",
         "21613.0",
         "21613.0",
         "21613.0",
         "21613.0",
         "21613.0"
        ],
        [
         "mean",
         "10806.0",
         "4580301520.86",
         "540088.14",
         "3.37",
         "2.12",
         "2079.9",
         "15106.97",
         "1.49",
         "0.01",
         "0.23",
         "3.41",
         "7.66",
         "1788.39",
         "291.51",
         "1971.01",
         "84.4",
         "98077.94",
         "47.56",
         "-122.21",
         "1986.55",
         "12768.46"
        ],
        [
         "std",
         "6239.28",
         "2876565571.31",
         "367127.2",
         "0.93",
         "0.77",
         "918.44",
         "41420.51",
         "0.54",
         "0.09",
         "0.77",
         "0.65",
         "1.18",
         "828.09",
         "442.58",
         "29.37",
         "401.68",
         "53.51",
         "0.14",
         "0.14",
         "685.39",
         "27304.18"
        ],
        [
         "min",
         "0.0",
         "1000102.0",
         "75000.0",
         "1.0",
         "0.5",
         "290.0",
         "520.0",
         "1.0",
         "0.0",
         "0.0",
         "1.0",
         "1.0",
         "290.0",
         "0.0",
         "1900.0",
         "0.0",
         "98001.0",
         "47.16",
         "-122.52",
         "399.0",
         "651.0"
        ],
        [
         "25%",
         "5403.0",
         "2123049194.0",
         "321950.0",
         "3.0",
         "1.75",
         "1427.0",
         "5040.0",
         "1.0",
         "0.0",
         "0.0",
         "3.0",
         "7.0",
         "1190.0",
         "0.0",
         "1951.0",
         "0.0",
         "98033.0",
         "47.47",
         "-122.33",
         "1490.0",
         "5100.0"
        ],
        [
         "50%",
         "10806.0",
         "3904930410.0",
         "450000.0",
         "3.0",
         "2.25",
         "1910.0",
         "7618.0",
         "1.5",
         "0.0",
         "0.0",
         "3.0",
         "7.0",
         "1560.0",
         "0.0",
         "1975.0",
         "0.0",
         "98065.0",
         "47.57",
         "-122.23",
         "1840.0",
         "7620.0"
        ],
        [
         "75%",
         "16209.0",
         "7308900445.0",
         "645000.0",
         "4.0",
         "2.5",
         "2550.0",
         "10688.0",
         "2.0",
         "0.0",
         "0.0",
         "4.0",
         "8.0",
         "2210.0",
         "560.0",
         "1997.0",
         "0.0",
         "98118.0",
         "47.68",
         "-122.12",
         "2360.0",
         "10083.0"
        ],
        [
         "max",
         "21612.0",
         "9900000190.0",
         "7700000.0",
         "33.0",
         "8.0",
         "13540.0",
         "1651359.0",
         "3.5",
         "1.0",
         "4.0",
         "5.0",
         "13.0",
         "9410.0",
         "4820.0",
         "2015.0",
         "2015.0",
         "98199.0",
         "47.78",
         "-121.32",
         "6210.0",
         "871200.0"
        ]
       ],
       "shape": {
        "columns": 21,
        "rows": 8
       }
      },
      "text/html": [
       "<div>\n",
       "<style scoped>\n",
       "    .dataframe tbody tr th:only-of-type {\n",
       "        vertical-align: middle;\n",
       "    }\n",
       "\n",
       "    .dataframe tbody tr th {\n",
       "        vertical-align: top;\n",
       "    }\n",
       "\n",
       "    .dataframe thead th {\n",
       "        text-align: right;\n",
       "    }\n",
       "</style>\n",
       "<table border=\"1\" class=\"dataframe\">\n",
       "  <thead>\n",
       "    <tr style=\"text-align: right;\">\n",
       "      <th></th>\n",
       "      <th>Unnamed: 0</th>\n",
       "      <th>id</th>\n",
       "      <th>price</th>\n",
       "      <th>bedrooms</th>\n",
       "      <th>bathrooms</th>\n",
       "      <th>sqft_living</th>\n",
       "      <th>sqft_lot</th>\n",
       "      <th>floors</th>\n",
       "      <th>waterfront</th>\n",
       "      <th>view</th>\n",
       "      <th>...</th>\n",
       "      <th>grade</th>\n",
       "      <th>sqft_above</th>\n",
       "      <th>sqft_basement</th>\n",
       "      <th>yr_built</th>\n",
       "      <th>yr_renovated</th>\n",
       "      <th>zipcode</th>\n",
       "      <th>lat</th>\n",
       "      <th>long</th>\n",
       "      <th>sqft_living15</th>\n",
       "      <th>sqft_lot15</th>\n",
       "    </tr>\n",
       "  </thead>\n",
       "  <tbody>\n",
       "    <tr>\n",
       "      <th>count</th>\n",
       "      <td>21613.00</td>\n",
       "      <td>2.161300e+04</td>\n",
       "      <td>21613.00</td>\n",
       "      <td>21600.00</td>\n",
       "      <td>21603.00</td>\n",
       "      <td>21613.00</td>\n",
       "      <td>21613.00</td>\n",
       "      <td>21613.00</td>\n",
       "      <td>21613.00</td>\n",
       "      <td>21613.00</td>\n",
       "      <td>...</td>\n",
       "      <td>21613.00</td>\n",
       "      <td>21613.00</td>\n",
       "      <td>21613.00</td>\n",
       "      <td>21613.00</td>\n",
       "      <td>21613.00</td>\n",
       "      <td>21613.00</td>\n",
       "      <td>21613.00</td>\n",
       "      <td>21613.00</td>\n",
       "      <td>21613.00</td>\n",
       "      <td>21613.00</td>\n",
       "    </tr>\n",
       "    <tr>\n",
       "      <th>mean</th>\n",
       "      <td>10806.00</td>\n",
       "      <td>4.580302e+09</td>\n",
       "      <td>540088.14</td>\n",
       "      <td>3.37</td>\n",
       "      <td>2.12</td>\n",
       "      <td>2079.90</td>\n",
       "      <td>15106.97</td>\n",
       "      <td>1.49</td>\n",
       "      <td>0.01</td>\n",
       "      <td>0.23</td>\n",
       "      <td>...</td>\n",
       "      <td>7.66</td>\n",
       "      <td>1788.39</td>\n",
       "      <td>291.51</td>\n",
       "      <td>1971.01</td>\n",
       "      <td>84.40</td>\n",
       "      <td>98077.94</td>\n",
       "      <td>47.56</td>\n",
       "      <td>-122.21</td>\n",
       "      <td>1986.55</td>\n",
       "      <td>12768.46</td>\n",
       "    </tr>\n",
       "    <tr>\n",
       "      <th>std</th>\n",
       "      <td>6239.28</td>\n",
       "      <td>2.876566e+09</td>\n",
       "      <td>367127.20</td>\n",
       "      <td>0.93</td>\n",
       "      <td>0.77</td>\n",
       "      <td>918.44</td>\n",
       "      <td>41420.51</td>\n",
       "      <td>0.54</td>\n",
       "      <td>0.09</td>\n",
       "      <td>0.77</td>\n",
       "      <td>...</td>\n",
       "      <td>1.18</td>\n",
       "      <td>828.09</td>\n",
       "      <td>442.58</td>\n",
       "      <td>29.37</td>\n",
       "      <td>401.68</td>\n",
       "      <td>53.51</td>\n",
       "      <td>0.14</td>\n",
       "      <td>0.14</td>\n",
       "      <td>685.39</td>\n",
       "      <td>27304.18</td>\n",
       "    </tr>\n",
       "    <tr>\n",
       "      <th>min</th>\n",
       "      <td>0.00</td>\n",
       "      <td>1.000102e+06</td>\n",
       "      <td>75000.00</td>\n",
       "      <td>1.00</td>\n",
       "      <td>0.50</td>\n",
       "      <td>290.00</td>\n",
       "      <td>520.00</td>\n",
       "      <td>1.00</td>\n",
       "      <td>0.00</td>\n",
       "      <td>0.00</td>\n",
       "      <td>...</td>\n",
       "      <td>1.00</td>\n",
       "      <td>290.00</td>\n",
       "      <td>0.00</td>\n",
       "      <td>1900.00</td>\n",
       "      <td>0.00</td>\n",
       "      <td>98001.00</td>\n",
       "      <td>47.16</td>\n",
       "      <td>-122.52</td>\n",
       "      <td>399.00</td>\n",
       "      <td>651.00</td>\n",
       "    </tr>\n",
       "    <tr>\n",
       "      <th>25%</th>\n",
       "      <td>5403.00</td>\n",
       "      <td>2.123049e+09</td>\n",
       "      <td>321950.00</td>\n",
       "      <td>3.00</td>\n",
       "      <td>1.75</td>\n",
       "      <td>1427.00</td>\n",
       "      <td>5040.00</td>\n",
       "      <td>1.00</td>\n",
       "      <td>0.00</td>\n",
       "      <td>0.00</td>\n",
       "      <td>...</td>\n",
       "      <td>7.00</td>\n",
       "      <td>1190.00</td>\n",
       "      <td>0.00</td>\n",
       "      <td>1951.00</td>\n",
       "      <td>0.00</td>\n",
       "      <td>98033.00</td>\n",
       "      <td>47.47</td>\n",
       "      <td>-122.33</td>\n",
       "      <td>1490.00</td>\n",
       "      <td>5100.00</td>\n",
       "    </tr>\n",
       "    <tr>\n",
       "      <th>50%</th>\n",
       "      <td>10806.00</td>\n",
       "      <td>3.904930e+09</td>\n",
       "      <td>450000.00</td>\n",
       "      <td>3.00</td>\n",
       "      <td>2.25</td>\n",
       "      <td>1910.00</td>\n",
       "      <td>7618.00</td>\n",
       "      <td>1.50</td>\n",
       "      <td>0.00</td>\n",
       "      <td>0.00</td>\n",
       "      <td>...</td>\n",
       "      <td>7.00</td>\n",
       "      <td>1560.00</td>\n",
       "      <td>0.00</td>\n",
       "      <td>1975.00</td>\n",
       "      <td>0.00</td>\n",
       "      <td>98065.00</td>\n",
       "      <td>47.57</td>\n",
       "      <td>-122.23</td>\n",
       "      <td>1840.00</td>\n",
       "      <td>7620.00</td>\n",
       "    </tr>\n",
       "    <tr>\n",
       "      <th>75%</th>\n",
       "      <td>16209.00</td>\n",
       "      <td>7.308900e+09</td>\n",
       "      <td>645000.00</td>\n",
       "      <td>4.00</td>\n",
       "      <td>2.50</td>\n",
       "      <td>2550.00</td>\n",
       "      <td>10688.00</td>\n",
       "      <td>2.00</td>\n",
       "      <td>0.00</td>\n",
       "      <td>0.00</td>\n",
       "      <td>...</td>\n",
       "      <td>8.00</td>\n",
       "      <td>2210.00</td>\n",
       "      <td>560.00</td>\n",
       "      <td>1997.00</td>\n",
       "      <td>0.00</td>\n",
       "      <td>98118.00</td>\n",
       "      <td>47.68</td>\n",
       "      <td>-122.12</td>\n",
       "      <td>2360.00</td>\n",
       "      <td>10083.00</td>\n",
       "    </tr>\n",
       "    <tr>\n",
       "      <th>max</th>\n",
       "      <td>21612.00</td>\n",
       "      <td>9.900000e+09</td>\n",
       "      <td>7700000.00</td>\n",
       "      <td>33.00</td>\n",
       "      <td>8.00</td>\n",
       "      <td>13540.00</td>\n",
       "      <td>1651359.00</td>\n",
       "      <td>3.50</td>\n",
       "      <td>1.00</td>\n",
       "      <td>4.00</td>\n",
       "      <td>...</td>\n",
       "      <td>13.00</td>\n",
       "      <td>9410.00</td>\n",
       "      <td>4820.00</td>\n",
       "      <td>2015.00</td>\n",
       "      <td>2015.00</td>\n",
       "      <td>98199.00</td>\n",
       "      <td>47.78</td>\n",
       "      <td>-121.32</td>\n",
       "      <td>6210.00</td>\n",
       "      <td>871200.00</td>\n",
       "    </tr>\n",
       "  </tbody>\n",
       "</table>\n",
       "<p>8 rows × 21 columns</p>\n",
       "</div>"
      ],
      "text/plain": [
       "       Unnamed: 0            id       price  bedrooms  bathrooms  sqft_living  \\\n",
       "count    21613.00  2.161300e+04    21613.00  21600.00   21603.00     21613.00   \n",
       "mean     10806.00  4.580302e+09   540088.14      3.37       2.12      2079.90   \n",
       "std       6239.28  2.876566e+09   367127.20      0.93       0.77       918.44   \n",
       "min          0.00  1.000102e+06    75000.00      1.00       0.50       290.00   \n",
       "25%       5403.00  2.123049e+09   321950.00      3.00       1.75      1427.00   \n",
       "50%      10806.00  3.904930e+09   450000.00      3.00       2.25      1910.00   \n",
       "75%      16209.00  7.308900e+09   645000.00      4.00       2.50      2550.00   \n",
       "max      21612.00  9.900000e+09  7700000.00     33.00       8.00     13540.00   \n",
       "\n",
       "         sqft_lot    floors  waterfront      view  ...     grade  sqft_above  \\\n",
       "count    21613.00  21613.00    21613.00  21613.00  ...  21613.00    21613.00   \n",
       "mean     15106.97      1.49        0.01      0.23  ...      7.66     1788.39   \n",
       "std      41420.51      0.54        0.09      0.77  ...      1.18      828.09   \n",
       "min        520.00      1.00        0.00      0.00  ...      1.00      290.00   \n",
       "25%       5040.00      1.00        0.00      0.00  ...      7.00     1190.00   \n",
       "50%       7618.00      1.50        0.00      0.00  ...      7.00     1560.00   \n",
       "75%      10688.00      2.00        0.00      0.00  ...      8.00     2210.00   \n",
       "max    1651359.00      3.50        1.00      4.00  ...     13.00     9410.00   \n",
       "\n",
       "       sqft_basement  yr_built  yr_renovated   zipcode       lat      long  \\\n",
       "count       21613.00  21613.00      21613.00  21613.00  21613.00  21613.00   \n",
       "mean          291.51   1971.01         84.40  98077.94     47.56   -122.21   \n",
       "std           442.58     29.37        401.68     53.51      0.14      0.14   \n",
       "min             0.00   1900.00          0.00  98001.00     47.16   -122.52   \n",
       "25%             0.00   1951.00          0.00  98033.00     47.47   -122.33   \n",
       "50%             0.00   1975.00          0.00  98065.00     47.57   -122.23   \n",
       "75%           560.00   1997.00          0.00  98118.00     47.68   -122.12   \n",
       "max          4820.00   2015.00       2015.00  98199.00     47.78   -121.32   \n",
       "\n",
       "       sqft_living15  sqft_lot15  \n",
       "count       21613.00    21613.00  \n",
       "mean         1986.55    12768.46  \n",
       "std           685.39    27304.18  \n",
       "min           399.00      651.00  \n",
       "25%          1490.00     5100.00  \n",
       "50%          1840.00     7620.00  \n",
       "75%          2360.00    10083.00  \n",
       "max          6210.00   871200.00  \n",
       "\n",
       "[8 rows x 21 columns]"
      ]
     },
     "execution_count": 40,
     "metadata": {},
     "output_type": "execute_result"
    }
   ],
   "source": [
    "df.describe().round(2)"
   ]
  },
  {
   "cell_type": "markdown",
   "metadata": {},
   "source": [
    "Looking at this statystical information it is easy to notice that values from each column have diffrent ranges - the data is not normalized. Also column Unnamed and id seems to be useless in the analysys - it will be removed in the next steps"
   ]
  },
  {
   "cell_type": "markdown",
   "metadata": {},
   "source": [
    "# Module 2: Data Wrangling\n"
   ]
  },
  {
   "cell_type": "markdown",
   "metadata": {},
   "source": [
    "Using simple methods like  <code>.drop() </code> and  <code>.replace() </code>, we will clean the data set."
   ]
  },
  {
   "cell_type": "code",
   "execution_count": 41,
   "metadata": {
    "collapsed": false,
    "jupyter": {
     "outputs_hidden": false
    }
   },
   "outputs": [
    {
     "data": {
      "application/vnd.microsoft.datawrangler.viewer.v0+json": {
       "columns": [
        {
         "name": "index",
         "rawType": "object",
         "type": "string"
        },
        {
         "name": "price",
         "rawType": "float64",
         "type": "float"
        },
        {
         "name": "bedrooms",
         "rawType": "float64",
         "type": "float"
        },
        {
         "name": "bathrooms",
         "rawType": "float64",
         "type": "float"
        },
        {
         "name": "sqft_living",
         "rawType": "float64",
         "type": "float"
        },
        {
         "name": "sqft_lot",
         "rawType": "float64",
         "type": "float"
        },
        {
         "name": "floors",
         "rawType": "float64",
         "type": "float"
        },
        {
         "name": "waterfront",
         "rawType": "float64",
         "type": "float"
        },
        {
         "name": "view",
         "rawType": "float64",
         "type": "float"
        },
        {
         "name": "condition",
         "rawType": "float64",
         "type": "float"
        },
        {
         "name": "grade",
         "rawType": "float64",
         "type": "float"
        },
        {
         "name": "sqft_above",
         "rawType": "float64",
         "type": "float"
        },
        {
         "name": "sqft_basement",
         "rawType": "float64",
         "type": "float"
        },
        {
         "name": "yr_built",
         "rawType": "float64",
         "type": "float"
        },
        {
         "name": "yr_renovated",
         "rawType": "float64",
         "type": "float"
        },
        {
         "name": "zipcode",
         "rawType": "float64",
         "type": "float"
        },
        {
         "name": "lat",
         "rawType": "float64",
         "type": "float"
        },
        {
         "name": "long",
         "rawType": "float64",
         "type": "float"
        },
        {
         "name": "sqft_living15",
         "rawType": "float64",
         "type": "float"
        },
        {
         "name": "sqft_lot15",
         "rawType": "float64",
         "type": "float"
        }
       ],
       "ref": "9d403693-3f62-4294-83c6-3b13f60169f6",
       "rows": [
        [
         "count",
         "21613.0",
         "21600.0",
         "21603.0",
         "21613.0",
         "21613.0",
         "21613.0",
         "21613.0",
         "21613.0",
         "21613.0",
         "21613.0",
         "21613.0",
         "21613.0",
         "21613.0",
         "21613.0",
         "21613.0",
         "21613.0",
         "21613.0",
         "21613.0",
         "21613.0"
        ],
        [
         "mean",
         "540088.14",
         "3.37",
         "2.12",
         "2079.9",
         "15106.97",
         "1.49",
         "0.01",
         "0.23",
         "3.41",
         "7.66",
         "1788.39",
         "291.51",
         "1971.01",
         "84.4",
         "98077.94",
         "47.56",
         "-122.21",
         "1986.55",
         "12768.46"
        ],
        [
         "std",
         "367127.2",
         "0.93",
         "0.77",
         "918.44",
         "41420.51",
         "0.54",
         "0.09",
         "0.77",
         "0.65",
         "1.18",
         "828.09",
         "442.58",
         "29.37",
         "401.68",
         "53.51",
         "0.14",
         "0.14",
         "685.39",
         "27304.18"
        ],
        [
         "min",
         "75000.0",
         "1.0",
         "0.5",
         "290.0",
         "520.0",
         "1.0",
         "0.0",
         "0.0",
         "1.0",
         "1.0",
         "290.0",
         "0.0",
         "1900.0",
         "0.0",
         "98001.0",
         "47.16",
         "-122.52",
         "399.0",
         "651.0"
        ],
        [
         "25%",
         "321950.0",
         "3.0",
         "1.75",
         "1427.0",
         "5040.0",
         "1.0",
         "0.0",
         "0.0",
         "3.0",
         "7.0",
         "1190.0",
         "0.0",
         "1951.0",
         "0.0",
         "98033.0",
         "47.47",
         "-122.33",
         "1490.0",
         "5100.0"
        ],
        [
         "50%",
         "450000.0",
         "3.0",
         "2.25",
         "1910.0",
         "7618.0",
         "1.5",
         "0.0",
         "0.0",
         "3.0",
         "7.0",
         "1560.0",
         "0.0",
         "1975.0",
         "0.0",
         "98065.0",
         "47.57",
         "-122.23",
         "1840.0",
         "7620.0"
        ],
        [
         "75%",
         "645000.0",
         "4.0",
         "2.5",
         "2550.0",
         "10688.0",
         "2.0",
         "0.0",
         "0.0",
         "4.0",
         "8.0",
         "2210.0",
         "560.0",
         "1997.0",
         "0.0",
         "98118.0",
         "47.68",
         "-122.12",
         "2360.0",
         "10083.0"
        ],
        [
         "max",
         "7700000.0",
         "33.0",
         "8.0",
         "13540.0",
         "1651359.0",
         "3.5",
         "1.0",
         "4.0",
         "5.0",
         "13.0",
         "9410.0",
         "4820.0",
         "2015.0",
         "2015.0",
         "98199.0",
         "47.78",
         "-121.32",
         "6210.0",
         "871200.0"
        ]
       ],
       "shape": {
        "columns": 19,
        "rows": 8
       }
      },
      "text/html": [
       "<div>\n",
       "<style scoped>\n",
       "    .dataframe tbody tr th:only-of-type {\n",
       "        vertical-align: middle;\n",
       "    }\n",
       "\n",
       "    .dataframe tbody tr th {\n",
       "        vertical-align: top;\n",
       "    }\n",
       "\n",
       "    .dataframe thead th {\n",
       "        text-align: right;\n",
       "    }\n",
       "</style>\n",
       "<table border=\"1\" class=\"dataframe\">\n",
       "  <thead>\n",
       "    <tr style=\"text-align: right;\">\n",
       "      <th></th>\n",
       "      <th>price</th>\n",
       "      <th>bedrooms</th>\n",
       "      <th>bathrooms</th>\n",
       "      <th>sqft_living</th>\n",
       "      <th>sqft_lot</th>\n",
       "      <th>floors</th>\n",
       "      <th>waterfront</th>\n",
       "      <th>view</th>\n",
       "      <th>condition</th>\n",
       "      <th>grade</th>\n",
       "      <th>sqft_above</th>\n",
       "      <th>sqft_basement</th>\n",
       "      <th>yr_built</th>\n",
       "      <th>yr_renovated</th>\n",
       "      <th>zipcode</th>\n",
       "      <th>lat</th>\n",
       "      <th>long</th>\n",
       "      <th>sqft_living15</th>\n",
       "      <th>sqft_lot15</th>\n",
       "    </tr>\n",
       "  </thead>\n",
       "  <tbody>\n",
       "    <tr>\n",
       "      <th>count</th>\n",
       "      <td>21613.00</td>\n",
       "      <td>21600.00</td>\n",
       "      <td>21603.00</td>\n",
       "      <td>21613.00</td>\n",
       "      <td>21613.00</td>\n",
       "      <td>21613.00</td>\n",
       "      <td>21613.00</td>\n",
       "      <td>21613.00</td>\n",
       "      <td>21613.00</td>\n",
       "      <td>21613.00</td>\n",
       "      <td>21613.00</td>\n",
       "      <td>21613.00</td>\n",
       "      <td>21613.00</td>\n",
       "      <td>21613.00</td>\n",
       "      <td>21613.00</td>\n",
       "      <td>21613.00</td>\n",
       "      <td>21613.00</td>\n",
       "      <td>21613.00</td>\n",
       "      <td>21613.00</td>\n",
       "    </tr>\n",
       "    <tr>\n",
       "      <th>mean</th>\n",
       "      <td>540088.14</td>\n",
       "      <td>3.37</td>\n",
       "      <td>2.12</td>\n",
       "      <td>2079.90</td>\n",
       "      <td>15106.97</td>\n",
       "      <td>1.49</td>\n",
       "      <td>0.01</td>\n",
       "      <td>0.23</td>\n",
       "      <td>3.41</td>\n",
       "      <td>7.66</td>\n",
       "      <td>1788.39</td>\n",
       "      <td>291.51</td>\n",
       "      <td>1971.01</td>\n",
       "      <td>84.40</td>\n",
       "      <td>98077.94</td>\n",
       "      <td>47.56</td>\n",
       "      <td>-122.21</td>\n",
       "      <td>1986.55</td>\n",
       "      <td>12768.46</td>\n",
       "    </tr>\n",
       "    <tr>\n",
       "      <th>std</th>\n",
       "      <td>367127.20</td>\n",
       "      <td>0.93</td>\n",
       "      <td>0.77</td>\n",
       "      <td>918.44</td>\n",
       "      <td>41420.51</td>\n",
       "      <td>0.54</td>\n",
       "      <td>0.09</td>\n",
       "      <td>0.77</td>\n",
       "      <td>0.65</td>\n",
       "      <td>1.18</td>\n",
       "      <td>828.09</td>\n",
       "      <td>442.58</td>\n",
       "      <td>29.37</td>\n",
       "      <td>401.68</td>\n",
       "      <td>53.51</td>\n",
       "      <td>0.14</td>\n",
       "      <td>0.14</td>\n",
       "      <td>685.39</td>\n",
       "      <td>27304.18</td>\n",
       "    </tr>\n",
       "    <tr>\n",
       "      <th>min</th>\n",
       "      <td>75000.00</td>\n",
       "      <td>1.00</td>\n",
       "      <td>0.50</td>\n",
       "      <td>290.00</td>\n",
       "      <td>520.00</td>\n",
       "      <td>1.00</td>\n",
       "      <td>0.00</td>\n",
       "      <td>0.00</td>\n",
       "      <td>1.00</td>\n",
       "      <td>1.00</td>\n",
       "      <td>290.00</td>\n",
       "      <td>0.00</td>\n",
       "      <td>1900.00</td>\n",
       "      <td>0.00</td>\n",
       "      <td>98001.00</td>\n",
       "      <td>47.16</td>\n",
       "      <td>-122.52</td>\n",
       "      <td>399.00</td>\n",
       "      <td>651.00</td>\n",
       "    </tr>\n",
       "    <tr>\n",
       "      <th>25%</th>\n",
       "      <td>321950.00</td>\n",
       "      <td>3.00</td>\n",
       "      <td>1.75</td>\n",
       "      <td>1427.00</td>\n",
       "      <td>5040.00</td>\n",
       "      <td>1.00</td>\n",
       "      <td>0.00</td>\n",
       "      <td>0.00</td>\n",
       "      <td>3.00</td>\n",
       "      <td>7.00</td>\n",
       "      <td>1190.00</td>\n",
       "      <td>0.00</td>\n",
       "      <td>1951.00</td>\n",
       "      <td>0.00</td>\n",
       "      <td>98033.00</td>\n",
       "      <td>47.47</td>\n",
       "      <td>-122.33</td>\n",
       "      <td>1490.00</td>\n",
       "      <td>5100.00</td>\n",
       "    </tr>\n",
       "    <tr>\n",
       "      <th>50%</th>\n",
       "      <td>450000.00</td>\n",
       "      <td>3.00</td>\n",
       "      <td>2.25</td>\n",
       "      <td>1910.00</td>\n",
       "      <td>7618.00</td>\n",
       "      <td>1.50</td>\n",
       "      <td>0.00</td>\n",
       "      <td>0.00</td>\n",
       "      <td>3.00</td>\n",
       "      <td>7.00</td>\n",
       "      <td>1560.00</td>\n",
       "      <td>0.00</td>\n",
       "      <td>1975.00</td>\n",
       "      <td>0.00</td>\n",
       "      <td>98065.00</td>\n",
       "      <td>47.57</td>\n",
       "      <td>-122.23</td>\n",
       "      <td>1840.00</td>\n",
       "      <td>7620.00</td>\n",
       "    </tr>\n",
       "    <tr>\n",
       "      <th>75%</th>\n",
       "      <td>645000.00</td>\n",
       "      <td>4.00</td>\n",
       "      <td>2.50</td>\n",
       "      <td>2550.00</td>\n",
       "      <td>10688.00</td>\n",
       "      <td>2.00</td>\n",
       "      <td>0.00</td>\n",
       "      <td>0.00</td>\n",
       "      <td>4.00</td>\n",
       "      <td>8.00</td>\n",
       "      <td>2210.00</td>\n",
       "      <td>560.00</td>\n",
       "      <td>1997.00</td>\n",
       "      <td>0.00</td>\n",
       "      <td>98118.00</td>\n",
       "      <td>47.68</td>\n",
       "      <td>-122.12</td>\n",
       "      <td>2360.00</td>\n",
       "      <td>10083.00</td>\n",
       "    </tr>\n",
       "    <tr>\n",
       "      <th>max</th>\n",
       "      <td>7700000.00</td>\n",
       "      <td>33.00</td>\n",
       "      <td>8.00</td>\n",
       "      <td>13540.00</td>\n",
       "      <td>1651359.00</td>\n",
       "      <td>3.50</td>\n",
       "      <td>1.00</td>\n",
       "      <td>4.00</td>\n",
       "      <td>5.00</td>\n",
       "      <td>13.00</td>\n",
       "      <td>9410.00</td>\n",
       "      <td>4820.00</td>\n",
       "      <td>2015.00</td>\n",
       "      <td>2015.00</td>\n",
       "      <td>98199.00</td>\n",
       "      <td>47.78</td>\n",
       "      <td>-121.32</td>\n",
       "      <td>6210.00</td>\n",
       "      <td>871200.00</td>\n",
       "    </tr>\n",
       "  </tbody>\n",
       "</table>\n",
       "</div>"
      ],
      "text/plain": [
       "            price  bedrooms  bathrooms  sqft_living    sqft_lot    floors  \\\n",
       "count    21613.00  21600.00   21603.00     21613.00    21613.00  21613.00   \n",
       "mean    540088.14      3.37       2.12      2079.90    15106.97      1.49   \n",
       "std     367127.20      0.93       0.77       918.44    41420.51      0.54   \n",
       "min      75000.00      1.00       0.50       290.00      520.00      1.00   \n",
       "25%     321950.00      3.00       1.75      1427.00     5040.00      1.00   \n",
       "50%     450000.00      3.00       2.25      1910.00     7618.00      1.50   \n",
       "75%     645000.00      4.00       2.50      2550.00    10688.00      2.00   \n",
       "max    7700000.00     33.00       8.00     13540.00  1651359.00      3.50   \n",
       "\n",
       "       waterfront      view  condition     grade  sqft_above  sqft_basement  \\\n",
       "count    21613.00  21613.00   21613.00  21613.00    21613.00       21613.00   \n",
       "mean         0.01      0.23       3.41      7.66     1788.39         291.51   \n",
       "std          0.09      0.77       0.65      1.18      828.09         442.58   \n",
       "min          0.00      0.00       1.00      1.00      290.00           0.00   \n",
       "25%          0.00      0.00       3.00      7.00     1190.00           0.00   \n",
       "50%          0.00      0.00       3.00      7.00     1560.00           0.00   \n",
       "75%          0.00      0.00       4.00      8.00     2210.00         560.00   \n",
       "max          1.00      4.00       5.00     13.00     9410.00        4820.00   \n",
       "\n",
       "       yr_built  yr_renovated   zipcode       lat      long  sqft_living15  \\\n",
       "count  21613.00      21613.00  21613.00  21613.00  21613.00       21613.00   \n",
       "mean    1971.01         84.40  98077.94     47.56   -122.21        1986.55   \n",
       "std       29.37        401.68     53.51      0.14      0.14         685.39   \n",
       "min     1900.00          0.00  98001.00     47.16   -122.52         399.00   \n",
       "25%     1951.00          0.00  98033.00     47.47   -122.33        1490.00   \n",
       "50%     1975.00          0.00  98065.00     47.57   -122.23        1840.00   \n",
       "75%     1997.00          0.00  98118.00     47.68   -122.12        2360.00   \n",
       "max     2015.00       2015.00  98199.00     47.78   -121.32        6210.00   \n",
       "\n",
       "       sqft_lot15  \n",
       "count    21613.00  \n",
       "mean     12768.46  \n",
       "std      27304.18  \n",
       "min        651.00  \n",
       "25%       5100.00  \n",
       "50%       7620.00  \n",
       "75%      10083.00  \n",
       "max     871200.00  "
      ]
     },
     "execution_count": 41,
     "metadata": {},
     "output_type": "execute_result"
    }
   ],
   "source": [
    "df.drop([\"id\", \"Unnamed: 0\", \"date\"], axis = 1, inplace= True)\n",
    "df.describe().round(2)"
   ]
  },
  {
   "cell_type": "markdown",
   "metadata": {},
   "source": [
    "Now in the dataset, only usefull information stayed. We dropped two first columns with id's, the rest will be used in the modelling"
   ]
  },
  {
   "cell_type": "markdown",
   "metadata": {},
   "source": [
    "As the previos part shown - we have missing values for the columns <code> bedrooms</code>  and <code> bathrooms </code>\n"
   ]
  },
  {
   "cell_type": "code",
   "execution_count": 42,
   "metadata": {
    "collapsed": false,
    "jupyter": {
     "outputs_hidden": false
    }
   },
   "outputs": [
    {
     "name": "stdout",
     "output_type": "stream",
     "text": [
      "number of NaN values for the column bedrooms : 13\n",
      "number of NaN values for the column bathrooms : 10\n"
     ]
    }
   ],
   "source": [
    "print(\"number of NaN values for the column bedrooms :\", df['bedrooms'].isnull().sum())\n",
    "print(\"number of NaN values for the column bathrooms :\", df['bathrooms'].isnull().sum())\n"
   ]
  },
  {
   "cell_type": "markdown",
   "metadata": {},
   "source": [
    "We can replace the missing values of the column <code>'bedrooms'</code> with the mean of the column  <code>'bedrooms' </code> using the method <code>replace()</code>."
   ]
  },
  {
   "cell_type": "code",
   "execution_count": 43,
   "metadata": {},
   "outputs": [
    {
     "name": "stderr",
     "output_type": "stream",
     "text": [
      "C:\\Users\\olgas\\AppData\\Local\\Temp\\ipykernel_2208\\2937488510.py:1: FutureWarning: A value is trying to be set on a copy of a DataFrame or Series through chained assignment using an inplace method.\n",
      "The behavior will change in pandas 3.0. This inplace method will never work because the intermediate object on which we are setting values always behaves as a copy.\n",
      "\n",
      "For example, when doing 'df[col].method(value, inplace=True)', try using 'df.method({col: value}, inplace=True)' or df[col] = df[col].method(value) instead, to perform the operation inplace on the original object.\n",
      "\n",
      "\n",
      "  df['bedrooms'].replace(np.nan,df['bedrooms'].mean(), inplace=True)\n"
     ]
    }
   ],
   "source": [
    "df['bedrooms'].replace(np.nan,df['bedrooms'].mean(), inplace=True)"
   ]
  },
  {
   "cell_type": "markdown",
   "metadata": {},
   "source": [
    "We also replace the missing values of the column <code>'bathrooms'</code> with the mean of the column  <code>'bathrooms' </code> using the method <code>replace()</code>. Don't forget to set the <code> inplace </code>  parameter top <code> True </code>\n",
    "\n"
   ]
  },
  {
   "cell_type": "code",
   "execution_count": 44,
   "metadata": {},
   "outputs": [
    {
     "name": "stderr",
     "output_type": "stream",
     "text": [
      "C:\\Users\\olgas\\AppData\\Local\\Temp\\ipykernel_2208\\394068299.py:1: FutureWarning: A value is trying to be set on a copy of a DataFrame or Series through chained assignment using an inplace method.\n",
      "The behavior will change in pandas 3.0. This inplace method will never work because the intermediate object on which we are setting values always behaves as a copy.\n",
      "\n",
      "For example, when doing 'df[col].method(value, inplace=True)', try using 'df.method({col: value}, inplace=True)' or df[col] = df[col].method(value) instead, to perform the operation inplace on the original object.\n",
      "\n",
      "\n",
      "  df['bathrooms'].replace(np.nan,df['bathrooms'].mean(), inplace=True)\n"
     ]
    }
   ],
   "source": [
    "df['bathrooms'].replace(np.nan,df['bathrooms'].mean(), inplace=True)"
   ]
  },
  {
   "cell_type": "markdown",
   "metadata": {},
   "source": [
    "At the end, it is always usefull to check if the cleaning went as planed"
   ]
  },
  {
   "cell_type": "code",
   "execution_count": 45,
   "metadata": {
    "collapsed": false,
    "jupyter": {
     "outputs_hidden": false
    }
   },
   "outputs": [
    {
     "name": "stdout",
     "output_type": "stream",
     "text": [
      "number of NaN values for the column bedrooms : 0\n",
      "number of NaN values for the column bathrooms : 0\n"
     ]
    }
   ],
   "source": [
    "print(\"number of NaN values for the column bedrooms :\", df['bedrooms'].isnull().sum())\n",
    "print(\"number of NaN values for the column bathrooms :\", df['bathrooms'].isnull().sum())"
   ]
  },
  {
   "cell_type": "markdown",
   "metadata": {},
   "source": [
    "# Module 3: Exploratory Data Analysis\n"
   ]
  },
  {
   "cell_type": "markdown",
   "metadata": {},
   "source": [
    "In this part - we will selects some columns and try to take out as much information from data set as possible - using statistics and plots"
   ]
  },
  {
   "cell_type": "markdown",
   "metadata": {},
   "source": [
    "## Number of floors"
   ]
  },
  {
   "cell_type": "markdown",
   "metadata": {},
   "source": [
    "First - we want to analyze houses about their floors - how diverse is King Count house market? "
   ]
  },
  {
   "cell_type": "code",
   "execution_count": 46,
   "metadata": {
    "collapsed": false,
    "jupyter": {
     "outputs_hidden": false
    }
   },
   "outputs": [
    {
     "data": {
      "application/vnd.microsoft.datawrangler.viewer.v0+json": {
       "columns": [
        {
         "name": "floors",
         "rawType": "float64",
         "type": "float"
        },
        {
         "name": "count",
         "rawType": "int64",
         "type": "integer"
        }
       ],
       "ref": "97bf895f-306a-4689-85ea-473ad87c096a",
       "rows": [
        [
         "1.0",
         "10680"
        ],
        [
         "2.0",
         "8241"
        ],
        [
         "1.5",
         "1910"
        ],
        [
         "3.0",
         "613"
        ],
        [
         "2.5",
         "161"
        ],
        [
         "3.5",
         "8"
        ]
       ],
       "shape": {
        "columns": 1,
        "rows": 6
       }
      },
      "text/html": [
       "<div>\n",
       "<style scoped>\n",
       "    .dataframe tbody tr th:only-of-type {\n",
       "        vertical-align: middle;\n",
       "    }\n",
       "\n",
       "    .dataframe tbody tr th {\n",
       "        vertical-align: top;\n",
       "    }\n",
       "\n",
       "    .dataframe thead th {\n",
       "        text-align: right;\n",
       "    }\n",
       "</style>\n",
       "<table border=\"1\" class=\"dataframe\">\n",
       "  <thead>\n",
       "    <tr style=\"text-align: right;\">\n",
       "      <th></th>\n",
       "      <th>count</th>\n",
       "    </tr>\n",
       "    <tr>\n",
       "      <th>floors</th>\n",
       "      <th></th>\n",
       "    </tr>\n",
       "  </thead>\n",
       "  <tbody>\n",
       "    <tr>\n",
       "      <th>1.0</th>\n",
       "      <td>10680</td>\n",
       "    </tr>\n",
       "    <tr>\n",
       "      <th>2.0</th>\n",
       "      <td>8241</td>\n",
       "    </tr>\n",
       "    <tr>\n",
       "      <th>1.5</th>\n",
       "      <td>1910</td>\n",
       "    </tr>\n",
       "    <tr>\n",
       "      <th>3.0</th>\n",
       "      <td>613</td>\n",
       "    </tr>\n",
       "    <tr>\n",
       "      <th>2.5</th>\n",
       "      <td>161</td>\n",
       "    </tr>\n",
       "    <tr>\n",
       "      <th>3.5</th>\n",
       "      <td>8</td>\n",
       "    </tr>\n",
       "  </tbody>\n",
       "</table>\n",
       "</div>"
      ],
      "text/plain": [
       "        count\n",
       "floors       \n",
       "1.0     10680\n",
       "2.0      8241\n",
       "1.5      1910\n",
       "3.0       613\n",
       "2.5       161\n",
       "3.5         8"
      ]
     },
     "execution_count": 46,
     "metadata": {},
     "output_type": "execute_result"
    }
   ],
   "source": [
    "df['floors'].value_counts().to_frame()"
   ]
  },
  {
   "cell_type": "code",
   "execution_count": 47,
   "metadata": {},
   "outputs": [
    {
     "data": {
      "text/plain": [
       "<Axes: xlabel='floors', ylabel='Count'>"
      ]
     },
     "execution_count": 47,
     "metadata": {},
     "output_type": "execute_result"
    },
    {
     "data": {
      "image/png": "[encoded data removed]",
      "text/plain": [
       "<Figure size 640x480 with 1 Axes>"
      ]
     },
     "metadata": {},
     "output_type": "display_data"
    }
   ],
   "source": [
    "sns.histplot(df['floors'], color = \"#BA2684\", binwidth= 0.2)"
   ]
  },
  {
   "cell_type": "markdown",
   "metadata": {},
   "source": [
    "With incline in number of full floors - number of houses shrinks significantly. Unfortunetly we cannot find what is a house with half of floor? We can see that houses with halfs of flors are way less popular than houses with only full floors. Still the market is preatty diverse looking at the graph"
   ]
  },
  {
   "cell_type": "markdown",
   "metadata": {},
   "source": [
    "## Waterfront view"
   ]
  },
  {
   "cell_type": "markdown",
   "metadata": {},
   "source": [
    "Next intresting feature of houses selled in King Count is waterfromt view. Do houses with waterfrontview sell for higher price or is it completly unrelated. In order to check this, the boxplots were prepered."
   ]
  },
  {
   "cell_type": "code",
   "execution_count": 48,
   "metadata": {
    "collapsed": false,
    "jupyter": {
     "outputs_hidden": false
    }
   },
   "outputs": [
    {
     "data": {
      "text/plain": [
       "<Axes: xlabel='waterfront', ylabel='price'>"
      ]
     },
     "execution_count": 48,
     "metadata": {},
     "output_type": "execute_result"
    },
    {
     "data": {
      "image/png": "[encoded data removed]",
      "text/plain": [
       "<Figure size 640x480 with 1 Axes>"
      ]
     },
     "metadata": {},
     "output_type": "display_data"
    }
   ],
   "source": [
    "sns.boxplot(x = df[\"waterfront\"], y = df['price'])"
   ]
  },
  {
   "cell_type": "markdown",
   "metadata": {},
   "source": [
    "Looking at this graph, we can easily notice that median in houses with waterfront view is way higher (around 1.5M USD) than median for other houses (around 600K USD). Nevertheless - other houses have a lot more outliers - even ones that are more exspensive than houses with waterfront view. "
   ]
  },
  {
   "cell_type": "code",
   "execution_count": 49,
   "metadata": {},
   "outputs": [
    {
     "data": {
      "image/png": "[encoded data removed]",
      "text/plain": [
       "<Figure size 640x480 with 1 Axes>"
      ]
     },
     "metadata": {},
     "output_type": "display_data"
    }
   ],
   "source": [
    "sns.kdeplot(\n",
    "    data=df[df['waterfront'] == 0],\n",
    "    x='price',\n",
    "    fill=True,\n",
    "    label='Waterfront = 0',\n",
    "    alpha=0.5\n",
    ")\n",
    "\n",
    "sns.kdeplot(\n",
    "    data=df[df['waterfront'] == 1],\n",
    "    x='price',\n",
    "    fill=True,\n",
    "    label='Waterfront = 1',\n",
    "    alpha=0.5\n",
    ")\n",
    "\n",
    "plt.legend()\n",
    "plt.title(\"Prices for waterfront 0 and 1\")\n",
    "plt.xlabel(\"Price\")\n",
    "plt.ylabel(\"\")\n",
    "plt.show()"
   ]
  },
  {
   "cell_type": "markdown",
   "metadata": {},
   "source": [
    "Additionaly we can see that there are way less houses with waterfrontview - and they tend to be more price than the most popular not waterfront view houses, but not more price from all of them"
   ]
  },
  {
   "cell_type": "markdown",
   "metadata": {},
   "source": [
    "## Square footage of the house"
   ]
  },
  {
   "cell_type": "markdown",
   "metadata": {},
   "source": [
    "Next importnat feature of huse is houses's squre footage ( without the basement). Does bigger homes get bigger prices or is it the other way around?"
   ]
  },
  {
   "cell_type": "code",
   "execution_count": 50,
   "metadata": {
    "collapsed": false,
    "jupyter": {
     "outputs_hidden": false
    }
   },
   "outputs": [
    {
     "data": {
      "text/plain": [
       "<Axes: xlabel='sqft_above', ylabel='price'>"
      ]
     },
     "execution_count": 50,
     "metadata": {},
     "output_type": "execute_result"
    },
    {
     "data": {
      "image/png": "[encoded data removed]",
      "text/plain": [
       "<Figure size 640x480 with 1 Axes>"
      ]
     },
     "metadata": {},
     "output_type": "display_data"
    }
   ],
   "source": [
    "sns.regplot(x = df['sqft_above'], y = df['price'], line_kws ={\"color\": \"orange\"}, color = \"#BA2684\")"
   ]
  },
  {
   "cell_type": "markdown",
   "metadata": {},
   "source": [
    "The regplot points out that the correlation between those two features is positive - the biger square footage the bigger the price - which is easy to predict. Let's see what value is correlated with price the strongest. "
   ]
  },
  {
   "cell_type": "markdown",
   "metadata": {},
   "source": [
    "We can use the Pandas method <code>corr()</code>  to find the feature other than price that is most correlated with price.\n"
   ]
  },
  {
   "cell_type": "code",
   "execution_count": 60,
   "metadata": {
    "collapsed": false,
    "jupyter": {
     "outputs_hidden": false
    }
   },
   "outputs": [
    {
     "data": {
      "application/vnd.microsoft.datawrangler.viewer.v0+json": {
       "columns": [
        {
         "name": "index",
         "rawType": "object",
         "type": "string"
        },
        {
         "name": "price",
         "rawType": "float64",
         "type": "float"
        }
       ],
       "ref": "e0e73d8a-3ddd-4ecb-b580-fd53cdfb683e",
       "rows": [
        [
         "price",
         "1.0"
        ],
        [
         "sqft_living",
         "0.7020350546118005"
        ],
        [
         "grade",
         "0.6674342560202353"
        ],
        [
         "sqft_above",
         "0.6055672983560784"
        ],
        [
         "sqft_living15",
         "0.5853789035795692"
        ],
        [
         "bathrooms",
         "0.52573751112427"
        ],
        [
         "view",
         "0.39729348829450273"
        ],
        [
         "sqft_basement",
         "0.3238160207119844"
        ],
        [
         "bedrooms",
         "0.3087968022200232"
        ],
        [
         "lat",
         "0.30700347999525446"
        ],
        [
         "waterfront",
         "0.26636943403060204"
        ],
        [
         "floors",
         "0.25679388755071897"
        ],
        [
         "yr_renovated",
         "0.1264337934408933"
        ],
        [
         "sqft_lot",
         "0.0896608605871003"
        ],
        [
         "sqft_lot15",
         "0.08244715251948544"
        ],
        [
         "yr_built",
         "0.05401153149479249"
        ],
        [
         "condition",
         "0.03636178912899721"
        ],
        [
         "long",
         "0.021626241039337152"
        ],
        [
         "zipcode",
         "-0.05320285429829216"
        ]
       ],
       "shape": {
        "columns": 1,
        "rows": 19
       }
      },
      "text/html": [
       "<div>\n",
       "<style scoped>\n",
       "    .dataframe tbody tr th:only-of-type {\n",
       "        vertical-align: middle;\n",
       "    }\n",
       "\n",
       "    .dataframe tbody tr th {\n",
       "        vertical-align: top;\n",
       "    }\n",
       "\n",
       "    .dataframe thead th {\n",
       "        text-align: right;\n",
       "    }\n",
       "</style>\n",
       "<table border=\"1\" class=\"dataframe\">\n",
       "  <thead>\n",
       "    <tr style=\"text-align: right;\">\n",
       "      <th></th>\n",
       "      <th>price</th>\n",
       "    </tr>\n",
       "  </thead>\n",
       "  <tbody>\n",
       "    <tr>\n",
       "      <th>price</th>\n",
       "      <td>1.000000</td>\n",
       "    </tr>\n",
       "    <tr>\n",
       "      <th>sqft_living</th>\n",
       "      <td>0.702035</td>\n",
       "    </tr>\n",
       "    <tr>\n",
       "      <th>grade</th>\n",
       "      <td>0.667434</td>\n",
       "    </tr>\n",
       "    <tr>\n",
       "      <th>sqft_above</th>\n",
       "      <td>0.605567</td>\n",
       "    </tr>\n",
       "    <tr>\n",
       "      <th>sqft_living15</th>\n",
       "      <td>0.585379</td>\n",
       "    </tr>\n",
       "    <tr>\n",
       "      <th>bathrooms</th>\n",
       "      <td>0.525738</td>\n",
       "    </tr>\n",
       "    <tr>\n",
       "      <th>view</th>\n",
       "      <td>0.397293</td>\n",
       "    </tr>\n",
       "    <tr>\n",
       "      <th>sqft_basement</th>\n",
       "      <td>0.323816</td>\n",
       "    </tr>\n",
       "    <tr>\n",
       "      <th>bedrooms</th>\n",
       "      <td>0.308797</td>\n",
       "    </tr>\n",
       "    <tr>\n",
       "      <th>lat</th>\n",
       "      <td>0.307003</td>\n",
       "    </tr>\n",
       "    <tr>\n",
       "      <th>waterfront</th>\n",
       "      <td>0.266369</td>\n",
       "    </tr>\n",
       "    <tr>\n",
       "      <th>floors</th>\n",
       "      <td>0.256794</td>\n",
       "    </tr>\n",
       "    <tr>\n",
       "      <th>yr_renovated</th>\n",
       "      <td>0.126434</td>\n",
       "    </tr>\n",
       "    <tr>\n",
       "      <th>sqft_lot</th>\n",
       "      <td>0.089661</td>\n",
       "    </tr>\n",
       "    <tr>\n",
       "      <th>sqft_lot15</th>\n",
       "      <td>0.082447</td>\n",
       "    </tr>\n",
       "    <tr>\n",
       "      <th>yr_built</th>\n",
       "      <td>0.054012</td>\n",
       "    </tr>\n",
       "    <tr>\n",
       "      <th>condition</th>\n",
       "      <td>0.036362</td>\n",
       "    </tr>\n",
       "    <tr>\n",
       "      <th>long</th>\n",
       "      <td>0.021626</td>\n",
       "    </tr>\n",
       "    <tr>\n",
       "      <th>zipcode</th>\n",
       "      <td>-0.053203</td>\n",
       "    </tr>\n",
       "  </tbody>\n",
       "</table>\n",
       "</div>"
      ],
      "text/plain": [
       "                  price\n",
       "price          1.000000\n",
       "sqft_living    0.702035\n",
       "grade          0.667434\n",
       "sqft_above     0.605567\n",
       "sqft_living15  0.585379\n",
       "bathrooms      0.525738\n",
       "view           0.397293\n",
       "sqft_basement  0.323816\n",
       "bedrooms       0.308797\n",
       "lat            0.307003\n",
       "waterfront     0.266369\n",
       "floors         0.256794\n",
       "yr_renovated   0.126434\n",
       "sqft_lot       0.089661\n",
       "sqft_lot15     0.082447\n",
       "yr_built       0.054012\n",
       "condition      0.036362\n",
       "long           0.021626\n",
       "zipcode       -0.053203"
      ]
     },
     "execution_count": 60,
     "metadata": {},
     "output_type": "execute_result"
    }
   ],
   "source": [
    "df.corr()['price'].sort_values(ascending=False).to_frame()"
   ]
  },
  {
   "cell_type": "markdown",
   "metadata": {},
   "source": [
    "it can be easly seen that the most important featires is square footage and the grade house was given by the concil"
   ]
  },
  {
   "cell_type": "markdown",
   "metadata": {},
   "source": [
    "# Module 4: Model Development\n"
   ]
  },
  {
   "cell_type": "markdown",
   "metadata": {},
   "source": [
    "After EDA it is time to try to use the data set for prediction of house prices. In this part we will bulid some Linear reggression models."
   ]
  },
  {
   "cell_type": "markdown",
   "metadata": {},
   "source": [
    "For example - We can Fit a linear regression model using the  longitude feature <code>'long'</code> and  caculate the R^2.\n"
   ]
  },
  {
   "cell_type": "code",
   "execution_count": 52,
   "metadata": {
    "collapsed": false,
    "jupyter": {
     "outputs_hidden": false
    }
   },
   "outputs": [
    {
     "data": {
      "text/plain": [
       "0.00046769430149007363"
      ]
     },
     "execution_count": 52,
     "metadata": {},
     "output_type": "execute_result"
    }
   ],
   "source": [
    "X = df[['long']]\n",
    "Y = df['price']\n",
    "lm = LinearRegression()\n",
    "lm.fit(X,Y)\n",
    "lm.score(X, Y)"
   ]
  },
  {
   "cell_type": "markdown",
   "metadata": {},
   "source": [
    "Of course the result is tragic - the longitude feature is barly correlkated with the price. While building model we will need better fit."
   ]
  },
  {
   "cell_type": "markdown",
   "metadata": {},
   "source": [
    "We can use the highest correleted vale - square footage of living area.\n"
   ]
  },
  {
   "cell_type": "code",
   "execution_count": null,
   "metadata": {
    "collapsed": false,
    "jupyter": {
     "outputs_hidden": false
    }
   },
   "outputs": [
    {
     "data": {
      "text/plain": [
       "0.4928532179037931"
      ]
     },
     "execution_count": 61,
     "metadata": {},
     "output_type": "execute_result"
    }
   ],
   "source": [
    "Z = df[['sqft_living']]\n",
    "lm.fit(Z,Y)\n",
    "lm.score(Z, Y)"
   ]
  },
  {
   "cell_type": "markdown",
   "metadata": {},
   "source": [
    "Using one variable we achived 49% - that is not high but not so dissapointing either. It will be more usefull to use a list of features"
   ]
  },
  {
   "cell_type": "markdown",
   "metadata": {},
   "source": [
    "### Question 7\n",
    "\n",
    "Fit a linear regression model to predict the <code>'price'</code> using the list of features:\n"
   ]
  },
  {
   "cell_type": "code",
   "execution_count": null,
   "metadata": {},
   "outputs": [
    {
     "data": {
      "application/vnd.microsoft.datawrangler.viewer.v0+json": {
       "columns": [
        {
         "name": "index",
         "rawType": "int64",
         "type": "integer"
        },
        {
         "name": "price",
         "rawType": "float64",
         "type": "float"
        },
        {
         "name": "bedrooms",
         "rawType": "float64",
         "type": "float"
        },
        {
         "name": "bathrooms",
         "rawType": "float64",
         "type": "float"
        },
        {
         "name": "sqft_living",
         "rawType": "int64",
         "type": "integer"
        },
        {
         "name": "sqft_lot",
         "rawType": "int64",
         "type": "integer"
        },
        {
         "name": "floors",
         "rawType": "float64",
         "type": "float"
        },
        {
         "name": "waterfront",
         "rawType": "int64",
         "type": "integer"
        },
        {
         "name": "view",
         "rawType": "int64",
         "type": "integer"
        },
        {
         "name": "condition",
         "rawType": "int64",
         "type": "integer"
        },
        {
         "name": "grade",
         "rawType": "int64",
         "type": "integer"
        },
        {
         "name": "sqft_above",
         "rawType": "int64",
         "type": "integer"
        },
        {
         "name": "sqft_basement",
         "rawType": "int64",
         "type": "integer"
        },
        {
         "name": "yr_built",
         "rawType": "int64",
         "type": "integer"
        },
        {
         "name": "yr_renovated",
         "rawType": "int64",
         "type": "integer"
        },
        {
         "name": "zipcode",
         "rawType": "int64",
         "type": "integer"
        },
        {
         "name": "lat",
         "rawType": "float64",
         "type": "float"
        },
        {
         "name": "long",
         "rawType": "float64",
         "type": "float"
        },
        {
         "name": "sqft_living15",
         "rawType": "int64",
         "type": "integer"
        },
        {
         "name": "sqft_lot15",
         "rawType": "int64",
         "type": "integer"
        }
       ],
       "ref": "d15c49cc-85b5-4ea0-9527-54bcd67221b9",
       "rows": [
        [
         "0",
         "221900.0",
         "3.0",
         "1.0",
         "1180",
         "5650",
         "1.0",
         "0",
         "0",
         "3",
         "7",
         "1180",
         "0",
         "1955",
         "0",
         "98178",
         "47.5112",
         "-122.257",
         "1340",
         "5650"
        ],
        [
         "1",
         "538000.0",
         "3.0",
         "2.25",
         "2570",
         "7242",
         "2.0",
         "0",
         "0",
         "3",
         "7",
         "2170",
         "400",
         "1951",
         "1991",
         "98125",
         "47.721",
         "-122.319",
         "1690",
         "7639"
        ],
        [
         "2",
         "180000.0",
         "2.0",
         "1.0",
         "770",
         "10000",
         "1.0",
         "0",
         "0",
         "3",
         "6",
         "770",
         "0",
         "1933",
         "0",
         "98028",
         "47.7379",
         "-122.233",
         "2720",
         "8062"
        ],
        [
         "3",
         "604000.0",
         "4.0",
         "3.0",
         "1960",
         "5000",
         "1.0",
         "0",
         "0",
         "5",
         "7",
         "1050",
         "910",
         "1965",
         "0",
         "98136",
         "47.5208",
         "-122.393",
         "1360",
         "5000"
        ],
        [
         "4",
         "510000.0",
         "3.0",
         "2.0",
         "1680",
         "8080",
         "1.0",
         "0",
         "0",
         "3",
         "8",
         "1680",
         "0",
         "1987",
         "0",
         "98074",
         "47.6168",
         "-122.045",
         "1800",
         "7503"
        ],
        [
         "5",
         "1225000.0",
         "4.0",
         "4.5",
         "5420",
         "101930",
         "1.0",
         "0",
         "0",
         "3",
         "11",
         "3890",
         "1530",
         "2001",
         "0",
         "98053",
         "47.6561",
         "-122.005",
         "4760",
         "101930"
        ],
        [
         "6",
         "257500.0",
         "3.0",
         "2.25",
         "1715",
         "6819",
         "2.0",
         "0",
         "0",
         "3",
         "7",
         "1715",
         "0",
         "1995",
         "0",
         "98003",
         "47.3097",
         "-122.327",
         "2238",
         "6819"
        ],
        [
         "7",
         "291850.0",
         "3.0",
         "1.5",
         "1060",
         "9711",
         "1.0",
         "0",
         "0",
         "3",
         "7",
         "1060",
         "0",
         "1963",
         "0",
         "98198",
         "47.4095",
         "-122.315",
         "1650",
         "9711"
        ],
        [
         "8",
         "229500.0",
         "3.0",
         "1.0",
         "1780",
         "7470",
         "1.0",
         "0",
         "0",
         "3",
         "7",
         "1050",
         "730",
         "1960",
         "0",
         "98146",
         "47.5123",
         "-122.337",
         "1780",
         "8113"
        ],
        [
         "9",
         "323000.0",
         "3.0",
         "2.5",
         "1890",
         "6560",
         "2.0",
         "0",
         "0",
         "3",
         "7",
         "1890",
         "0",
         "2003",
         "0",
         "98038",
         "47.3684",
         "-122.031",
         "2390",
         "7570"
        ],
        [
         "10",
         "662500.0",
         "3.0",
         "2.5",
         "3560",
         "9796",
         "1.0",
         "0",
         "0",
         "3",
         "8",
         "1860",
         "1700",
         "1965",
         "0",
         "98007",
         "47.6007",
         "-122.145",
         "2210",
         "8925"
        ],
        [
         "11",
         "468000.0",
         "2.0",
         "1.0",
         "1160",
         "6000",
         "1.0",
         "0",
         "0",
         "4",
         "7",
         "860",
         "300",
         "1942",
         "0",
         "98115",
         "47.69",
         "-122.292",
         "1330",
         "6000"
        ],
        [
         "12",
         "310000.0",
         "3.0",
         "1.0",
         "1430",
         "19901",
         "1.5",
         "0",
         "0",
         "4",
         "7",
         "1430",
         "0",
         "1927",
         "0",
         "98028",
         "47.7558",
         "-122.229",
         "1780",
         "12697"
        ],
        [
         "13",
         "400000.0",
         "3.0",
         "1.75",
         "1370",
         "9680",
         "1.0",
         "0",
         "0",
         "4",
         "7",
         "1370",
         "0",
         "1977",
         "0",
         "98074",
         "47.6127",
         "-122.045",
         "1370",
         "10208"
        ],
        [
         "14",
         "530000.0",
         "5.0",
         "2.0",
         "1810",
         "4850",
         "1.5",
         "0",
         "0",
         "3",
         "7",
         "1810",
         "0",
         "1900",
         "0",
         "98107",
         "47.67",
         "-122.394",
         "1360",
         "4850"
        ],
        [
         "15",
         "650000.0",
         "4.0",
         "3.0",
         "2950",
         "5000",
         "2.0",
         "0",
         "3",
         "3",
         "9",
         "1980",
         "970",
         "1979",
         "0",
         "98126",
         "47.5714",
         "-122.375",
         "2140",
         "4000"
        ],
        [
         "16",
         "395000.0",
         "3.0",
         "2.0",
         "1890",
         "14040",
         "2.0",
         "0",
         "0",
         "3",
         "7",
         "1890",
         "0",
         "1994",
         "0",
         "98019",
         "47.7277",
         "-121.962",
         "1890",
         "14018"
        ],
        [
         "17",
         "485000.0",
         "4.0",
         "1.0",
         "1600",
         "4300",
         "1.5",
         "0",
         "0",
         "4",
         "7",
         "1600",
         "0",
         "1916",
         "0",
         "98103",
         "47.6648",
         "-122.343",
         "1610",
         "4300"
        ],
        [
         "18",
         "189000.0",
         "2.0",
         "1.0",
         "1200",
         "9850",
         "1.0",
         "0",
         "0",
         "4",
         "7",
         "1200",
         "0",
         "1921",
         "0",
         "98002",
         "47.3089",
         "-122.21",
         "1060",
         "5095"
        ],
        [
         "19",
         "230000.0",
         "3.0",
         "1.0",
         "1250",
         "9774",
         "1.0",
         "0",
         "0",
         "4",
         "7",
         "1250",
         "0",
         "1969",
         "0",
         "98003",
         "47.3343",
         "-122.306",
         "1280",
         "8850"
        ],
        [
         "20",
         "385000.0",
         "4.0",
         "1.75",
         "1620",
         "4980",
         "1.0",
         "0",
         "0",
         "4",
         "7",
         "860",
         "760",
         "1947",
         "0",
         "98133",
         "47.7025",
         "-122.341",
         "1400",
         "4980"
        ],
        [
         "21",
         "2000000.0",
         "3.0",
         "2.75",
         "3050",
         "44867",
         "1.0",
         "0",
         "4",
         "3",
         "9",
         "2330",
         "720",
         "1968",
         "0",
         "98040",
         "47.5316",
         "-122.233",
         "4110",
         "20336"
        ],
        [
         "22",
         "285000.0",
         "5.0",
         "2.5",
         "2270",
         "6300",
         "2.0",
         "0",
         "0",
         "3",
         "8",
         "2270",
         "0",
         "1995",
         "0",
         "98092",
         "47.3266",
         "-122.169",
         "2240",
         "7005"
        ],
        [
         "23",
         "252700.0",
         "2.0",
         "1.5",
         "1070",
         "9643",
         "1.0",
         "0",
         "0",
         "3",
         "7",
         "1070",
         "0",
         "1985",
         "0",
         "98030",
         "47.3533",
         "-122.166",
         "1220",
         "8386"
        ],
        [
         "24",
         "329000.0",
         "3.0",
         "2.25",
         "2450",
         "6500",
         "2.0",
         "0",
         "0",
         "4",
         "8",
         "2450",
         "0",
         "1985",
         "0",
         "98030",
         "47.3739",
         "-122.172",
         "2200",
         "6865"
        ],
        [
         "25",
         "233000.0",
         "3.0",
         "2.0",
         "1710",
         "4697",
         "1.5",
         "0",
         "0",
         "5",
         "6",
         "1710",
         "0",
         "1941",
         "0",
         "98002",
         "47.3048",
         "-122.218",
         "1030",
         "4705"
        ],
        [
         "26",
         "937000.0",
         "3.0",
         "1.75",
         "2450",
         "2691",
         "2.0",
         "0",
         "0",
         "3",
         "8",
         "1750",
         "700",
         "1915",
         "0",
         "98119",
         "47.6386",
         "-122.36",
         "1760",
         "3573"
        ],
        [
         "27",
         "667000.0",
         "3.0",
         "1.0",
         "1400",
         "1581",
         "1.5",
         "0",
         "0",
         "5",
         "8",
         "1400",
         "0",
         "1909",
         "0",
         "98112",
         "47.6221",
         "-122.314",
         "1860",
         "3861"
        ],
        [
         "28",
         "438000.0",
         "3.0",
         "1.75",
         "1520",
         "6380",
         "1.0",
         "0",
         "0",
         "3",
         "7",
         "790",
         "730",
         "1948",
         "0",
         "98115",
         "47.695",
         "-122.304",
         "1520",
         "6235"
        ],
        [
         "29",
         "719000.0",
         "4.0",
         "2.5",
         "2570",
         "7173",
         "2.0",
         "0",
         "0",
         "3",
         "8",
         "2570",
         "0",
         "2005",
         "0",
         "98052",
         "47.7073",
         "-122.11",
         "2630",
         "6026"
        ],
        [
         "30",
         "580500.0",
         "3.0",
         "2.5",
         "2320",
         "3980",
         "2.0",
         "0",
         "0",
         "3",
         "8",
         "2320",
         "0",
         "2003",
         "0",
         "98027",
         "47.5391",
         "-122.07",
         "2580",
         "3980"
        ],
        [
         "31",
         "280000.0",
         "2.0",
         "1.5",
         "1190",
         "1265",
         "3.0",
         "0",
         "0",
         "3",
         "7",
         "1190",
         "0",
         "2005",
         "0",
         "98133",
         "47.7274",
         "-122.357",
         "1390",
         "1756"
        ],
        [
         "32",
         "687500.0",
         "4.0",
         "1.75",
         "2330",
         "5000",
         "1.5",
         "0",
         "0",
         "4",
         "7",
         "1510",
         "820",
         "1929",
         "0",
         "98117",
         "47.6823",
         "-122.368",
         "1460",
         "5000"
        ],
        [
         "33",
         "535000.0",
         "3.0",
         "1.0",
         "1090",
         "3000",
         "1.5",
         "0",
         "0",
         "4",
         "8",
         "1090",
         "0",
         "1929",
         "0",
         "98117",
         "47.6889",
         "-122.375",
         "1570",
         "5080"
        ],
        [
         "34",
         "322500.0",
         "4.0",
         "2.75",
         "2060",
         "6659",
         "1.0",
         "0",
         "0",
         "3",
         "7",
         "1280",
         "780",
         "1981",
         "0",
         "98058",
         "47.4276",
         "-122.157",
         "2020",
         "8720"
        ],
        [
         "35",
         "696000.0",
         "3.0",
         "2.5",
         "2300",
         "3060",
         "1.5",
         "0",
         "0",
         "3",
         "8",
         "1510",
         "790",
         "1930",
         "2002",
         "98115",
         "47.6827",
         "-122.31",
         "1590",
         "3264"
        ],
        [
         "36",
         "550000.0",
         "4.0",
         "1.0",
         "1660",
         "34848",
         "1.0",
         "0",
         "0",
         "1",
         "5",
         "930",
         "730",
         "1933",
         "0",
         "98052",
         "47.6621",
         "-122.132",
         "2160",
         "11467"
        ],
        [
         "37",
         "640000.0",
         "4.0",
         "2.0",
         "2360",
         "6000",
         "2.0",
         "0",
         "0",
         "4",
         "8",
         "2360",
         "0",
         "1904",
         "0",
         "98107",
         "47.6702",
         "-122.362",
         "1730",
         "4700"
        ],
        [
         "38",
         "240000.0",
         "4.0",
         "1.0",
         "1220",
         "8075",
         "1.0",
         "0",
         "0",
         "2",
         "7",
         "890",
         "330",
         "1969",
         "0",
         "98001",
         "47.3341",
         "-122.282",
         "1290",
         "7800"
        ],
        [
         "39",
         "605000.0",
         "4.0",
         "2.5",
         "2620",
         "7553",
         "2.0",
         "0",
         "0",
         "3",
         "8",
         "2620",
         "0",
         "1996",
         "0",
         "98056",
         "47.5301",
         "-122.18",
         "2620",
         "11884"
        ],
        [
         "40",
         "625000.0",
         "4.0",
         "2.5",
         "2570",
         "5520",
         "2.0",
         "0",
         "0",
         "3",
         "9",
         "2570",
         "0",
         "2000",
         "0",
         "98074",
         "47.6145",
         "-122.027",
         "2470",
         "5669"
        ],
        [
         "41",
         "775000.0",
         "4.0",
         "2.25",
         "4220",
         "24186",
         "1.0",
         "0",
         "0",
         "3",
         "8",
         "2600",
         "1620",
         "1984",
         "0",
         "98166",
         "47.445",
         "-122.347",
         "2410",
         "30617"
        ],
        [
         "42",
         "861990.0",
         "5.0",
         "2.75",
         "3595",
         "5639",
         "2.0",
         "0",
         "0",
         "3",
         "9",
         "3595",
         "0",
         "2014",
         "0",
         "98053",
         "47.6848",
         "-122.016",
         "3625",
         "5639"
        ],
        [
         "43",
         "685000.0",
         "3.0",
         "1.0",
         "1570",
         "2280",
         "2.0",
         "0",
         "0",
         "3",
         "7",
         "1570",
         "0",
         "1922",
         "0",
         "98119",
         "47.6413",
         "-122.364",
         "1580",
         "2640"
        ],
        [
         "44",
         "309000.0",
         "3.0",
         "1.0",
         "1280",
         "9656",
         "1.0",
         "0",
         "0",
         "4",
         "6",
         "920",
         "360",
         "1959",
         "0",
         "98058",
         "47.4485",
         "-122.175",
         "1340",
         "8808"
        ],
        [
         "45",
         "488000.0",
         "3.0",
         "2.5",
         "3160",
         "13603",
         "2.0",
         "0",
         "0",
         "3",
         "8",
         "3160",
         "0",
         "2003",
         "0",
         "98019",
         "47.7443",
         "-121.977",
         "3050",
         "9232"
        ],
        [
         "46",
         "210490.0",
         "3.0",
         "1.0",
         "990",
         "8528",
         "1.0",
         "0",
         "0",
         "3",
         "6",
         "990",
         "0",
         "1966",
         "0",
         "98023",
         "47.3066",
         "-122.371",
         "1228",
         "8840"
        ],
        [
         "47",
         "785000.0",
         "4.0",
         "2.5",
         "2290",
         "13416",
         "2.0",
         "0",
         "0",
         "4",
         "9",
         "2290",
         "0",
         "1981",
         "0",
         "98007",
         "47.6194",
         "-122.151",
         "2680",
         "13685"
        ],
        [
         "48",
         "450000.0",
         "3.0",
         "1.75",
         "1250",
         "5963",
         "1.0",
         "0",
         "0",
         "4",
         "7",
         "1250",
         "0",
         "1953",
         "0",
         "98115",
         "47.6796",
         "-122.301",
         "970",
         "5100"
        ],
        [
         "49",
         "1350000.0",
         "3.0",
         "2.5",
         "2753",
         "65005",
         "1.0",
         "1",
         "2",
         "5",
         "9",
         "2165",
         "588",
         "1953",
         "0",
         "98070",
         "47.4041",
         "-122.451",
         "2680",
         "72513"
        ]
       ],
       "shape": {
        "columns": 19,
        "rows": 21613
       }
      },
      "text/html": [
       "<div>\n",
       "<style scoped>\n",
       "    .dataframe tbody tr th:only-of-type {\n",
       "        vertical-align: middle;\n",
       "    }\n",
       "\n",
       "    .dataframe tbody tr th {\n",
       "        vertical-align: top;\n",
       "    }\n",
       "\n",
       "    .dataframe thead th {\n",
       "        text-align: right;\n",
       "    }\n",
       "</style>\n",
       "<table border=\"1\" class=\"dataframe\">\n",
       "  <thead>\n",
       "    <tr style=\"text-align: right;\">\n",
       "      <th></th>\n",
       "      <th>price</th>\n",
       "      <th>bedrooms</th>\n",
       "      <th>bathrooms</th>\n",
       "      <th>sqft_living</th>\n",
       "      <th>sqft_lot</th>\n",
       "      <th>floors</th>\n",
       "      <th>waterfront</th>\n",
       "      <th>view</th>\n",
       "      <th>condition</th>\n",
       "      <th>grade</th>\n",
       "      <th>sqft_above</th>\n",
       "      <th>sqft_basement</th>\n",
       "      <th>yr_built</th>\n",
       "      <th>yr_renovated</th>\n",
       "      <th>zipcode</th>\n",
       "      <th>lat</th>\n",
       "      <th>long</th>\n",
       "      <th>sqft_living15</th>\n",
       "      <th>sqft_lot15</th>\n",
       "    </tr>\n",
       "  </thead>\n",
       "  <tbody>\n",
       "    <tr>\n",
       "      <th>0</th>\n",
       "      <td>221900.0</td>\n",
       "      <td>3.0</td>\n",
       "      <td>1.00</td>\n",
       "      <td>1180</td>\n",
       "      <td>5650</td>\n",
       "      <td>1.0</td>\n",
       "      <td>0</td>\n",
       "      <td>0</td>\n",
       "      <td>3</td>\n",
       "      <td>7</td>\n",
       "      <td>1180</td>\n",
       "      <td>0</td>\n",
       "      <td>1955</td>\n",
       "      <td>0</td>\n",
       "      <td>98178</td>\n",
       "      <td>47.5112</td>\n",
       "      <td>-122.257</td>\n",
       "      <td>1340</td>\n",
       "      <td>5650</td>\n",
       "    </tr>\n",
       "    <tr>\n",
       "      <th>1</th>\n",
       "      <td>538000.0</td>\n",
       "      <td>3.0</td>\n",
       "      <td>2.25</td>\n",
       "      <td>2570</td>\n",
       "      <td>7242</td>\n",
       "      <td>2.0</td>\n",
       "      <td>0</td>\n",
       "      <td>0</td>\n",
       "      <td>3</td>\n",
       "      <td>7</td>\n",
       "      <td>2170</td>\n",
       "      <td>400</td>\n",
       "      <td>1951</td>\n",
       "      <td>1991</td>\n",
       "      <td>98125</td>\n",
       "      <td>47.7210</td>\n",
       "      <td>-122.319</td>\n",
       "      <td>1690</td>\n",
       "      <td>7639</td>\n",
       "    </tr>\n",
       "    <tr>\n",
       "      <th>2</th>\n",
       "      <td>180000.0</td>\n",
       "      <td>2.0</td>\n",
       "      <td>1.00</td>\n",
       "      <td>770</td>\n",
       "      <td>10000</td>\n",
       "      <td>1.0</td>\n",
       "      <td>0</td>\n",
       "      <td>0</td>\n",
       "      <td>3</td>\n",
       "      <td>6</td>\n",
       "      <td>770</td>\n",
       "      <td>0</td>\n",
       "      <td>1933</td>\n",
       "      <td>0</td>\n",
       "      <td>98028</td>\n",
       "      <td>47.7379</td>\n",
       "      <td>-122.233</td>\n",
       "      <td>2720</td>\n",
       "      <td>8062</td>\n",
       "    </tr>\n",
       "    <tr>\n",
       "      <th>3</th>\n",
       "      <td>604000.0</td>\n",
       "      <td>4.0</td>\n",
       "      <td>3.00</td>\n",
       "      <td>1960</td>\n",
       "      <td>5000</td>\n",
       "      <td>1.0</td>\n",
       "      <td>0</td>\n",
       "      <td>0</td>\n",
       "      <td>5</td>\n",
       "      <td>7</td>\n",
       "      <td>1050</td>\n",
       "      <td>910</td>\n",
       "      <td>1965</td>\n",
       "      <td>0</td>\n",
       "      <td>98136</td>\n",
       "      <td>47.5208</td>\n",
       "      <td>-122.393</td>\n",
       "      <td>1360</td>\n",
       "      <td>5000</td>\n",
       "    </tr>\n",
       "    <tr>\n",
       "      <th>4</th>\n",
       "      <td>510000.0</td>\n",
       "      <td>3.0</td>\n",
       "      <td>2.00</td>\n",
       "      <td>1680</td>\n",
       "      <td>8080</td>\n",
       "      <td>1.0</td>\n",
       "      <td>0</td>\n",
       "      <td>0</td>\n",
       "      <td>3</td>\n",
       "      <td>8</td>\n",
       "      <td>1680</td>\n",
       "      <td>0</td>\n",
       "      <td>1987</td>\n",
       "      <td>0</td>\n",
       "      <td>98074</td>\n",
       "      <td>47.6168</td>\n",
       "      <td>-122.045</td>\n",
       "      <td>1800</td>\n",
       "      <td>7503</td>\n",
       "    </tr>\n",
       "    <tr>\n",
       "      <th>...</th>\n",
       "      <td>...</td>\n",
       "      <td>...</td>\n",
       "      <td>...</td>\n",
       "      <td>...</td>\n",
       "      <td>...</td>\n",
       "      <td>...</td>\n",
       "      <td>...</td>\n",
       "      <td>...</td>\n",
       "      <td>...</td>\n",
       "      <td>...</td>\n",
       "      <td>...</td>\n",
       "      <td>...</td>\n",
       "      <td>...</td>\n",
       "      <td>...</td>\n",
       "      <td>...</td>\n",
       "      <td>...</td>\n",
       "      <td>...</td>\n",
       "      <td>...</td>\n",
       "      <td>...</td>\n",
       "    </tr>\n",
       "    <tr>\n",
       "      <th>21608</th>\n",
       "      <td>360000.0</td>\n",
       "      <td>3.0</td>\n",
       "      <td>2.50</td>\n",
       "      <td>1530</td>\n",
       "      <td>1131</td>\n",
       "      <td>3.0</td>\n",
       "      <td>0</td>\n",
       "      <td>0</td>\n",
       "      <td>3</td>\n",
       "      <td>8</td>\n",
       "      <td>1530</td>\n",
       "      <td>0</td>\n",
       "      <td>2009</td>\n",
       "      <td>0</td>\n",
       "      <td>98103</td>\n",
       "      <td>47.6993</td>\n",
       "      <td>-122.346</td>\n",
       "      <td>1530</td>\n",
       "      <td>1509</td>\n",
       "    </tr>\n",
       "    <tr>\n",
       "      <th>21609</th>\n",
       "      <td>400000.0</td>\n",
       "      <td>4.0</td>\n",
       "      <td>2.50</td>\n",
       "      <td>2310</td>\n",
       "      <td>5813</td>\n",
       "      <td>2.0</td>\n",
       "      <td>0</td>\n",
       "      <td>0</td>\n",
       "      <td>3</td>\n",
       "      <td>8</td>\n",
       "      <td>2310</td>\n",
       "      <td>0</td>\n",
       "      <td>2014</td>\n",
       "      <td>0</td>\n",
       "      <td>98146</td>\n",
       "      <td>47.5107</td>\n",
       "      <td>-122.362</td>\n",
       "      <td>1830</td>\n",
       "      <td>7200</td>\n",
       "    </tr>\n",
       "    <tr>\n",
       "      <th>21610</th>\n",
       "      <td>402101.0</td>\n",
       "      <td>2.0</td>\n",
       "      <td>0.75</td>\n",
       "      <td>1020</td>\n",
       "      <td>1350</td>\n",
       "      <td>2.0</td>\n",
       "      <td>0</td>\n",
       "      <td>0</td>\n",
       "      <td>3</td>\n",
       "      <td>7</td>\n",
       "      <td>1020</td>\n",
       "      <td>0</td>\n",
       "      <td>2009</td>\n",
       "      <td>0</td>\n",
       "      <td>98144</td>\n",
       "      <td>47.5944</td>\n",
       "      <td>-122.299</td>\n",
       "      <td>1020</td>\n",
       "      <td>2007</td>\n",
       "    </tr>\n",
       "    <tr>\n",
       "      <th>21611</th>\n",
       "      <td>400000.0</td>\n",
       "      <td>3.0</td>\n",
       "      <td>2.50</td>\n",
       "      <td>1600</td>\n",
       "      <td>2388</td>\n",
       "      <td>2.0</td>\n",
       "      <td>0</td>\n",
       "      <td>0</td>\n",
       "      <td>3</td>\n",
       "      <td>8</td>\n",
       "      <td>1600</td>\n",
       "      <td>0</td>\n",
       "      <td>2004</td>\n",
       "      <td>0</td>\n",
       "      <td>98027</td>\n",
       "      <td>47.5345</td>\n",
       "      <td>-122.069</td>\n",
       "      <td>1410</td>\n",
       "      <td>1287</td>\n",
       "    </tr>\n",
       "    <tr>\n",
       "      <th>21612</th>\n",
       "      <td>325000.0</td>\n",
       "      <td>2.0</td>\n",
       "      <td>0.75</td>\n",
       "      <td>1020</td>\n",
       "      <td>1076</td>\n",
       "      <td>2.0</td>\n",
       "      <td>0</td>\n",
       "      <td>0</td>\n",
       "      <td>3</td>\n",
       "      <td>7</td>\n",
       "      <td>1020</td>\n",
       "      <td>0</td>\n",
       "      <td>2008</td>\n",
       "      <td>0</td>\n",
       "      <td>98144</td>\n",
       "      <td>47.5941</td>\n",
       "      <td>-122.299</td>\n",
       "      <td>1020</td>\n",
       "      <td>1357</td>\n",
       "    </tr>\n",
       "  </tbody>\n",
       "</table>\n",
       "<p>21613 rows × 19 columns</p>\n",
       "</div>"
      ],
      "text/plain": [
       "          price  bedrooms  bathrooms  sqft_living  sqft_lot  floors  \\\n",
       "0      221900.0       3.0       1.00         1180      5650     1.0   \n",
       "1      538000.0       3.0       2.25         2570      7242     2.0   \n",
       "2      180000.0       2.0       1.00          770     10000     1.0   \n",
       "3      604000.0       4.0       3.00         1960      5000     1.0   \n",
       "4      510000.0       3.0       2.00         1680      8080     1.0   \n",
       "...         ...       ...        ...          ...       ...     ...   \n",
       "21608  360000.0       3.0       2.50         1530      1131     3.0   \n",
       "21609  400000.0       4.0       2.50         2310      5813     2.0   \n",
       "21610  402101.0       2.0       0.75         1020      1350     2.0   \n",
       "21611  400000.0       3.0       2.50         1600      2388     2.0   \n",
       "21612  325000.0       2.0       0.75         1020      1076     2.0   \n",
       "\n",
       "       waterfront  view  condition  grade  sqft_above  sqft_basement  \\\n",
       "0               0     0          3      7        1180              0   \n",
       "1               0     0          3      7        2170            400   \n",
       "2               0     0          3      6         770              0   \n",
       "3               0     0          5      7        1050            910   \n",
       "4               0     0          3      8        1680              0   \n",
       "...           ...   ...        ...    ...         ...            ...   \n",
       "21608           0     0          3      8        1530              0   \n",
       "21609           0     0          3      8        2310              0   \n",
       "21610           0     0          3      7        1020              0   \n",
       "21611           0     0          3      8        1600              0   \n",
       "21612           0     0          3      7        1020              0   \n",
       "\n",
       "       yr_built  yr_renovated  zipcode      lat     long  sqft_living15  \\\n",
       "0          1955             0    98178  47.5112 -122.257           1340   \n",
       "1          1951          1991    98125  47.7210 -122.319           1690   \n",
       "2          1933             0    98028  47.7379 -122.233           2720   \n",
       "3          1965             0    98136  47.5208 -122.393           1360   \n",
       "4          1987             0    98074  47.6168 -122.045           1800   \n",
       "...         ...           ...      ...      ...      ...            ...   \n",
       "21608      2009             0    98103  47.6993 -122.346           1530   \n",
       "21609      2014             0    98146  47.5107 -122.362           1830   \n",
       "21610      2009             0    98144  47.5944 -122.299           1020   \n",
       "21611      2004             0    98027  47.5345 -122.069           1410   \n",
       "21612      2008             0    98144  47.5941 -122.299           1020   \n",
       "\n",
       "       sqft_lot15  \n",
       "0            5650  \n",
       "1            7639  \n",
       "2            8062  \n",
       "3            5000  \n",
       "4            7503  \n",
       "...           ...  \n",
       "21608        1509  \n",
       "21609        7200  \n",
       "21610        2007  \n",
       "21611        1287  \n",
       "21612        1357  \n",
       "\n",
       "[21613 rows x 19 columns]"
      ]
     },
     "execution_count": 65,
     "metadata": {},
     "output_type": "execute_result"
    }
   ],
   "source": [
    "features =[\"floors\", \"waterfront\",\"lat\" ,\"bedrooms\" ,\"sqft_basement\" ,\"view\" ,\"bathrooms\",\"sqft_living15\",\"sqft_above\",\"grade\",\"sqft_living\"]     "
   ]
  },
  {
   "cell_type": "markdown",
   "metadata": {},
   "source": [
    "Then calculate the R^2. Take a screenshot of your code.\n"
   ]
  },
  {
   "cell_type": "code",
   "execution_count": 66,
   "metadata": {
    "collapsed": false,
    "jupyter": {
     "outputs_hidden": false
    }
   },
   "outputs": [
    {
     "data": {
      "text/plain": [
       "0.6576951666037505"
      ]
     },
     "execution_count": 66,
     "metadata": {},
     "output_type": "execute_result"
    }
   ],
   "source": [
    "M = df[[\"floors\", \"waterfront\",\"lat\" ,\"bedrooms\" ,\"sqft_basement\" ,\"view\" ,\"bathrooms\",\"sqft_living15\",\"sqft_above\",\"grade\",\"sqft_living\"]]\n",
    "lm.fit(M,Y)\n",
    "lm.score(M, Y)\n"
   ]
  },
  {
   "cell_type": "markdown",
   "metadata": {},
   "source": [
    "Using more features from dataset, we obtained higher R2 value - 66%. \n",
    "The model development can be taken further - using polymonial regression. \n",
    "Now we will be using pipeline for performing model development"
   ]
  },
  {
   "cell_type": "code",
   "execution_count": 54,
   "metadata": {},
   "outputs": [],
   "source": [
    "Input=[('scale',StandardScaler()),('polynomial', PolynomialFeatures(include_bias=False)),('model',LinearRegression())]"
   ]
  },
  {
   "cell_type": "markdown",
   "metadata": {},
   "source": [
    "### Question 8\n",
    "\n",
    "Use the list to create a pipeline object to predict the 'price', fit the object using the features in the list <code>features</code>, and calculate the R^2.\n"
   ]
  },
  {
   "cell_type": "code",
   "execution_count": 67,
   "metadata": {
    "collapsed": false,
    "jupyter": {
     "outputs_hidden": false
    }
   },
   "outputs": [
    {
     "name": "stdout",
     "output_type": "stream",
     "text": [
      "0.7513323588250258\n"
     ]
    }
   ],
   "source": [
    "from sklearn.metrics import r2_score\n",
    "pipe = Pipeline(Input)\n",
    "M = M.astype(float)\n",
    "\n",
    "pipe.fit(M,Y)\n",
    "\n",
    "ypipe = pipe.predict(M)\n",
    "print(r2_score(Y,ypipe))"
   ]
  },
  {
   "cell_type": "markdown",
   "metadata": {},
   "source": [
    "Using polymonial regression was succesful - the relation is not that linear after all. The obtained R2 result is 75% - which quite is high. "
   ]
  },
  {
   "cell_type": "markdown",
   "metadata": {},
   "source": [
    "# Module 5: Model Evaluation and Refinement\n"
   ]
  },
  {
   "cell_type": "markdown",
   "metadata": {},
   "source": [
    "Import the necessary modules:\n"
   ]
  },
  {
   "cell_type": "code",
   "execution_count": null,
   "metadata": {
    "collapsed": false,
    "jupyter": {
     "outputs_hidden": false
    }
   },
   "outputs": [
    {
     "name": "stdout",
     "output_type": "stream",
     "text": [
      "done\n"
     ]
    }
   ],
   "source": [
    "from sklearn.model_selection import cross_val_score\n",
    "from sklearn.model_selection import train_test_split"
   ]
  },
  {
   "cell_type": "markdown",
   "metadata": {},
   "source": [
    "We will split the data into training and testing sets:\n"
   ]
  },
  {
   "cell_type": "code",
   "execution_count": 68,
   "metadata": {
    "collapsed": false,
    "jupyter": {
     "outputs_hidden": false
    }
   },
   "outputs": [
    {
     "name": "stdout",
     "output_type": "stream",
     "text": [
      "number of test samples: 3242\n",
      "number of training samples: 18371\n"
     ]
    }
   ],
   "source": [
    "features =[\"floors\", \"waterfront\",\"lat\" ,\"bedrooms\" ,\"sqft_basement\" ,\"view\" ,\"bathrooms\",\"sqft_living15\",\"sqft_above\",\"grade\",\"sqft_living\"]    \n",
    "X = df[features]\n",
    "Y = df['price']\n",
    "\n",
    "x_train, x_test, y_train, y_test = train_test_split(X, Y, test_size=0.15, random_state=1)\n",
    "\n",
    "\n",
    "print(\"number of test samples:\", x_test.shape[0])\n",
    "print(\"number of training samples:\",x_train.shape[0])"
   ]
  },
  {
   "cell_type": "code",
   "execution_count": 57,
   "metadata": {},
   "outputs": [],
   "source": [
    "from sklearn.linear_model import Ridge"
   ]
  },
  {
   "cell_type": "code",
   "execution_count": 69,
   "metadata": {
    "collapsed": false,
    "jupyter": {
     "outputs_hidden": false
    }
   },
   "outputs": [
    {
     "name": "stdout",
     "output_type": "stream",
     "text": [
      "0.6478759163939107\n"
     ]
    }
   ],
   "source": [
    "RidgeModel = Ridge(alpha = 0.1)\n",
    "RidgeModel.fit(x_train, y_train)\n",
    "yhat = RidgeModel.predict(x_test)\n",
    "print(r2_score(y_test, yhat))"
   ]
  },
  {
   "cell_type": "code",
   "execution_count": 70,
   "metadata": {
    "collapsed": false,
    "jupyter": {
     "outputs_hidden": false
    }
   },
   "outputs": [
    {
     "name": "stdout",
     "output_type": "stream",
     "text": [
      "0.7002744263524896\n"
     ]
    }
   ],
   "source": [
    "pr = PolynomialFeatures(degree = 2)\n",
    "x_train_pr = pr.fit_transform(x_train)\n",
    "x_test_pr = pr.transform(x_test)\n",
    "\n",
    "RidgeModel.fit(x_train_pr, y_train)\n",
    "y_hat = RidgeModel.predict(x_test_pr)\n",
    "print(r2_score(y_test,y_hat))"
   ]
  }
 ],
 "metadata": {
  "kernelspec": {
   "display_name": "base",
   "language": "python",
   "name": "python3"
  },
  "language_info": {
   "codemirror_mode": {
    "name": "ipython",
    "version": 3
   },
   "file_extension": ".py",
   "mimetype": "text/x-python",
   "name": "python",
   "nbconvert_exporter": "python",
   "pygments_lexer": "ipython3",
   "version": "3.12.4"
  }
 },
 "nbformat": 4,
 "nbformat_minor": 4
}
