{
 "cells": [
  {
   "cell_type": "markdown",
   "id": "43b9eefe",
   "metadata": {},
   "source": [
    "# Object-Oriented Programming (OOP) in Python\n",
    "\n",
    "## Basic Concepts\n",
    "- **Class**: Blueprint for creating objects\n",
    "- **Object**: Instance of a class\n",
    "- **Attributes**: Variables that belong to an object/class\n",
    "- **Methods**: Functions that belong to an object/class\n",
    "\n",
    "## Class Definition\n",
    "```python\n",
    "class MyClass:\n",
    "    class_attribute = \"I'm a class attribute\"\n",
    "    \n",
    "    def __init__(self, param):\n",
    "        self.instance_attribute = param\n",
    "    \n",
    "    def instance_method(self):\n",
    "        return f\"Called instance method with {self.instance_attribute}\"\n",
    "```\n",
    "\n",
    "## Creating Objects\n",
    "``` python\n",
    "obj = MyClass(\"value\")\n",
    "print(obj.instance_attribute)  # Access attribute\n",
    "print(obj.instance_method())  # Call method\n",
    "```\n",
    "## Pillars of OOP\n",
    "\n",
    "1. Encapsulation\n",
    "Bundling data and methods within a class\n",
    "\n",
    "Using access modifiers:\n",
    "\n",
    "Public: self.public\n",
    "\n",
    "Protected: self._protected (convention)\n",
    "\n",
    "Private: self.__private (name mangling)\n",
    "\n",
    "```python\n",
    "class BankAccount:\n",
    "    def __init__(self):\n",
    "        self.__balance = 0  # Private attribute\n",
    "    \n",
    "    def deposit(self, amount):\n",
    "        self.__balance += amount\n",
    "    \n",
    "    def get_balance(self):\n",
    "        return self.__balance\n",
    "```\n",
    "\n",
    "## Inheritance\n",
    "Creating new classes from existing ones\n",
    "\n",
    "```python\n",
    "class Animal:\n",
    "    def speak(self):\n",
    "        pass\n",
    "\n",
    "class Dog(Animal):\n",
    "    def speak(self):\n",
    "        return \"Woof!\"\n",
    "\n",
    "class Cat(Animal):\n",
    "    def speak(self):\n",
    "        return \"Meow!\"\n",
    "\n",
    "```\n",
    "\n",
    "## Polymorphism\n",
    "\n",
    "```python\n",
    "\n",
    "def animal_sound(animal):\n",
    "    print(animal.speak())\n",
    "\n",
    "dog = Dog()\n",
    "cat = Cat()\n",
    "animal_sound(dog)  # Woof!\n",
    "animal_sound(cat)  # Meow!\n",
    "\n",
    "```\n",
    "\n",
    "## Abstraction\n",
    "\n",
    "```python\n",
    "from abc import ABC, abstractmethod\n",
    "\n",
    "class Shape(ABC):\n",
    "    @abstractmethod\n",
    "    def area(self):\n",
    "        pass\n",
    "\n",
    "class Circle(Shape):\n",
    "    def __init__(self, radius):\n",
    "        self.radius = radius\n",
    "    \n",
    "    def area(self):\n",
    "        return 3.14 * self.radius ** 2\n",
    "```\n",
    "\n",
    "\n"
   ]
  },
  {
   "cell_type": "markdown",
   "id": "1b82ccd9",
   "metadata": {},
   "source": [
    "### EXCERCISE #1\n",
    "Simple class construction, without any atributes or method\n",
    "Remember about pass, so we can crete this 'placeholder'\n"
   ]
  },
  {
   "cell_type": "code",
   "execution_count": null,
   "id": "1ccd1c42",
   "metadata": {},
   "outputs": [],
   "source": [
    "class Vehicle:\n",
    "    pass"
   ]
  },
  {
   "cell_type": "markdown",
   "id": "03685414",
   "metadata": {},
   "source": [
    "### EXCERCISE #2\n",
    "\n",
    "Create class with artribute and print it "
   ]
  },
  {
   "cell_type": "code",
   "execution_count": 1,
   "id": "a10f8b7a",
   "metadata": {},
   "outputs": [
    {
     "name": "stdout",
     "output_type": "stream",
     "text": [
      "5\n"
     ]
    }
   ],
   "source": [
    "class MyClass:\n",
    "    x = 5\n",
    "\n",
    "myclass = MyClass()\n",
    "\n",
    "print(myclass.x)"
   ]
  },
  {
   "cell_type": "markdown",
   "id": "05379dfe",
   "metadata": {},
   "source": [
    "### EXERCISE #3\n",
    "\n",
    "Create class of Jets with twoi artibutes and print them"
   ]
  },
  {
   "cell_type": "code",
   "execution_count": null,
   "id": "3ccfb595",
   "metadata": {},
   "outputs": [
    {
     "name": "stdout",
     "output_type": "stream",
     "text": [
      "First item is called Boening and it is stacioned Paris\n"
     ]
    }
   ],
   "source": [
    "class Jets:\n",
    "    def __init__ (self, name, station):\n",
    "        self._name = name\n",
    "        self._station = station\n",
    "\n",
    "first_item = Jets(\"Boening\", \"Paris\")\n",
    "print(\"First item is called \"+ first_item._name+ \" and it is stacioned in \"+ first_item._station)"
   ]
  },
  {
   "cell_type": "markdown",
   "id": "bb938360",
   "metadata": {},
   "source": [
    "### EXERCISE #4\n",
    "Create class for Vehicle and print them"
   ]
  },
  {
   "cell_type": "code",
   "execution_count": 7,
   "id": "c125059f",
   "metadata": {},
   "outputs": [
    {
     "name": "stdout",
     "output_type": "stream",
     "text": [
      "The vehicke milage is 18000\n",
      "The max speed it can go is 240\n"
     ]
    }
   ],
   "source": [
    "class Vehicle:\n",
    "    def __init__ (self, milage, max_speed):\n",
    "        self._milage = milage\n",
    "        self.max_speed = max_speed\n",
    "    \n",
    "    def info_print(self):\n",
    "        print(\"The vehicke milage is \" + str(self._milage) + \"\\n\"+ \"The max speed it can go is \" + str(self.max_speed))\n",
    "    \n",
    "\n",
    "vehicle1 = Vehicle(18000, 240)\n",
    "vehicle1.info_print()\n"
   ]
  },
  {
   "cell_type": "markdown",
   "id": "2ea6a2cd",
   "metadata": {},
   "source": [
    "### EXERCISE #5\n",
    "\n",
    "Create class for rectangle , that has a method that returns for expamle its area"
   ]
  },
  {
   "cell_type": "code",
   "execution_count": 8,
   "id": "b81f2d5b",
   "metadata": {},
   "outputs": [
    {
     "data": {
      "text/plain": [
       "216"
      ]
     },
     "execution_count": 8,
     "metadata": {},
     "output_type": "execute_result"
    }
   ],
   "source": [
    "class Rectangle:\n",
    "    def __init__(self, a, b):\n",
    "      self.a = a\n",
    "      self.b = b\n",
    "    \n",
    "    def area_calculation(self):\n",
    "       return self.a*self.b\n",
    "\n",
    "rectangle1 = Rectangle(12, 18)\n",
    "rectangle1.area_calculation()"
   ]
  },
  {
   "cell_type": "markdown",
   "id": "1b9d54ad",
   "metadata": {},
   "source": [
    "### EXERCISE #5\n",
    "\n",
    "Create class circle and calcute its area and circumference"
   ]
  },
  {
   "cell_type": "code",
   "execution_count": 14,
   "id": "984e76b5",
   "metadata": {},
   "outputs": [
    {
     "data": {
      "text/plain": [
       "113.09733552923255"
      ]
     },
     "execution_count": 14,
     "metadata": {},
     "output_type": "execute_result"
    }
   ],
   "source": [
    "from math import pi\n",
    "class Circle:\n",
    "\n",
    "    def __init__( self, rad):\n",
    "        self.rad = rad\n",
    "    \n",
    "    def area(self):\n",
    "        return pi * (self.rad**2)\n",
    "    \n",
    "    def circumference(self):\n",
    "        return 2*pi*self.rad\n",
    "    \n",
    "\n",
    "circle1 = Circle(6)\n",
    "\n",
    "circle1.area()\n",
    "circle1.circumference()"
   ]
  },
  {
   "cell_type": "markdown",
   "id": "4cdf9b57",
   "metadata": {},
   "source": [
    "### EXERCISE #6\n",
    "Create base class for math figuers and figure classes\n",
    "\n"
   ]
  },
  {
   "cell_type": "code",
   "execution_count": null,
   "id": "df2c3025",
   "metadata": {},
   "outputs": [],
   "source": [
    "import math\n",
    "\n",
    "\n",
    "class Figura:\n",
    "    def obwod(self):  # L/O\n",
    "        \"\"\"Counting .\"\"\"\n",
    "        print(\"Obwód: \")\n",
    "\n",
    "    def pole(self):  # S/P\n",
    "        \"\"\"Counting area.\"\"\"\n",
    "        print(\"Pole: \")\n",
    "\n",
    "\n",
    "class Circle(Figura):\n",
    "\n",
    "    def __init__(self, rad):\n",
    "        self.rad = rad\n",
    "    \n",
    "    def obwod(self):\n",
    "        super().obwod() \n",
    "        return 2*math.pi*self.rad\n",
    "    \n",
    "    def pole(self):\n",
    "        super().pole() \n",
    "        math.pi*(self.rad^2)\n",
    "    \n",
    "\n",
    "class Triangle_1 (Figura):\n",
    "    def __init__(self, a):\n",
    "        if a >0 :\n",
    "            self.a = a\n",
    "        else :\n",
    "            return \"Wrong data was entered!!!!\"\n",
    "\n",
    "    def obwod(self):\n",
    "       super().obwod() \n",
    "       return 3*self.a\n",
    "    \n",
    "    def pole(self):\n",
    "        super().pole()\n",
    "        return (3^(1/2)/4) * self.a^2\n",
    "    \n",
    "\n",
    "class Trapezium(Figura):\n",
    "\n",
    "    def __init__(self, a, b, h):\n",
    "        if a >0  and b>0 and h>0 and a>b  :\n",
    "            self.a = a\n",
    "            self.b = b\n",
    "            self.h = h\n",
    "        else :\n",
    "            return \"Wrong data was entered!!!! U bad guy\"\n",
    "\n",
    "    def obwod(self):\n",
    "       super().obwod() \n",
    "       return self.a + self.b + self.h + math.sqrt(self.h^2 + (self.a-self.b)^2)\n",
    "    \n",
    "    def pole(self):\n",
    "        super().pole()\n",
    "        return (self.a + self.b) * self.h * 1/2\n",
    "    \n",
    "\n",
    "\n",
    "class Parallelogram(Figura):\n",
    "\n",
    "    def __init__(self, a, b, h):\n",
    "        if a >0  and b>0 and h>0  :\n",
    "            self.a = a\n",
    "            self.b = b\n",
    "            self.h = h\n",
    "        else :\n",
    "            return \"Wrong data was entered!!!! U bad guy\"\n",
    "\n",
    "    def obwod(self):\n",
    "       super().obwod() \n",
    "       return 2*self.a + 2*self.b \n",
    "    \n",
    "    def pole(self):\n",
    "        super().pole()\n",
    "        return self.a * self.h \n",
    "    \n",
    "\n",
    "class Rownoleglobok(Trapezium):\n",
    "    def __init__(self, a, b, h):\n",
    "        self.a, self.b, self.c, self.d, self.h = a, a, b, b, h\n",
    "        \n",
    "        # trik, dzięki któremu możemy dziedziczyć wprost\n",
    "        # z trapezu prostokątnego i nie musimy wypełniać metod `obwod` i `pole`\n",
    "\n",
    "class Rectangle(Figura):\n",
    "\n",
    "    def __init__(self, a, b):\n",
    "        if a >0  and b>0:\n",
    "            self.a = a\n",
    "            self.b = b\n",
    "            \n",
    "        else :\n",
    "            return \"Wrong data was entered!!!! U bad guy\"\n",
    "\n",
    "    def obwod(self):\n",
    "       super().obwod() \n",
    "       return 2*self.a + 2*self.b \n",
    "    \n",
    "    def pole(self):\n",
    "        super().pole()\n",
    "        return self.a * self.b\n",
    "    \n",
    "\n",
    "\n",
    "\n",
    "\n",
    "class Square(Figura):\n",
    "\n",
    "    def __init__(self, a):\n",
    "        if a >0:\n",
    "            self.a = a\n",
    "           \n",
    "        else :\n",
    "            return \"Wrong data was entered!!!! U bad guy\"\n",
    "\n",
    "    def obwod(self):\n",
    "       super().obwod() \n",
    "       return 4*self.a\n",
    "    \n",
    "    def pole(self):\n",
    "        super().pole()\n",
    "        return self.a^2"
   ]
  },
  {
   "cell_type": "code",
   "execution_count": 3,
   "id": "e76ce8f5",
   "metadata": {},
   "outputs": [
    {
     "name": "stdout",
     "output_type": "stream",
     "text": [
      "jabłko\n",
      "banan\n",
      "wiśnia\n",
      "b\n",
      "a\n",
      "n\n",
      "a\n",
      "n\n"
     ]
    }
   ],
   "source": [
    "mytuple = (\"jabłko\", \"banan\", \"wiśnia\")\n",
    "\n",
    "for itme in mytuple:\n",
    "    print(itme)\n",
    "\n",
    "mystr = \"banan\"\n",
    "\n",
    "for letter in mystr:\n",
    "    print(letter)"
   ]
  },
  {
   "cell_type": "code",
   "execution_count": null,
   "id": "bedacec3",
   "metadata": {},
   "outputs": [
    {
     "name": "stdout",
     "output_type": "stream",
     "text": [
      "jabłko\n",
      "banan\n",
      "wiśnia\n"
     ]
    }
   ],
   "source": [
    "mytuple = (\"jabłko\", \"banan\", \"wiśnia\")\n",
    "iterator_krotka = iter(mytuple)\n",
    "\n",
    "for i in range(len(mytuple)):\n",
    "    print(next(iterator_krotka))\n",
    "    i +=1\n",
    "\n"
   ]
  },
  {
   "cell_type": "code",
   "execution_count": null,
   "id": "e604f56c",
   "metadata": {},
   "outputs": [],
   "source": [
    "class Licznik:\n",
    "    def __init__(self):\n",
    "        self.liczba = 1 \n",
    "\n",
    "    def __iter__(self):\n",
    "        return self  \n",
    "\n",
    "    def __next__(self):\n",
    "        aktualna = self.liczba\n",
    "        self.liczba += 1  \n",
    "        return aktualna\n",
    "\n",
    "iteracja = Licznik()\n",
    "\n",
    "for _ in range(10):  # wypisz 10 pierwszych liczb\n",
    "    print(next(iteracja))\n",
    "\n"
   ]
  },
  {
   "cell_type": "markdown",
   "id": "575ddf0b",
   "metadata": {},
   "source": [
    "Tasowanie kart\n"
   ]
  },
  {
   "cell_type": "code",
   "execution_count": 12,
   "id": "6cfd786e",
   "metadata": {},
   "outputs": [
    {
     "name": "stdout",
     "output_type": "stream",
     "text": [
      "Karta4♠\n"
     ]
    },
    {
     "data": {
      "text/plain": [
       "'<Karta4♠>'"
      ]
     },
     "execution_count": 12,
     "metadata": {},
     "output_type": "execute_result"
    }
   ],
   "source": [
    "class Card:\n",
    "    def __init__(self, kolor , figura):\n",
    "        self.kolor = kolor\n",
    "        self.figura = figura\n",
    "\n",
    "    def __str__(self):\n",
    "        znaki = {\n",
    "        \"karo\": \"♦\",\n",
    "        \"kier\": \"♥\",\n",
    "        \"pik\": \"♠\",\n",
    "        \"trefl\": \"♣\",\n",
    "        }\n",
    "\n",
    "        if self.kolor in znaki:\n",
    "            return f\"Karta{self.figura}{znaki[self.kolor]}\"\n",
    "        else :\n",
    "            return \"Nie ma takiego koloru!!!\"\n",
    "        \n",
    "    def __repr__(self):\n",
    "        return f\"<{str(self)}>\"\n",
    "                 \n",
    "\n",
    "karta1 = Card( \"pik\", \"4\")\n",
    "\n",
    "print(karta1)\n",
    "karta1.__repr__()\n",
    "\n",
    "\n",
    "\n"
   ]
  },
  {
   "cell_type": "markdown",
   "id": "0211367b",
   "metadata": {},
   "source": []
  }
 ],
 "metadata": {
  "kernelspec": {
   "display_name": "Python 3",
   "language": "python",
   "name": "python3"
  },
  "language_info": {
   "codemirror_mode": {
    "name": "ipython",
    "version": 3
   },
   "file_extension": ".py",
   "mimetype": "text/x-python",
   "name": "python",
   "nbconvert_exporter": "python",
   "pygments_lexer": "ipython3",
   "version": "3.11.9"
  }
 },
 "nbformat": 4,
 "nbformat_minor": 5
}
