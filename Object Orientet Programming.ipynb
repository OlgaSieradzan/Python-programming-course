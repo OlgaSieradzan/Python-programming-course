{
 "cells": [
  {
   "cell_type": "markdown",
   "id": "43b9eefe",
   "metadata": {},
   "source": [
    "# Object-Oriented Programming (OOP) in Python\n",
    "\n",
    "## Basic Concepts\n",
    "- **Class**: Blueprint for creating objects\n",
    "- **Object**: Instance of a class\n",
    "- **Attributes**: Variables that belong to an object/class\n",
    "- **Methods**: Functions that belong to an object/class\n",
    "\n",
    "## Class Definition\n",
    "```python\n",
    "class MyClass:\n",
    "    class_attribute = \"I'm a class attribute\"\n",
    "    \n",
    "    def __init__(self, param):\n",
    "        self.instance_attribute = param\n",
    "    \n",
    "    def instance_method(self):\n",
    "        return f\"Called instance method with {self.instance_attribute}\"\n",
    "```\n",
    "\n",
    "## Creating Objects\n",
    "``` python\n",
    "obj = MyClass(\"value\")\n",
    "print(obj.instance_attribute)  # Access attribute\n",
    "print(obj.instance_method())  # Call method\n",
    "```\n",
    "## Pillars of OOP\n",
    "\n",
    "1. Encapsulation\n",
    "Bundling data and methods within a class\n",
    "\n",
    "Using access modifiers:\n",
    "\n",
    "Public: self.public\n",
    "\n",
    "Protected: self._protected (convention)\n",
    "\n",
    "Private: self.__private (name mangling)\n",
    "\n",
    "```python\n",
    "class BankAccount:\n",
    "    def __init__(self):\n",
    "        self.__balance = 0  # Private attribute\n",
    "    \n",
    "    def deposit(self, amount):\n",
    "        self.__balance += amount\n",
    "    \n",
    "    def get_balance(self):\n",
    "        return self.__balance\n",
    "```\n",
    "\n",
    "## Inheritance\n",
    "Creating new classes from existing ones\n",
    "\n",
    "```python\n",
    "class Animal:\n",
    "    def speak(self):\n",
    "        pass\n",
    "\n",
    "class Dog(Animal):\n",
    "    def speak(self):\n",
    "        return \"Woof!\"\n",
    "\n",
    "class Cat(Animal):\n",
    "    def speak(self):\n",
    "        return \"Meow!\"\n",
    "\n",
    "```\n",
    "\n",
    "## Polymorphism\n",
    "\n",
    "```python\n",
    "\n",
    "def animal_sound(animal):\n",
    "    print(animal.speak())\n",
    "\n",
    "dog = Dog()\n",
    "cat = Cat()\n",
    "animal_sound(dog)  # Woof!\n",
    "animal_sound(cat)  # Meow!\n",
    "\n",
    "```\n",
    "\n",
    "## Abstraction\n",
    "\n",
    "```python\n",
    "from abc import ABC, abstractmethod\n",
    "\n",
    "class Shape(ABC):\n",
    "    @abstractmethod\n",
    "    def area(self):\n",
    "        pass\n",
    "\n",
    "class Circle(Shape):\n",
    "    def __init__(self, radius):\n",
    "        self.radius = radius\n",
    "    \n",
    "    def area(self):\n",
    "        return 3.14 * self.radius ** 2\n",
    "```\n",
    "\n",
    "\n"
   ]
  },
  {
   "cell_type": "markdown",
   "id": "1b82ccd9",
   "metadata": {},
   "source": [
    "### EXCERCISE #1\n",
    "Simple class construction, without any atributes or method\n",
    "Remember about pass, so we can crete this 'placeholder'\n"
   ]
  },
  {
   "cell_type": "code",
   "execution_count": null,
   "id": "1ccd1c42",
   "metadata": {},
   "outputs": [],
   "source": [
    "class Vehicle:\n",
    "    pass"
   ]
  },
  {
   "cell_type": "markdown",
   "id": "03685414",
   "metadata": {},
   "source": [
    "### EXCERCISE #2\n",
    "\n",
    "Create class with artribute and print it "
   ]
  },
  {
   "cell_type": "code",
   "execution_count": 1,
   "id": "a10f8b7a",
   "metadata": {},
   "outputs": [
    {
     "name": "stdout",
     "output_type": "stream",
     "text": [
      "5\n"
     ]
    }
   ],
   "source": [
    "class MyClass:\n",
    "    x = 5\n",
    "\n",
    "myclass = MyClass()\n",
    "\n",
    "print(myclass.x)"
   ]
  },
  {
   "cell_type": "markdown",
   "id": "05379dfe",
   "metadata": {},
   "source": [
    "### EXERCISE #3\n",
    "\n",
    "Create class of Jets with twoi artibutes and print them"
   ]
  },
  {
   "cell_type": "code",
   "execution_count": null,
   "id": "3ccfb595",
   "metadata": {},
   "outputs": [
    {
     "name": "stdout",
     "output_type": "stream",
     "text": [
      "First item is called Boening and it is stacioned Paris\n"
     ]
    }
   ],
   "source": [
    "class Jets:\n",
    "    def __init__ (self, name, station):\n",
    "        self._name = name\n",
    "        self._station = station\n",
    "\n",
    "first_item = Jets(\"Boening\", \"Paris\")\n",
    "print(\"First item is called \"+ first_item._name+ \" and it is stacioned in \"+ first_item._station)"
   ]
  },
  {
   "cell_type": "markdown",
   "id": "bb938360",
   "metadata": {},
   "source": [
    "### EXERCISE #4\n",
    "Create class for Vehicle and print them"
   ]
  },
  {
   "cell_type": "code",
   "execution_count": 7,
   "id": "c125059f",
   "metadata": {},
   "outputs": [
    {
     "name": "stdout",
     "output_type": "stream",
     "text": [
      "The vehicke milage is 18000\n",
      "The max speed it can go is 240\n"
     ]
    }
   ],
   "source": [
    "class Vehicle:\n",
    "    def __init__ (self, milage, max_speed):\n",
    "        self._milage = milage\n",
    "        self.max_speed = max_speed\n",
    "    \n",
    "    def info_print(self):\n",
    "        print(\"The vehicke milage is \" + str(self._milage) + \"\\n\"+ \"The max speed it can go is \" + str(self.max_speed))\n",
    "    \n",
    "\n",
    "vehicle1 = Vehicle(18000, 240)\n",
    "vehicle1.info_print()\n"
   ]
  },
  {
   "cell_type": "markdown",
   "id": "2ea6a2cd",
   "metadata": {},
   "source": [
    "### EXERCISE #5\n",
    "\n",
    "Create class for rectangle , that has a method that returns for expamle its area"
   ]
  },
  {
   "cell_type": "code",
   "execution_count": 8,
   "id": "b81f2d5b",
   "metadata": {},
   "outputs": [
    {
     "data": {
      "text/plain": [
       "216"
      ]
     },
     "execution_count": 8,
     "metadata": {},
     "output_type": "execute_result"
    }
   ],
   "source": [
    "class Rectangle:\n",
    "    def __init__(self, a, b):\n",
    "      self.a = a\n",
    "      self.b = b\n",
    "    \n",
    "    def area_calculation(self):\n",
    "       return self.a*self.b\n",
    "\n",
    "rectangle1 = Rectangle(12, 18)\n",
    "rectangle1.area_calculation()"
   ]
  },
  {
   "cell_type": "markdown",
   "id": "1b9d54ad",
   "metadata": {},
   "source": [
    "### EXERCISE #5\n",
    "\n",
    "Create class circle and calcute its area and circumference"
   ]
  },
  {
   "cell_type": "code",
   "execution_count": 14,
   "id": "984e76b5",
   "metadata": {},
   "outputs": [
    {
     "data": {
      "text/plain": [
       "113.09733552923255"
      ]
     },
     "execution_count": 14,
     "metadata": {},
     "output_type": "execute_result"
    }
   ],
   "source": [
    "from math import pi\n",
    "class Circle:\n",
    "\n",
    "    def __init__( self, rad):\n",
    "        self.rad = rad\n",
    "    \n",
    "    def area(self):\n",
    "        return pi * (self.rad**2)\n",
    "    \n",
    "    def circumference(self):\n",
    "        return 2*pi*self.rad\n",
    "    \n",
    "\n",
    "circle1 = Circle(6)\n",
    "\n",
    "circle1.area()\n",
    "circle1.circumference()"
   ]
  },
  {
   "cell_type": "markdown",
   "id": "4cdf9b57",
   "metadata": {},
   "source": [
    "### EXERCISE #6\n",
    "\n"
   ]
  }
 ],
 "metadata": {
  "kernelspec": {
   "display_name": "base",
   "language": "python",
   "name": "python3"
  },
  "language_info": {
   "codemirror_mode": {
    "name": "ipython",
    "version": 3
   },
   "file_extension": ".py",
   "mimetype": "text/x-python",
   "name": "python",
   "nbconvert_exporter": "python",
   "pygments_lexer": "ipython3",
   "version": "3.12.4"
  }
 },
 "nbformat": 4,
 "nbformat_minor": 5
}
