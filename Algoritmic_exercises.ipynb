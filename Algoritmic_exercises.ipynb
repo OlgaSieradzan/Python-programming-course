{
 "cells": [
  {
   "cell_type": "markdown",
   "id": "191df352",
   "metadata": {},
   "source": [
    "### Task 1. \n",
    "\n",
    "Write a method that reads an expression in the form of number = number (where *= ∈ {+, −, /, }), print the result of the operation rounded to two decimal places. Use a switch statement.\n",
    "\n",
    "**Introduced protections**\n",
    "\n",
    "* Regex validating the string format\n",
    "\n",
    "* Validation of string format of variables num1 and num2 ( cannot strt with 0 )\n",
    "\n",
    "* Protection from Zero Division problem"
   ]
  },
  {
   "cell_type": "code",
   "execution_count": 34,
   "id": "e991d17f",
   "metadata": {},
   "outputs": [],
   "source": [
    "import re #liblary for regex exspression\n",
    "def simple_calculator():\n",
    "    eq = input(\"Plese type in an equaision ( for exapmle: 8+9 ): \").strip() #Takes the unneeded spaces\n",
    "    patern = r'^\\s*([-+]?\\d*\\.?\\d+)\\s*([+/*-])\\s*([-+]?\\d*\\.?\\d+)\\s*$'\n",
    "    num1,action,num2 = re.split(r'\\s*([+/*-])\\s*', eq) # Splits in the plece where the operetor occurs\n",
    "    \n",
    "    if not re.fullmatch(patern, eq) or num1[0] == '0' or num2[0] =='0':\n",
    "        print (\"You entered data in wrong format :(\")\n",
    "        return\n",
    "    else:\n",
    "        num1 = float(num1)\n",
    "        num2 = float(num2)\n",
    "        match action: # Copy of switch case function from C#\n",
    "            case '+':\n",
    "                result = num1+num2\n",
    "            case '-':\n",
    "                result = num1-num2\n",
    "            case '*':\n",
    "                result = num1*num2\n",
    "            case '/':\n",
    "                try: # Catching errors - good practise\n",
    "                    num1/num2\n",
    "                except ZeroDivisionError:\n",
    "                    print(\"U cannot divise by zero!\")\n",
    "                    return\n",
    "    print(f\"Result:{result:.2f}\")\n",
    "    \n",
    "\n",
    "\n",
    "    "
   ]
  },
  {
   "cell_type": "code",
   "execution_count": 33,
   "id": "d220a7ab",
   "metadata": {},
   "outputs": [
    {
     "name": "stdout",
     "output_type": "stream",
     "text": [
      "You entered data in wrong format :(\n"
     ]
    }
   ],
   "source": [
    "simple_calculator()"
   ]
  },
  {
   "cell_type": "markdown",
   "id": "8ea0aecc",
   "metadata": {},
   "source": [
    "### Task 2.\n",
    "\n",
    "Write a method that takes from the user a sequence of n integers (n should be a parameter of the method), then calculates and prints the sum and average of those numbers that are divisible by 3 or 5.\n",
    "\n",
    "**Introduced protections:**\n",
    "\n"
   ]
  },
  {
   "cell_type": "code",
   "execution_count": 8,
   "id": "b12572a0",
   "metadata": {},
   "outputs": [],
   "source": [
    "def simple_statistics(n: int):\n",
    "    int_list =[]\n",
    "    i =0\n",
    "    for i in range(n):\n",
    "        while True:\n",
    "            try:\n",
    "                int_list.append(int(input(f\"Plese enter an integer number{i+1}:\")))\n",
    "                i+=1\n",
    "                break\n",
    "            except ValueError:\n",
    "                print(\"You have to pass an integer, try again\")\n",
    "           \n",
    "    new_list = (list(filter(lambda x: x % 5 == 0 or x%3 ==0, int_list)))\n",
    "    if not new_list:\n",
    "        print(\"No integers dividable by 5 or 3 were entered.\")\n",
    "        return\n",
    "    sum_num = sum(new_list)\n",
    "    mean_num = sum_num/len(new_list)\n",
    "    print(f'Sum: {sum_num} \\nAverage: {mean_num:.2f}')\n"
   ]
  },
  {
   "cell_type": "code",
   "execution_count": 5,
   "id": "da609839",
   "metadata": {},
   "outputs": [
    {
     "name": "stdout",
     "output_type": "stream",
     "text": [
      "Sum: 15 \n",
      " Average: 5.00\n"
     ]
    }
   ],
   "source": [
    "simple_statistics(3)"
   ]
  },
  {
   "cell_type": "markdown",
   "id": "6cc60564",
   "metadata": {},
   "source": [
    "### Task 3.\n",
    "\n",
    "Write a method that checks whether a given number (a positive integer, parameter of the method) contains the digit 3. Do not convert the number to another type. Do not use built-in functions such as Contains() or StartsWith(). Write an alternative method using built-in functions (the implementation should be as simple as possible)."
   ]
  },
  {
   "cell_type": "code",
   "execution_count": null,
   "id": "1ce311ed",
   "metadata": {},
   "outputs": [],
   "source": [
    "def check_for_three_long(num : int):\n",
    "    while num > 0:\n",
    "        digit = num % 10 # Exs=tracting the last number fo\n",
    "        if digit == 3:\n",
    "            return True\n",
    "        num = num // 10 #floor division\n",
    "    \n",
    "    return False\n",
    "\n",
    "def check_for_three_short(num):\n",
    "    return '3' in str(num)\n",
    "        \n",
    "        \n"
   ]
  },
  {
   "cell_type": "code",
   "execution_count": null,
   "id": "5545442f",
   "metadata": {},
   "outputs": [
    {
     "data": {
      "text/plain": [
       "False"
      ]
     },
     "execution_count": 15,
     "metadata": {},
     "output_type": "execute_result"
    }
   ],
   "source": [
    "check_for_three_short(78778787)\n",
    "check_for_three_long(88723)"
   ]
  },
  {
   "cell_type": "markdown",
   "id": "fc388b1c",
   "metadata": {},
   "source": [
    "### Task 4.\n",
    "Write a method that swaps the positions of two words in a given text (the text should be a parameter of the method).\n",
    "\n",
    "Assumptions:\n",
    "\n",
    "* The input text consists of two lowercase words.\n",
    "\n",
    "* The words are separated by exactly one non-alphanumeric character (not a letter, digit, or space).\n",
    "\n",
    "Allowed separators: _, ., -, etc.\n"
   ]
  },
  {
   "cell_type": "code",
   "execution_count": null,
   "id": "c39577b9",
   "metadata": {},
   "outputs": [],
   "source": [
    "def text_swap(line: str):\n",
    "    pattern = r'^([a-z]+)([^a-z0-9 ])([a-z]+)$'"
   ]
  }
 ],
 "metadata": {
  "kernelspec": {
   "display_name": "base",
   "language": "python",
   "name": "python3"
  },
  "language_info": {
   "codemirror_mode": {
    "name": "ipython",
    "version": 3
   },
   "file_extension": ".py",
   "mimetype": "text/x-python",
   "name": "python",
   "nbconvert_exporter": "python",
   "pygments_lexer": "ipython3",
   "version": "3.12.4"
  }
 },
 "nbformat": 4,
 "nbformat_minor": 5
}
