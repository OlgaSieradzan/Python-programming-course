{
 "cells": [
  {
   "cell_type": "code",
   "execution_count": 4,
   "id": "fd66f6b8",
   "metadata": {},
   "outputs": [],
   "source": [
    "import pandas as pd\n",
    "import numpy as np"
   ]
  },
  {
   "cell_type": "markdown",
   "id": "222ec805",
   "metadata": {},
   "source": [
    "## Functions and File Handling in Python\n",
    "\n",
    "### Building Functions\n",
    "\n",
    "Functions are reusable blocks of code designed to perform a specific task. They help organize code, improve readability, and avoid repetition.\n",
    "\n",
    "#### Defining a Function\n",
    "\n",
    "```python\n",
    "def function_name(parameters):\n",
    "    \"\"\"Optional docstring explaining the function.\"\"\"\n",
    "    # function body\n",
    "    return result  # optional\n",
    "```\n",
    "def keyword is used to define a function.\n",
    "\n",
    "Parameters (optional) are inputs to the function.\n",
    "\n",
    "The function can return a value using the return statement.\n",
    "\n",
    "If no return is specified, the function returns None by default."
   ]
  },
  {
   "cell_type": "markdown",
   "id": "1fd1d9ae",
   "metadata": {},
   "source": [
    "Function that returns number of chracters in string"
   ]
  },
  {
   "cell_type": "code",
   "execution_count": null,
   "id": "895c538b",
   "metadata": {},
   "outputs": [],
   "source": [
    "def len(string : str):\n",
    "    counter = 0\n",
    "    for l in string:\n",
    "        counter +=1\n",
    "    return counter"
   ]
  },
  {
   "cell_type": "markdown",
   "id": "b8c78cab",
   "metadata": {},
   "source": [
    "Function that sums all of the elements in the list"
   ]
  },
  {
   "cell_type": "code",
   "execution_count": null,
   "id": "e1688331",
   "metadata": {},
   "outputs": [],
   "source": [
    "def list_sum( lista : list):\n",
    "    sum = 0\n",
    "    for element in lista:\n",
    "        sum += element\n",
    "    return sum"
   ]
  },
  {
   "cell_type": "markdown",
   "id": "a934cad2",
   "metadata": {},
   "source": [
    "Function that multiplays every elemnt on the list"
   ]
  },
  {
   "cell_type": "code",
   "execution_count": null,
   "id": "e844b514",
   "metadata": {},
   "outputs": [],
   "source": [
    "def list_multiply( lista : list):\n",
    "    sum = lista[0]\n",
    "    for element in lista[1:]:\n",
    "        sum *= element\n",
    "    return sum"
   ]
  },
  {
   "cell_type": "markdown",
   "id": "9b389ffa",
   "metadata": {},
   "source": [
    "Function that searchs for maximum"
   ]
  },
  {
   "cell_type": "code",
   "execution_count": null,
   "id": "2c98f7f3",
   "metadata": {},
   "outputs": [],
   "source": [
    "def maksimum_list(lista :list) :\n",
    "    max = lista[0]\n",
    "    for element in lista[1:]:\n",
    "        if ( element > max):\n",
    "            max = element\n",
    "    \n",
    "    return max"
   ]
  },
  {
   "cell_type": "markdown",
   "id": "7497653d",
   "metadata": {},
   "source": [
    "Opening and Closing the document"
   ]
  },
  {
   "cell_type": "code",
   "execution_count": null,
   "id": "547a3657",
   "metadata": {},
   "outputs": [],
   "source": [
    "f = open(\"text.txt\") \n",
    "print( f.read())\n",
    "f.close()"
   ]
  },
  {
   "cell_type": "markdown",
   "id": "1edef25f",
   "metadata": {},
   "source": [
    "Reading document by line as a list "
   ]
  },
  {
   "cell_type": "code",
   "execution_count": null,
   "id": "b09ade9b",
   "metadata": {},
   "outputs": [],
   "source": [
    "with open(\"text.txt\")as plik:\n",
    "    linie = plik.readlines()\n",
    "\n"
   ]
  },
  {
   "cell_type": "markdown",
   "id": "9e357538",
   "metadata": {},
   "source": [
    "Reading documnt by line using loop"
   ]
  },
  {
   "cell_type": "code",
   "execution_count": 4,
   "id": "82cc29b2",
   "metadata": {},
   "outputs": [
    {
     "data": {
      "text/plain": [
       "[]"
      ]
     },
     "execution_count": 4,
     "metadata": {},
     "output_type": "execute_result"
    }
   ],
   "source": [
    "f = open(\"text.txt\", \"r\") \n",
    "current_array = []\n",
    "for item in f:\n",
    "    current_array.append(item)\n",
    "current_array\n",
    "\n",
    "\n"
   ]
  }
 ],
 "metadata": {
  "kernelspec": {
   "display_name": "Python 3",
   "language": "python",
   "name": "python3"
  },
  "language_info": {
   "codemirror_mode": {
    "name": "ipython",
    "version": 3
   },
   "file_extension": ".py",
   "mimetype": "text/x-python",
   "name": "python",
   "nbconvert_exporter": "python",
   "pygments_lexer": "ipython3",
   "version": "3.13.0"
  }
 },
 "nbformat": 4,
 "nbformat_minor": 5
}
