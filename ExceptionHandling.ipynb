{
 "cells": [
  {
   "cell_type": "markdown",
   "id": "e34181e9",
   "metadata": {},
   "source": [
    "## Exception Handling in Python\n",
    "\n",
    "Exception handling allows you to manage errors gracefully during program execution without crashing your program.\n",
    "\n",
    "### Key Concepts\n",
    "\n",
    "- **try block:** Contains code that might raise an exception.\n",
    "- **except block:** Handles the exception if one occurs.\n",
    "- **else block (optional):** Executes if no exception was raised in the try block.\n",
    "- **finally block (optional):** Executes regardless of whether an exception occurred or not, often used for cleanup.\n",
    "\n",
    "### Basic Syntax\n",
    "\n",
    "```python\n",
    "try:\n",
    "    # Code that may raise an exception\n",
    "except SomeException:\n",
    "    # Code to handle the exception\n",
    "else:\n",
    "    # Code to run if no exception occurs\n",
    "finally:\n",
    "    # Code that runs no matter what\n"
   ]
  },
  {
   "cell_type": "markdown",
   "id": "2d002763",
   "metadata": {},
   "source": [
    "### EXERCISE #1\n",
    "\n",
    "Write a program that asks the user to enter two numbers.\n",
    "\n",
    "Add them and print the result.\n",
    "\n",
    "If the input is not a number, return an error message and ask again"
   ]
  },
  {
   "cell_type": "code",
   "execution_count": null,
   "id": "69b9370f",
   "metadata": {},
   "outputs": [],
   "source": [
    "def data_uploading ():\n",
    "    a = int(input(\"Proszę podać liczbe:\"))\n",
    "    b = int(input(\"podaj drugą liczbę:\"))\n",
    "    \n",
    "    return (a,b)\n",
    "    \n",
    "    \n",
    "def test_int_verification():\n",
    "    while True:\n",
    "        try:\n",
    "            krotka =  data_uploading()\n",
    "            print(krotka[1]+krotka[0])\n",
    "            break\n",
    "        except ValueError:\n",
    "            print(\"Proszę podać liczbę! Nie podano danych konwertowalnych na typ intiger\")\n",
    "            \n",
    "\n",
    "\n"
   ]
  },
  {
   "cell_type": "markdown",
   "id": "5588e1db",
   "metadata": {},
   "source": [
    "### EXERCISE #2\n",
    "\n",
    "Divide two numbers, and assign the result to the variable `result`.\n",
    "\n",
    "Place:\n",
    "\n",
    "```python\n",
    "result = \"You cannot divide by zero\"\n"
   ]
  },
  {
   "cell_type": "code",
   "execution_count": null,
   "id": "d16a14a5",
   "metadata": {},
   "outputs": [
    {
     "name": "stdout",
     "output_type": "stream",
     "text": [
      "Proszę podać liczbę! Nie podano danych konwertowalnych na typ intiger\n"
     ]
    }
   ],
   "source": [
    "def test_division_verification():\n",
    "    while True:\n",
    "        try:\n",
    "            krotka =  data_uploading()\n",
    "            result = (krotka[0]/krotka[1])\n",
    "            break\n",
    "        except ZeroDivisionError:\n",
    "            result = (\"You cannot divide by zero !!!\")\n",
    "        finally:\n",
    "            return result    \n"
   ]
  },
  {
   "cell_type": "markdown",
   "id": "26b099c0",
   "metadata": {},
   "source": [
    "### EXERCISE #3\n",
    "Create a function were user can choose a element form the list.\n",
    "\n",
    "Handle choosing index out of limit"
   ]
  },
  {
   "cell_type": "code",
   "execution_count": null,
   "id": "61b3a804",
   "metadata": {},
   "outputs": [
    {
     "data": {
      "text/plain": [
       "'You are out of index for this list, maxminum index is 14'"
      ]
     },
     "execution_count": 4,
     "metadata": {},
     "output_type": "execute_result"
    }
   ],
   "source": [
    "def list_request(l : list):\n",
    "    ind = int(input(\"Please provide the number of index you want to see\"))\n",
    "    try:\n",
    "        result = l[ind]\n",
    "    except IndexError:\n",
    "        result = \"You are out of index for this list, maxminum index is \" + str(len(l-1))\n",
    "    \n",
    "    return(result)\n",
    "\n",
    "list1 = [1,2,4,5,6,3,22,2,3,4,56,7,7,00] \n",
    "\n",
    "list_request(list1)\n",
    "            "
   ]
  },
  {
   "cell_type": "markdown",
   "id": "9bccfe22",
   "metadata": {},
   "source": [
    "### EXERCISE #4\n",
    "\n",
    "Show the usage of function 'else' while handling exception of ZeroDivision"
   ]
  },
  {
   "cell_type": "code",
   "execution_count": null,
   "id": "3e30c24b",
   "metadata": {},
   "outputs": [],
   "source": [
    "def division_handling():\n",
    "    try:\n",
    "        krotka =  data_uploading()\n",
    "        result = (krotka[0]/krotka[1])\n",
    "    except ZeroDivisionError:\n",
    "        print(\"You cannot divise by zero !\")\n",
    "    else:\n",
    "        print( \"The result is: \"+ str(result))\n",
    "\n",
    "division_handling()\n",
    "\n",
    "        "
   ]
  }
 ],
 "metadata": {
  "kernelspec": {
   "display_name": "base",
   "language": "python",
   "name": "python3"
  },
  "language_info": {
   "codemirror_mode": {
    "name": "ipython",
    "version": 3
   },
   "file_extension": ".py",
   "mimetype": "text/x-python",
   "name": "python",
   "nbconvert_exporter": "python",
   "pygments_lexer": "ipython3",
   "version": "3.12.4"
  }
 },
 "nbformat": 4,
 "nbformat_minor": 5
}
