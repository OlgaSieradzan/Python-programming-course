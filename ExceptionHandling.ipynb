{
 "cells": [
  {
   "cell_type": "markdown",
   "id": "2d002763",
   "metadata": {},
   "source": [
    "Podczas pisania funkcji najlepiej jest przeprowadzić walidację liczb.\n",
    "Jeśli użytkownicy wprowadzą tekst, pojawi się błąd podczas próby konwersji na int.\n",
    "Napisz program, który poprosi użytkownika o podanie dwóch liczb.\n",
    "Dodaj i wydrukuj wynik.\n",
    "Jeśli nie zostanie wprowadzona liczba, zwróć komunikat o błędzie i poproś ponownie."
   ]
  },
  {
   "cell_type": "code",
   "execution_count": null,
   "id": "69b9370f",
   "metadata": {},
   "outputs": [],
   "source": [
    "def data_uploading ():\n",
    "    a = int(input(\"Proszę podać liczbe:\"))\n",
    "    b = int(input(\"podaj drugą liczbę:\"))\n",
    "    \n",
    "    return (a,b)\n",
    "    \n",
    "    \n",
    "def test_int_verification():\n",
    "    while True:\n",
    "        try:\n",
    "            krotka =  data_uploading()\n",
    "            print(krotka[1]+krotka[0])\n",
    "            break\n",
    "        except ValueError:\n",
    "            print(\"Proszę podać liczbę! Nie podano danych konwertowalnych na typ intiger\")\n",
    "            \n",
    "\n",
    "\n"
   ]
  },
  {
   "cell_type": "code",
   "execution_count": null,
   "id": "d16a14a5",
   "metadata": {},
   "outputs": [
    {
     "name": "stdout",
     "output_type": "stream",
     "text": [
      "Proszę podać liczbę! Nie podano danych konwertowalnych na typ intiger\n"
     ]
    }
   ],
   "source": [
    "def test_division_verification():\n",
    "    while True:\n",
    "        try:\n",
    "            krotka =  data_uploading()\n",
    "            result = (krotka[0]/krotka[1])\n",
    "            break\n",
    "        except ZeroDivisionError:\n",
    "            result = (\"Nie dziel przez zero !!!\")\n",
    "        finally:\n",
    "            return result    \n"
   ]
  },
  {
   "cell_type": "code",
   "execution_count": null,
   "id": "61b3a804",
   "metadata": {},
   "outputs": [],
   "source": [
    "\n",
    "            "
   ]
  }
 ],
 "metadata": {
  "kernelspec": {
   "display_name": "Python 3",
   "language": "python",
   "name": "python3"
  },
  "language_info": {
   "codemirror_mode": {
    "name": "ipython",
    "version": 3
   },
   "file_extension": ".py",
   "mimetype": "text/x-python",
   "name": "python",
   "nbconvert_exporter": "python",
   "pygments_lexer": "ipython3",
   "version": "3.13.0"
  }
 },
 "nbformat": 4,
 "nbformat_minor": 5
}
