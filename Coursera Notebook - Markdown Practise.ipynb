{
 "cells": [
  {
   "cell_type": "markdown",
   "id": "2cd24035",
   "metadata": {},
   "source": [
    "# Coursera IBM Data Science \n",
    "\n",
    "Final assigment \n",
    "\n",
    "***"
   ]
  },
  {
   "cell_type": "markdown",
   "id": "062b87eb",
   "metadata": {},
   "source": [
    "# Data Science Tools and Ecosystem "
   ]
  },
  {
   "cell_type": "markdown",
   "id": "fd7a7701",
   "metadata": {},
   "source": [
    "***"
   ]
  },
  {
   "cell_type": "markdown",
   "id": "f2dca9a2",
   "metadata": {},
   "source": [
    "This notebook will summarize the techniques and state of art on Data Science in Ecosystems\n",
    "\n"
   ]
  },
  {
   "cell_type": "markdown",
   "id": "4bd68a6b",
   "metadata": {},
   "source": [
    "**Objectives**:\n",
    "\n",
    "* List of popular languages in data Science\n",
    "* List of popular tools for data Science\n",
    "* Examples of usefull Python exspressions\n",
    "\n",
    "***"
   ]
  },
  {
   "cell_type": "markdown",
   "id": "51a9571a",
   "metadata": {},
   "source": [
    "Commonly used languages in DataScience are:\n",
    "\n",
    "* Python\n",
    "* R\n",
    "* Julia\n",
    "* SQL \n",
    "\n",
    "and much more..."
   ]
  },
  {
   "cell_type": "markdown",
   "id": "32029b78",
   "metadata": {},
   "source": [
    "***"
   ]
  },
  {
   "cell_type": "markdown",
   "id": "f4a230bc",
   "metadata": {},
   "source": [
    "Some of mostr commonly used libraries by data Scienties include: \n",
    "\n",
    "1. TensorFlow\n",
    "2. Pandas\n",
    "3. matplotlib"
   ]
  },
  {
   "cell_type": "markdown",
   "id": "84027b56",
   "metadata": {},
   "source": [
    "***"
   ]
  },
  {
   "cell_type": "markdown",
   "id": "5d963e14",
   "metadata": {},
   "source": [
    "| Data science tools |\n",
    "|--------------------|\n",
    "| Jupyter Notebook |\n",
    "| SQL databases |\n",
    "| RStudio |\n",
    "| Google Collab |"
   ]
  },
  {
   "cell_type": "markdown",
   "id": "2bcf06e5",
   "metadata": {},
   "source": [
    "***"
   ]
  },
  {
   "cell_type": "markdown",
   "id": "e0e12124",
   "metadata": {},
   "source": [
    "### Below are a few examples of evaluating arithmetic exspresions in Python"
   ]
  },
  {
   "cell_type": "code",
   "execution_count": null,
   "id": "7b65cf76",
   "metadata": {},
   "outputs": [
    {
     "data": {
      "text/plain": [
       "17"
      ]
     },
     "execution_count": 1,
     "metadata": {},
     "output_type": "execute_result"
    }
   ],
   "source": [
    "\n",
    "# This is a simple artimetic expression to multiply then add integers\n",
    "\n",
    "(3*4)+5"
   ]
  },
  {
   "cell_type": "markdown",
   "id": "1e0c98fd",
   "metadata": {},
   "source": [
    "***"
   ]
  },
  {
   "cell_type": "code",
   "execution_count": 3,
   "id": "b7bd0427",
   "metadata": {},
   "outputs": [
    {
     "name": "stdout",
     "output_type": "stream",
     "text": [
      "This will be 3.33 hours\n"
     ]
    }
   ],
   "source": [
    "# This will convert 200 minutes into hours\n",
    "\n",
    "n = 200/60\n",
    "\n",
    "print(f\"This will be {round(n,2)} hours\")"
   ]
  },
  {
   "cell_type": "markdown",
   "id": "fd2940d8",
   "metadata": {},
   "source": [
    "***"
   ]
  },
  {
   "cell_type": "markdown",
   "id": "c515d976",
   "metadata": {},
   "source": [
    "## Author:\n",
    "Olga Sieradzan "
   ]
  },
  {
   "cell_type": "markdown",
   "id": "1bf0086d",
   "metadata": {},
   "source": []
  }
 ],
 "metadata": {
  "kernelspec": {
   "display_name": "Python 3",
   "language": "python",
   "name": "python3"
  },
  "language_info": {
   "codemirror_mode": {
    "name": "ipython",
    "version": 3
   },
   "file_extension": ".py",
   "mimetype": "text/x-python",
   "name": "python",
   "nbconvert_exporter": "python",
   "pygments_lexer": "ipython3",
   "version": "3.11.9"
  }
 },
 "nbformat": 4,
 "nbformat_minor": 5
}
