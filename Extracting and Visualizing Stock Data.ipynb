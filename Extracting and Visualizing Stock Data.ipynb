{
 "cells": [
  {
   "cell_type": "markdown",
   "id": "c59be4d7",
   "metadata": {},
   "source": [
    "# **Extracting and Visualizing Stock Data**"
   ]
  },
  {
   "cell_type": "markdown",
   "id": "1ff40cb7",
   "metadata": {},
   "source": [
    "<h2>Table of Contents</h2> <div class=\"alert alert-block alert-info\" style=\"margin-top: 20px\"> <ul> <li>Define a Function that Makes a Graph</li> <li>Question 1: Use yfinance to Extract Stock Data</li> <li>Question 2: Use Webscraping to Extract Tesla Revenue Data</li> <li>Question 3: Use yfinance to Extract Stock Data</li> <li>Question 4: Use Webscraping to Extract GME Revenue Data</li> <li>Question 5: Plot Tesla Stock Graph</li> <li>Question 6: Plot GameStop Stock Graph</li> </ul> <p> Estimated Time Needed: <strong>30 min</strong></p> </div> <hr>\n"
   ]
  },
  {
   "cell_type": "markdown",
   "id": "532e1664",
   "metadata": {},
   "source": [
    "## Libriaries and option settings"
   ]
  },
  {
   "cell_type": "code",
   "execution_count": 2,
   "id": "cd8188a3",
   "metadata": {},
   "outputs": [],
   "source": [
    "import yfinance as yf\n",
    "import pandas as pd \n",
    "import requests \n",
    "from bs4 import BeautifulSoup \n",
    "import plotly.graph_objects as go \n",
    "from plotly.subplots import make_subplots\n",
    "import plotly.io as pio\n",
    "import warnings\n",
    "warnings.filterwarnings(\"ignore\", category=FutureWarning)"
   ]
  },
  {
   "cell_type": "markdown",
   "id": "56bbe802",
   "metadata": {},
   "source": [
    "***\n",
    "\n",
    "## Plot function\n"
   ]
  },
  {
   "cell_type": "code",
   "execution_count": null,
   "id": "151d5096",
   "metadata": {},
   "outputs": [
    {
     "ename": "NameError",
     "evalue": "name 'fig' is not defined",
     "output_type": "error",
     "traceback": [
      "\u001b[1;31m---------------------------------------------------------------------------\u001b[0m",
      "\u001b[1;31mNameError\u001b[0m                                 Traceback (most recent call last)",
      "Cell \u001b[1;32mIn[3], line 14\u001b[0m\n\u001b[0;32m     12\u001b[0m      fig\u001b[38;5;241m.\u001b[39mshow()\n\u001b[0;32m     13\u001b[0m \u001b[38;5;28;01mfrom\u001b[39;00m \u001b[38;5;21;01mIPython\u001b[39;00m\u001b[38;5;21;01m.\u001b[39;00m\u001b[38;5;21;01mdisplay\u001b[39;00m \u001b[38;5;28;01mimport\u001b[39;00m display, HTML \n\u001b[1;32m---> 14\u001b[0m fig_html \u001b[38;5;241m=\u001b[39m \u001b[43mfig\u001b[49m\u001b[38;5;241m.\u001b[39mto_html() \n\u001b[0;32m     15\u001b[0m display(HTML(fig_html))\n",
      "\u001b[1;31mNameError\u001b[0m: name 'fig' is not defined"
     ]
    }
   ],
   "source": [
    "\n",
    "def make_graph(stock_data, revenue_data, stock):\n",
    "     fig = make_subplots(rows=2, cols=1, shared_xaxes=True, subplot_titles=(\"Historical Share Price\", \"Historical Revenue\"), vertical_spacing = .3) \n",
    "     stock_data_specific = stock_data[stock_data.Date <= '2021-06-14']\n",
    "     revenue_data_specific = revenue_data[revenue_data.Date <= '2021-04-30']\n",
    "     fig.add_trace(go.Scatter(x=pd.to_datetime(stock_data_specific.Date, infer_datetime_format=True), y=stock_data_specific.Close.astype(\"float\"), name=\"Share Price\"), row=1, col=1)\n",
    "     fig.add_trace(go.Scatter(x=pd.to_datetime(revenue_data_specific.Date, infer_datetime_format=True), y=revenue_data_specific.Revenue.astype(\"float\"), name=\"Revenue\"), row=2, col=1)\n",
    "     fig.update_xaxes(title_text=\"Date\", row=1, col=1) \n",
    "     fig.update_xaxes(title_text=\"Date\", row=2, col=1)\n",
    "     fig.update_yaxes(title_text=\"Price ($US)\", row=1, col=1) \n",
    "     fig.update_yaxes(title_text=\"Revenue ($US Millions)\", row=2, col=1)\n",
    "     fig.update_layout(showlegend=False, height=900, title=stock, xaxis_rangeslider_visible=True) \n",
    "     fig.show()\n",
    "     from IPython.display import display, HTML \n",
    "     fig_html = fig.to_html() \n",
    "     display(HTML(fig_html))"
   ]
  },
  {
   "cell_type": "markdown",
   "id": "cbdd1d45",
   "metadata": {},
   "source": [
    "*** \n",
    "\n",
    "Question 1: "
   ]
  }
 ],
 "metadata": {
  "kernelspec": {
   "display_name": "myenv",
   "language": "python",
   "name": "python3"
  },
  "language_info": {
   "codemirror_mode": {
    "name": "ipython",
    "version": 3
   },
   "file_extension": ".py",
   "mimetype": "text/x-python",
   "name": "python",
   "nbconvert_exporter": "python",
   "pygments_lexer": "ipython3",
   "version": "3.9.19"
  }
 },
 "nbformat": 4,
 "nbformat_minor": 5
}
