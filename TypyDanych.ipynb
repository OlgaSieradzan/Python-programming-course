{
 "cells": [
  {
   "cell_type": "code",
   "execution_count": null,
   "metadata": {},
   "outputs": [],
   "source": [
    "import pandas as pd\n",
    "import numpy as np\n",
    "import matplotlib.pyplot as plt\n",
    "from matplotlib.ticker import FuncFormatter\n",
    "from matplotlib.lines import Line2D"
   ]
  },
  {
   "cell_type": "markdown",
   "metadata": {},
   "source": [
    "ĆWICZENIE #1\n",
    "* Biorąc pod uwagę string o dowolnej liczbie znaków, zwróć substring złożony z trzech środkowych znaków danego stringu:\n",
    "\n",
    "  * Przypadek 1:\n",
    "    * `sample_str = \"Datatypes\"`\n",
    "    * Oczekiwany wynik: `aty`\n",
    "  * Przypadek 2:\n",
    "    * `sample_str = \"FullStack\"`\n",
    "    * Oczekiwany wynik: `lSt`\n",
    "  * Przypadek 3:\n",
    "    * `sample_str = \"Python\"`\n",
    "    * Oczekiwany wynik: `yth` albo `tho`"
   ]
  },
  {
   "cell_type": "code",
   "execution_count": null,
   "metadata": {},
   "outputs": [
    {
     "data": {
      "text/plain": [
       "'Oryginalny wyraz: DataTypes, Środkowe 3 litery aTy'"
      ]
     },
     "execution_count": 6,
     "metadata": {},
     "output_type": "execute_result"
    }
   ],
   "source": [
    "def substring (s):\n",
    "    mid_index = round(int(len(s) / 2),0)\n",
    "    substring = s[mid_index-1:mid_index+2]\n",
    "    return(\"Oryginalny wyraz: \"+ s + \", Środkowe 3 litery \" + substring )\n",
    "\n",
    "substring(\"DataTypes\")"
   ]
  },
  {
   "cell_type": "code",
   "execution_count": 7,
   "metadata": {},
   "outputs": [
    {
     "data": {
      "text/plain": [
       "'Oryginalny wyraz: FullStack, Środkowe 3 litery lSt'"
      ]
     },
     "execution_count": 7,
     "metadata": {},
     "output_type": "execute_result"
    }
   ],
   "source": [
    "substring(\"FullStack\")"
   ]
  },
  {
   "cell_type": "code",
   "execution_count": 8,
   "metadata": {},
   "outputs": [
    {
     "data": {
      "text/plain": [
       "'Oryginalny wyraz: Python, Środkowe 3 litery tho'"
      ]
     },
     "execution_count": 8,
     "metadata": {},
     "output_type": "execute_result"
    }
   ],
   "source": [
    "substring(\"Python\")"
   ]
  },
  {
   "cell_type": "markdown",
   "metadata": {},
   "source": [
    "ĆWICZENIE #2\n",
    "\n",
    "* Biorąc pod uwagę 2 ciągi, `s1` i `s2`, utwórz nowy ciąg, dodając `s2` w środku `s1`\n",
    "* Dane:\n",
    "  * `s1 = \"FullStack\"`\n",
    "  * `s2 = \"Python\"`\n",
    "* Oczekiwany wynik:\\\n",
    "  `FullPythonStack`"
   ]
  },
  {
   "cell_type": "code",
   "execution_count": null,
   "metadata": {},
   "outputs": [],
   "source": [
    "def stringmerge (s1, s2):\n",
    "    mid_index = round(int(len(s1) / 2),0)\n",
    "    result = s1[:mid_index] + s2 + s1[mid_index:]\n",
    "    return (\"Oryginalne wyrazy: \"+ s1 +\" \"+ s2 + \", Połączone \" + result )"
   ]
  },
  {
   "cell_type": "code",
   "execution_count": 12,
   "metadata": {},
   "outputs": [
    {
     "data": {
      "text/plain": [
       "'Oryginalny wyrazy: FullStack Python, Połączone FullPythonStack'"
      ]
     },
     "execution_count": 12,
     "metadata": {},
     "output_type": "execute_result"
    }
   ],
   "source": [
    "stringmerge(\"FullStack\", \"Python\")"
   ]
  },
  {
   "cell_type": "markdown",
   "metadata": {},
   "source": [
    "ĆWICZENIE #3\n",
    "\n",
    "* Biorąc pod uwagę 2 ciągi, `s1` i `s2` zwróć nowy ciąg złożony z pierwszego, środkowego i ostatniego znaku każdego ciągu wejściowego\n",
    "* Dane:\n",
    "  * `s1 = \"America\"`\n",
    "  * `s2 = \"Japan\"`\n",
    "* Oczekiwany wynik:\\\n",
    "`AJrpan`"
   ]
  },
  {
   "cell_type": "code",
   "execution_count": 14,
   "metadata": {},
   "outputs": [],
   "source": [
    "def substringv2 (s1,s2):\n",
    "    result = s1[0]+s2[0]+s1[len(s1)//2]+s2[len(s2)//2]+s1[-1]+s2[-1]\n",
    "    return (\"Oryginalne wyrazy: \"+ s1 +\" \"+ s2 + \", Połączone \" + result)\n"
   ]
  },
  {
   "cell_type": "code",
   "execution_count": 15,
   "metadata": {},
   "outputs": [
    {
     "data": {
      "text/plain": [
       "'Oryginalne wyrazy: America Japan, Połączone AJrpan'"
      ]
     },
     "execution_count": 15,
     "metadata": {},
     "output_type": "execute_result"
    }
   ],
   "source": [
    "substringv2(\"America\", \"Japan\")"
   ]
  },
  {
   "cell_type": "markdown",
   "metadata": {},
   "source": [
    "ĆWICZENIE #4\n",
    "\n",
    "* Odwróć podany ciąg\n",
    "* Dane:\\\n",
    "`sample_str = \"Python\"` \n",
    "* Oczekiwany wynik:\\\n",
    "`nohtyP`"
   ]
  },
  {
   "cell_type": "code",
   "execution_count": 16,
   "metadata": {},
   "outputs": [],
   "source": [
    "def stringreverse (s):\n",
    "    result = s[::-1]\n",
    "    return(\"Oryginalny wyraz: \"+ s + \", Odwrócony wyraz \" + result )"
   ]
  },
  {
   "cell_type": "code",
   "execution_count": 17,
   "metadata": {},
   "outputs": [
    {
     "data": {
      "text/plain": [
       "'Oryginalny wyraz: Python, Odwrócony wyraz nohtyP'"
      ]
     },
     "execution_count": 17,
     "metadata": {},
     "output_type": "execute_result"
    }
   ],
   "source": [
    "stringreverse(\"Python\")"
   ]
  },
  {
   "cell_type": "markdown",
   "metadata": {},
   "source": [
    "ĆWICZENIE #5\n",
    "\n",
    "Odwróć dowolną krotkę"
   ]
  },
  {
   "cell_type": "code",
   "execution_count": 29,
   "metadata": {},
   "outputs": [],
   "source": [
    "def tuplereverse (t):\n",
    "    result = t[::-1]\n",
    "    return(\"Oryginalna krotka: \"+ str(t) + \", Odwrócona krotka \" + str(result))"
   ]
  },
  {
   "cell_type": "code",
   "execution_count": 28,
   "metadata": {},
   "outputs": [
    {
     "data": {
      "text/plain": [
       "\"Oryginalna krotka: ('Ikona', 'Polaryzacja', 'Krew')\\\\, Odwrócona krotka ('Krew', 'Polaryzacja', 'Ikona')\""
      ]
     },
     "execution_count": 28,
     "metadata": {},
     "output_type": "execute_result"
    }
   ],
   "source": [
    "t = (\"Ikona\", \"Polaryzacja\", \"Krew\")\n",
    "tuplereverse(t)"
   ]
  },
  {
   "cell_type": "markdown",
   "metadata": {},
   "source": [
    "ĆWICZENIE 6\n",
    "\n",
    "Dana krotka jest krotką zagnieżdżoną. Napisz program w Pythonie, który wypisze wartość `20`.\n",
    "\n",
    "Sample_tuple = (\"Pomarańczowy\", [10, 20, 30], (5, 15, 25))"
   ]
  },
  {
   "cell_type": "code",
   "execution_count": null,
   "metadata": {},
   "outputs": [],
   "source": [
    "def tupleretrive(t):\n",
    "    result = t[1][1] # drugi element w drugim elemencie\n",
    "    return(\"Oryginalna krotka: \"+ str(t) + \", Środkowy wyraz: \" + str(result))"
   ]
  },
  {
   "cell_type": "code",
   "execution_count": 31,
   "metadata": {},
   "outputs": [
    {
     "data": {
      "text/plain": [
       "\"Oryginalna krotka: ('Pomarańczowy', [10, 20, 30], (5, 15, 25)), Środkowy wyraz 20\""
      ]
     },
     "execution_count": 31,
     "metadata": {},
     "output_type": "execute_result"
    }
   ],
   "source": [
    "Sample_tuple = (\"Pomarańczowy\", [10, 20, 30], (5, 15, 25))\n",
    "\n",
    "tupleretrive(Sample_tuple)"
   ]
  },
  {
   "cell_type": "markdown",
   "metadata": {},
   "source": [
    "ĆWICZENIE 7\n",
    "\n",
    "* Utwórz listę zawierającą przykładowe imiona \n",
    "* Następnie ją posortuj alfabetycznie, oraz \n",
    "* Sprawdź ile elementów ona zawiera\n"
   ]
  },
  {
   "cell_type": "code",
   "execution_count": null,
   "metadata": {},
   "outputs": [],
   "source": [
    "def listoverview(l):\n",
    "    return(\"Lista uczniów:\" + l.sort() + \" Liczba uczniów: \" + str(len(l)))"
   ]
  },
  {
   "cell_type": "code",
   "execution_count": 44,
   "metadata": {},
   "outputs": [
    {
     "ename": "TypeError",
     "evalue": "can only concatenate str (not \"NoneType\") to str",
     "output_type": "error",
     "traceback": [
      "\u001b[1;31m---------------------------------------------------------------------------\u001b[0m",
      "\u001b[1;31mTypeError\u001b[0m                                 Traceback (most recent call last)",
      "Cell \u001b[1;32mIn[44], line 3\u001b[0m\n\u001b[0;32m      1\u001b[0m students \u001b[38;5;241m=\u001b[39m [\u001b[38;5;124m\"\u001b[39m\u001b[38;5;124mPatrycja\u001b[39m\u001b[38;5;124m\"\u001b[39m, \u001b[38;5;124m\"\u001b[39m\u001b[38;5;124mKacper\u001b[39m\u001b[38;5;124m\"\u001b[39m, \u001b[38;5;124m\"\u001b[39m\u001b[38;5;124mBartosz\u001b[39m\u001b[38;5;124m\"\u001b[39m, \u001b[38;5;124m\"\u001b[39m\u001b[38;5;124mPaulina\u001b[39m\u001b[38;5;124m\"\u001b[39m, \u001b[38;5;124m\"\u001b[39m\u001b[38;5;124mCelina\u001b[39m\u001b[38;5;124m\"\u001b[39m]\n\u001b[1;32m----> 3\u001b[0m \u001b[43mlistoverview\u001b[49m\u001b[43m(\u001b[49m\u001b[43mstudents\u001b[49m\u001b[43m)\u001b[49m\n",
      "Cell \u001b[1;32mIn[42], line 2\u001b[0m, in \u001b[0;36mlistoverview\u001b[1;34m(l)\u001b[0m\n\u001b[0;32m      1\u001b[0m \u001b[38;5;28;01mdef\u001b[39;00m \u001b[38;5;21mlistoverview\u001b[39m(l):\n\u001b[1;32m----> 2\u001b[0m     \u001b[38;5;28;01mreturn\u001b[39;00m(\u001b[38;5;124;43m\"\u001b[39;49m\u001b[38;5;124;43mLista uczniów:\u001b[39;49m\u001b[38;5;124;43m\"\u001b[39;49m\u001b[43m \u001b[49m\u001b[38;5;241;43m+\u001b[39;49m\u001b[43ml\u001b[49m\u001b[38;5;241;43m.\u001b[39;49m\u001b[43msort\u001b[49m\u001b[43m(\u001b[49m\u001b[43m)\u001b[49m \u001b[38;5;241m+\u001b[39m \u001b[38;5;124m\"\u001b[39m\u001b[38;5;124m Liczba uczniów: \u001b[39m\u001b[38;5;124m\"\u001b[39m \u001b[38;5;241m+\u001b[39m \u001b[38;5;28mstr\u001b[39m(\u001b[38;5;28mlen\u001b[39m(l)))\n",
      "\u001b[1;31mTypeError\u001b[0m: can only concatenate str (not \"NoneType\") to str"
     ]
    }
   ],
   "source": [
    "students = [\"Patrycja\", \"Kacper\", \"Bartosz\", \"Paulina\", \"Celina\"]\n",
    "\n",
    "listoverview(students)"
   ]
  },
  {
   "cell_type": "markdown",
   "metadata": {},
   "source": [
    "ĆWICZENIE 8\n",
    "\n",
    "Napisz program, który:\n",
    "Będzie prosił użytkownika o podanie dwóch liczb, i\n",
    "Wypisze:\n",
    "Wynik ich dzielenia,\n",
    "Resztę z dzielenia, oraz\n",
    "Wynik dzielenia całkowitego"
   ]
  },
  {
   "cell_type": "code",
   "execution_count": null,
   "metadata": {},
   "outputs": [],
   "source": [
    "def smallcalculator():\n",
    "\n",
    "    a = int (input(\"Poprosze o liczbe 1\"))\n",
    "    b = int (input(\"Poprosze o liczbe 2\"))\n",
    "\n",
    "    dzielenie = a/b\n",
    "    reszta = a%b\n",
    "    dziel_cal = a//b\n",
    "\n",
    "    return ( \"Dzielenie :\\n\" + str(dzielenie) + \" Reszta\\n \" + str(reszta) + \" Dzielenie całkowite:\\n \" + str(dziel_cal))"
   ]
  },
  {
   "cell_type": "code",
   "execution_count": null,
   "metadata": {},
   "outputs": [
    {
     "ename": "ZeroDivisionError",
     "evalue": "division by zero",
     "output_type": "error",
     "traceback": [
      "\u001b[1;31m---------------------------------------------------------------------------\u001b[0m",
      "\u001b[1;31mZeroDivisionError\u001b[0m                         Traceback (most recent call last)",
      "Cell \u001b[1;32mIn[37], line 1\u001b[0m\n\u001b[1;32m----> 1\u001b[0m \u001b[43mcw\u001b[49m\u001b[43m(\u001b[49m\u001b[43m)\u001b[49m\n",
      "Cell \u001b[1;32mIn[36], line 6\u001b[0m, in \u001b[0;36mcw\u001b[1;34m()\u001b[0m\n\u001b[0;32m      3\u001b[0m a \u001b[38;5;241m=\u001b[39m \u001b[38;5;28mint\u001b[39m (\u001b[38;5;28minput\u001b[39m(\u001b[38;5;124m\"\u001b[39m\u001b[38;5;124mPoprosze o liczbe 1\u001b[39m\u001b[38;5;124m\"\u001b[39m))\n\u001b[0;32m      4\u001b[0m b \u001b[38;5;241m=\u001b[39m \u001b[38;5;28mint\u001b[39m (\u001b[38;5;28minput\u001b[39m(\u001b[38;5;124m\"\u001b[39m\u001b[38;5;124mPoprosze o liczbe 2\u001b[39m\u001b[38;5;124m\"\u001b[39m))\n\u001b[1;32m----> 6\u001b[0m dzielenie \u001b[38;5;241m=\u001b[39m \u001b[43ma\u001b[49m\u001b[38;5;241;43m/\u001b[39;49m\u001b[43mb\u001b[49m\n\u001b[0;32m      7\u001b[0m reszta \u001b[38;5;241m=\u001b[39m a\u001b[38;5;241m%\u001b[39mb\n\u001b[0;32m      8\u001b[0m dziel_cal \u001b[38;5;241m=\u001b[39m a\u001b[38;5;241m/\u001b[39m\u001b[38;5;241m/\u001b[39mb\n",
      "\u001b[1;31mZeroDivisionError\u001b[0m: division by zero"
     ]
    }
   ],
   "source": [
    "smallcalculator()"
   ]
  }
 ],
 "metadata": {
  "kernelspec": {
   "display_name": "Python 3",
   "language": "python",
   "name": "python3"
  },
  "language_info": {
   "codemirror_mode": {
    "name": "ipython",
    "version": 3
   },
   "file_extension": ".py",
   "mimetype": "text/x-python",
   "name": "python",
   "nbconvert_exporter": "python",
   "pygments_lexer": "ipython3",
   "version": "3.13.0"
  }
 },
 "nbformat": 4,
 "nbformat_minor": 2
}
